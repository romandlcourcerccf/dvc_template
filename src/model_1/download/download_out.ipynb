{
 "cells": [
  {
   "cell_type": "code",
   "execution_count": 1,
   "id": "eddf01ec",
   "metadata": {
    "execution": {
     "iopub.execute_input": "2024-08-22T14:23:56.918265Z",
     "iopub.status.busy": "2024-08-22T14:23:56.918085Z",
     "iopub.status.idle": "2024-08-22T14:23:56.921039Z",
     "shell.execute_reply": "2024-08-22T14:23:56.920703Z"
    },
    "papermill": {
     "duration": 0.012173,
     "end_time": "2024-08-22T14:23:56.922121",
     "exception": false,
     "start_time": "2024-08-22T14:23:56.909948",
     "status": "completed"
    },
    "tags": []
   },
   "outputs": [],
   "source": [
    "# %pip install pandas_datareader"
   ]
  },
  {
   "cell_type": "code",
   "execution_count": 2,
   "id": "311ad9bb",
   "metadata": {
    "execution": {
     "iopub.execute_input": "2024-08-22T14:23:56.925012Z",
     "iopub.status.busy": "2024-08-22T14:23:56.924879Z",
     "iopub.status.idle": "2024-08-22T14:23:56.926595Z",
     "shell.execute_reply": "2024-08-22T14:23:56.926330Z"
    },
    "papermill": {
     "duration": 0.004072,
     "end_time": "2024-08-22T14:23:56.927515",
     "exception": false,
     "start_time": "2024-08-22T14:23:56.923443",
     "status": "completed"
    },
    "tags": []
   },
   "outputs": [],
   "source": [
    "# %pip install yfinance"
   ]
  },
  {
   "cell_type": "code",
   "execution_count": 3,
   "id": "79e2b99f",
   "metadata": {
    "execution": {
     "iopub.execute_input": "2024-08-22T14:23:56.929924Z",
     "iopub.status.busy": "2024-08-22T14:23:56.929813Z",
     "iopub.status.idle": "2024-08-22T14:23:56.931494Z",
     "shell.execute_reply": "2024-08-22T14:23:56.931227Z"
    },
    "papermill": {
     "duration": 0.003847,
     "end_time": "2024-08-22T14:23:56.932386",
     "exception": false,
     "start_time": "2024-08-22T14:23:56.928539",
     "status": "completed"
    },
    "tags": []
   },
   "outputs": [],
   "source": [
    "# %pip install pyarrow"
   ]
  },
  {
   "cell_type": "code",
   "execution_count": 4,
   "id": "292536b9",
   "metadata": {
    "execution": {
     "iopub.execute_input": "2024-08-22T14:23:56.934692Z",
     "iopub.status.busy": "2024-08-22T14:23:56.934581Z",
     "iopub.status.idle": "2024-08-22T14:23:58.053039Z",
     "shell.execute_reply": "2024-08-22T14:23:58.052744Z"
    },
    "papermill": {
     "duration": 1.120667,
     "end_time": "2024-08-22T14:23:58.053994",
     "exception": false,
     "start_time": "2024-08-22T14:23:56.933327",
     "status": "completed"
    },
    "tags": []
   },
   "outputs": [
    {
     "name": "stdout",
     "output_type": "stream",
     "text": [
      "LOAD_DATA_PATH : /Users/roman/projects/dvc_template/data/model_1/download\n",
      "LOAD_DATA_FILE : raw_data.parquet\n"
     ]
    },
    {
     "name": "stderr",
     "output_type": "stream",
     "text": [
      "\r",
      "[*********************100%%**********************]  1 of 1 completed"
     ]
    },
    {
     "name": "stderr",
     "output_type": "stream",
     "text": [
      "\n"
     ]
    }
   ],
   "source": [
    "from dotenv import load_dotenv\n",
    "load_dotenv()\n",
    "\n",
    "import yfinance as yf\n",
    "import pandas as pd\n",
    "import numpy as np\n",
    "\n",
    "import pyarrow as pa\n",
    "import pyarrow.parquet as pq\n",
    "from pathlib import Path\n",
    "\n",
    "from datetime import datetime\n",
    "\n",
    "import os\n",
    "\n",
    "LOAD_DATA_PATH = os.environ.get(\"MODEL_1_LOAD_DATA_PATH\")\n",
    "LOAD_DATA_FILE = os.environ.get(\"MODEL_1_LOAD_DATA_FILE\")\n",
    "\n",
    "print('LOAD_DATA_PATH :', LOAD_DATA_PATH)\n",
    "print('LOAD_DATA_FILE :', LOAD_DATA_FILE)\n",
    "\n",
    "today = datetime.today().strftime('%Y-%m-%d')\n",
    "\n",
    "data = yf.download(tickers='BTC-USD', start=\"2017-01-02\", end=today)"
   ]
  },
  {
   "cell_type": "code",
   "execution_count": 5,
   "id": "0c030040",
   "metadata": {
    "execution": {
     "iopub.execute_input": "2024-08-22T14:23:58.056785Z",
     "iopub.status.busy": "2024-08-22T14:23:58.056629Z",
     "iopub.status.idle": "2024-08-22T14:23:58.062644Z",
     "shell.execute_reply": "2024-08-22T14:23:58.062425Z"
    },
    "papermill": {
     "duration": 0.008237,
     "end_time": "2024-08-22T14:23:58.063466",
     "exception": false,
     "start_time": "2024-08-22T14:23:58.055229",
     "status": "completed"
    },
    "tags": []
   },
   "outputs": [
    {
     "data": {
      "text/html": [
       "<div>\n",
       "<style scoped>\n",
       "    .dataframe tbody tr th:only-of-type {\n",
       "        vertical-align: middle;\n",
       "    }\n",
       "\n",
       "    .dataframe tbody tr th {\n",
       "        vertical-align: top;\n",
       "    }\n",
       "\n",
       "    .dataframe thead th {\n",
       "        text-align: right;\n",
       "    }\n",
       "</style>\n",
       "<table border=\"1\" class=\"dataframe\">\n",
       "  <thead>\n",
       "    <tr style=\"text-align: right;\">\n",
       "      <th></th>\n",
       "      <th>Open</th>\n",
       "      <th>High</th>\n",
       "      <th>Low</th>\n",
       "      <th>Close</th>\n",
       "      <th>Adj Close</th>\n",
       "      <th>Volume</th>\n",
       "    </tr>\n",
       "    <tr>\n",
       "      <th>Date</th>\n",
       "      <th></th>\n",
       "      <th></th>\n",
       "      <th></th>\n",
       "      <th></th>\n",
       "      <th></th>\n",
       "      <th></th>\n",
       "    </tr>\n",
       "  </thead>\n",
       "  <tbody>\n",
       "    <tr>\n",
       "      <th>2017-01-02</th>\n",
       "      <td>998.617004</td>\n",
       "      <td>1031.390015</td>\n",
       "      <td>996.702026</td>\n",
       "      <td>1021.750000</td>\n",
       "      <td>1021.750000</td>\n",
       "      <td>222184992</td>\n",
       "    </tr>\n",
       "    <tr>\n",
       "      <th>2017-01-03</th>\n",
       "      <td>1021.599976</td>\n",
       "      <td>1044.079956</td>\n",
       "      <td>1021.599976</td>\n",
       "      <td>1043.839966</td>\n",
       "      <td>1043.839966</td>\n",
       "      <td>185168000</td>\n",
       "    </tr>\n",
       "    <tr>\n",
       "      <th>2017-01-04</th>\n",
       "      <td>1044.400024</td>\n",
       "      <td>1159.420044</td>\n",
       "      <td>1044.400024</td>\n",
       "      <td>1154.729980</td>\n",
       "      <td>1154.729980</td>\n",
       "      <td>344945984</td>\n",
       "    </tr>\n",
       "    <tr>\n",
       "      <th>2017-01-05</th>\n",
       "      <td>1156.729980</td>\n",
       "      <td>1191.099976</td>\n",
       "      <td>910.416992</td>\n",
       "      <td>1013.380005</td>\n",
       "      <td>1013.380005</td>\n",
       "      <td>510199008</td>\n",
       "    </tr>\n",
       "    <tr>\n",
       "      <th>2017-01-06</th>\n",
       "      <td>1014.239990</td>\n",
       "      <td>1046.810059</td>\n",
       "      <td>883.943970</td>\n",
       "      <td>902.200989</td>\n",
       "      <td>902.200989</td>\n",
       "      <td>351876000</td>\n",
       "    </tr>\n",
       "    <tr>\n",
       "      <th>2017-01-07</th>\n",
       "      <td>903.487000</td>\n",
       "      <td>908.585022</td>\n",
       "      <td>823.556030</td>\n",
       "      <td>908.585022</td>\n",
       "      <td>908.585022</td>\n",
       "      <td>279550016</td>\n",
       "    </tr>\n",
       "    <tr>\n",
       "      <th>2017-01-08</th>\n",
       "      <td>908.174988</td>\n",
       "      <td>942.723999</td>\n",
       "      <td>887.249023</td>\n",
       "      <td>911.198975</td>\n",
       "      <td>911.198975</td>\n",
       "      <td>158715008</td>\n",
       "    </tr>\n",
       "    <tr>\n",
       "      <th>2017-01-09</th>\n",
       "      <td>913.244019</td>\n",
       "      <td>913.685974</td>\n",
       "      <td>879.807007</td>\n",
       "      <td>902.828003</td>\n",
       "      <td>902.828003</td>\n",
       "      <td>141876992</td>\n",
       "    </tr>\n",
       "    <tr>\n",
       "      <th>2017-01-10</th>\n",
       "      <td>902.440002</td>\n",
       "      <td>914.872986</td>\n",
       "      <td>901.059998</td>\n",
       "      <td>907.679016</td>\n",
       "      <td>907.679016</td>\n",
       "      <td>115808000</td>\n",
       "    </tr>\n",
       "    <tr>\n",
       "      <th>2017-01-11</th>\n",
       "      <td>908.114990</td>\n",
       "      <td>919.447998</td>\n",
       "      <td>762.765015</td>\n",
       "      <td>777.757019</td>\n",
       "      <td>777.757019</td>\n",
       "      <td>310928992</td>\n",
       "    </tr>\n",
       "  </tbody>\n",
       "</table>\n",
       "</div>"
      ],
      "text/plain": [
       "                   Open         High          Low        Close    Adj Close  \\\n",
       "Date                                                                          \n",
       "2017-01-02   998.617004  1031.390015   996.702026  1021.750000  1021.750000   \n",
       "2017-01-03  1021.599976  1044.079956  1021.599976  1043.839966  1043.839966   \n",
       "2017-01-04  1044.400024  1159.420044  1044.400024  1154.729980  1154.729980   \n",
       "2017-01-05  1156.729980  1191.099976   910.416992  1013.380005  1013.380005   \n",
       "2017-01-06  1014.239990  1046.810059   883.943970   902.200989   902.200989   \n",
       "2017-01-07   903.487000   908.585022   823.556030   908.585022   908.585022   \n",
       "2017-01-08   908.174988   942.723999   887.249023   911.198975   911.198975   \n",
       "2017-01-09   913.244019   913.685974   879.807007   902.828003   902.828003   \n",
       "2017-01-10   902.440002   914.872986   901.059998   907.679016   907.679016   \n",
       "2017-01-11   908.114990   919.447998   762.765015   777.757019   777.757019   \n",
       "\n",
       "               Volume  \n",
       "Date                   \n",
       "2017-01-02  222184992  \n",
       "2017-01-03  185168000  \n",
       "2017-01-04  344945984  \n",
       "2017-01-05  510199008  \n",
       "2017-01-06  351876000  \n",
       "2017-01-07  279550016  \n",
       "2017-01-08  158715008  \n",
       "2017-01-09  141876992  \n",
       "2017-01-10  115808000  \n",
       "2017-01-11  310928992  "
      ]
     },
     "execution_count": 5,
     "metadata": {},
     "output_type": "execute_result"
    }
   ],
   "source": [
    "data.head(10)"
   ]
  },
  {
   "cell_type": "code",
   "execution_count": 6,
   "id": "aad9631a",
   "metadata": {
    "execution": {
     "iopub.execute_input": "2024-08-22T14:23:58.065868Z",
     "iopub.status.busy": "2024-08-22T14:23:58.065764Z",
     "iopub.status.idle": "2024-08-22T14:23:58.069825Z",
     "shell.execute_reply": "2024-08-22T14:23:58.069606Z"
    },
    "papermill": {
     "duration": 0.006037,
     "end_time": "2024-08-22T14:23:58.070561",
     "exception": false,
     "start_time": "2024-08-22T14:23:58.064524",
     "status": "completed"
    },
    "tags": []
   },
   "outputs": [
    {
     "data": {
      "text/html": [
       "<div>\n",
       "<style scoped>\n",
       "    .dataframe tbody tr th:only-of-type {\n",
       "        vertical-align: middle;\n",
       "    }\n",
       "\n",
       "    .dataframe tbody tr th {\n",
       "        vertical-align: top;\n",
       "    }\n",
       "\n",
       "    .dataframe thead th {\n",
       "        text-align: right;\n",
       "    }\n",
       "</style>\n",
       "<table border=\"1\" class=\"dataframe\">\n",
       "  <thead>\n",
       "    <tr style=\"text-align: right;\">\n",
       "      <th></th>\n",
       "      <th>Open</th>\n",
       "      <th>High</th>\n",
       "      <th>Low</th>\n",
       "      <th>Close</th>\n",
       "      <th>Adj Close</th>\n",
       "      <th>Volume</th>\n",
       "    </tr>\n",
       "    <tr>\n",
       "      <th>Date</th>\n",
       "      <th></th>\n",
       "      <th></th>\n",
       "      <th></th>\n",
       "      <th></th>\n",
       "      <th></th>\n",
       "      <th></th>\n",
       "    </tr>\n",
       "  </thead>\n",
       "  <tbody>\n",
       "    <tr>\n",
       "      <th>2024-08-12</th>\n",
       "      <td>58719.394531</td>\n",
       "      <td>60680.332031</td>\n",
       "      <td>57688.898438</td>\n",
       "      <td>59354.515625</td>\n",
       "      <td>59354.515625</td>\n",
       "      <td>37078637820</td>\n",
       "    </tr>\n",
       "    <tr>\n",
       "      <th>2024-08-13</th>\n",
       "      <td>59356.207031</td>\n",
       "      <td>61572.398438</td>\n",
       "      <td>58506.253906</td>\n",
       "      <td>60609.566406</td>\n",
       "      <td>60609.566406</td>\n",
       "      <td>30327698167</td>\n",
       "    </tr>\n",
       "    <tr>\n",
       "      <th>2024-08-14</th>\n",
       "      <td>60611.050781</td>\n",
       "      <td>61687.757812</td>\n",
       "      <td>58472.875000</td>\n",
       "      <td>58737.269531</td>\n",
       "      <td>58737.269531</td>\n",
       "      <td>29961696180</td>\n",
       "    </tr>\n",
       "    <tr>\n",
       "      <th>2024-08-15</th>\n",
       "      <td>58733.261719</td>\n",
       "      <td>59838.648438</td>\n",
       "      <td>56161.593750</td>\n",
       "      <td>57560.097656</td>\n",
       "      <td>57560.097656</td>\n",
       "      <td>35682112440</td>\n",
       "    </tr>\n",
       "    <tr>\n",
       "      <th>2024-08-16</th>\n",
       "      <td>57560.273438</td>\n",
       "      <td>59847.359375</td>\n",
       "      <td>57110.019531</td>\n",
       "      <td>58894.105469</td>\n",
       "      <td>58894.105469</td>\n",
       "      <td>29350938673</td>\n",
       "    </tr>\n",
       "    <tr>\n",
       "      <th>2024-08-17</th>\n",
       "      <td>58893.531250</td>\n",
       "      <td>59694.667969</td>\n",
       "      <td>58814.832031</td>\n",
       "      <td>59478.972656</td>\n",
       "      <td>59478.972656</td>\n",
       "      <td>13589684021</td>\n",
       "    </tr>\n",
       "    <tr>\n",
       "      <th>2024-08-18</th>\n",
       "      <td>59468.132812</td>\n",
       "      <td>60262.718750</td>\n",
       "      <td>58445.402344</td>\n",
       "      <td>58483.964844</td>\n",
       "      <td>58483.964844</td>\n",
       "      <td>17740625837</td>\n",
       "    </tr>\n",
       "    <tr>\n",
       "      <th>2024-08-19</th>\n",
       "      <td>58480.710938</td>\n",
       "      <td>59612.660156</td>\n",
       "      <td>57864.710938</td>\n",
       "      <td>59493.453125</td>\n",
       "      <td>59493.453125</td>\n",
       "      <td>25911207712</td>\n",
       "    </tr>\n",
       "    <tr>\n",
       "      <th>2024-08-20</th>\n",
       "      <td>59493.453125</td>\n",
       "      <td>61396.328125</td>\n",
       "      <td>58610.882812</td>\n",
       "      <td>59012.792969</td>\n",
       "      <td>59012.792969</td>\n",
       "      <td>31613400008</td>\n",
       "    </tr>\n",
       "    <tr>\n",
       "      <th>2024-08-21</th>\n",
       "      <td>59014.988281</td>\n",
       "      <td>61834.351562</td>\n",
       "      <td>58823.445312</td>\n",
       "      <td>61175.191406</td>\n",
       "      <td>61175.191406</td>\n",
       "      <td>32731154072</td>\n",
       "    </tr>\n",
       "  </tbody>\n",
       "</table>\n",
       "</div>"
      ],
      "text/plain": [
       "                    Open          High           Low         Close  \\\n",
       "Date                                                                 \n",
       "2024-08-12  58719.394531  60680.332031  57688.898438  59354.515625   \n",
       "2024-08-13  59356.207031  61572.398438  58506.253906  60609.566406   \n",
       "2024-08-14  60611.050781  61687.757812  58472.875000  58737.269531   \n",
       "2024-08-15  58733.261719  59838.648438  56161.593750  57560.097656   \n",
       "2024-08-16  57560.273438  59847.359375  57110.019531  58894.105469   \n",
       "2024-08-17  58893.531250  59694.667969  58814.832031  59478.972656   \n",
       "2024-08-18  59468.132812  60262.718750  58445.402344  58483.964844   \n",
       "2024-08-19  58480.710938  59612.660156  57864.710938  59493.453125   \n",
       "2024-08-20  59493.453125  61396.328125  58610.882812  59012.792969   \n",
       "2024-08-21  59014.988281  61834.351562  58823.445312  61175.191406   \n",
       "\n",
       "               Adj Close       Volume  \n",
       "Date                                   \n",
       "2024-08-12  59354.515625  37078637820  \n",
       "2024-08-13  60609.566406  30327698167  \n",
       "2024-08-14  58737.269531  29961696180  \n",
       "2024-08-15  57560.097656  35682112440  \n",
       "2024-08-16  58894.105469  29350938673  \n",
       "2024-08-17  59478.972656  13589684021  \n",
       "2024-08-18  58483.964844  17740625837  \n",
       "2024-08-19  59493.453125  25911207712  \n",
       "2024-08-20  59012.792969  31613400008  \n",
       "2024-08-21  61175.191406  32731154072  "
      ]
     },
     "execution_count": 6,
     "metadata": {},
     "output_type": "execute_result"
    }
   ],
   "source": [
    "data.tail(10)"
   ]
  },
  {
   "cell_type": "code",
   "execution_count": 7,
   "id": "c01f3fff",
   "metadata": {
    "execution": {
     "iopub.execute_input": "2024-08-22T14:23:58.072899Z",
     "iopub.status.busy": "2024-08-22T14:23:58.072809Z",
     "iopub.status.idle": "2024-08-22T14:23:58.078676Z",
     "shell.execute_reply": "2024-08-22T14:23:58.078476Z"
    },
    "papermill": {
     "duration": 0.007747,
     "end_time": "2024-08-22T14:23:58.079303",
     "exception": false,
     "start_time": "2024-08-22T14:23:58.071556",
     "status": "completed"
    },
    "tags": []
   },
   "outputs": [
    {
     "name": "stdout",
     "output_type": "stream",
     "text": [
      "Summary Statistics:\n",
      "               Open          High           Low         Close     Adj Close  \\\n",
      "count   2789.000000   2789.000000   2789.000000   2789.000000   2789.000000   \n",
      "mean   22632.587663  23150.066237  22079.825898  22652.673152  22652.673152   \n",
      "std    19325.873180  19759.559144  18846.417418  19333.163296  19333.163296   \n",
      "min      775.177979    823.307007    755.755981    777.757019    777.757019   \n",
      "25%     7220.880859   7388.259766   7072.490234   7238.966797   7238.966797   \n",
      "50%    15864.099609  16317.808594  15202.799805  15838.500000  15838.500000   \n",
      "75%    36573.183594  37493.800781  34948.500000  36585.703125  36585.703125   \n",
      "max    73079.375000  73750.070312  71334.093750  73083.500000  73083.500000   \n",
      "\n",
      "             Volume  \n",
      "count  2.789000e+03  \n",
      "mean   2.277752e+10  \n",
      "std    1.898223e+10  \n",
      "min    6.085170e+07  \n",
      "25%    7.548550e+09  \n",
      "50%    2.012126e+10  \n",
      "75%    3.248331e+10  \n",
      "max    3.509679e+11  \n"
     ]
    }
   ],
   "source": [
    "print('Summary Statistics:')\n",
    "print(data.describe())"
   ]
  },
  {
   "cell_type": "code",
   "execution_count": 8,
   "id": "bb22ad22",
   "metadata": {
    "execution": {
     "iopub.execute_input": "2024-08-22T14:23:58.081389Z",
     "iopub.status.busy": "2024-08-22T14:23:58.081305Z",
     "iopub.status.idle": "2024-08-22T14:23:58.083053Z",
     "shell.execute_reply": "2024-08-22T14:23:58.082878Z"
    },
    "papermill": {
     "duration": 0.003488,
     "end_time": "2024-08-22T14:23:58.083674",
     "exception": false,
     "start_time": "2024-08-22T14:23:58.080186",
     "status": "completed"
    },
    "tags": []
   },
   "outputs": [
    {
     "name": "stdout",
     "output_type": "stream",
     "text": [
      "Data Types: Open         float64\n",
      "High         float64\n",
      "Low          float64\n",
      "Close        float64\n",
      "Adj Close    float64\n",
      "Volume         int64\n",
      "dtype: object\n"
     ]
    }
   ],
   "source": [
    "print('Data Types:', data.dtypes)"
   ]
  },
  {
   "cell_type": "code",
   "execution_count": 9,
   "id": "66841c60",
   "metadata": {
    "execution": {
     "iopub.execute_input": "2024-08-22T14:23:58.085924Z",
     "iopub.status.busy": "2024-08-22T14:23:58.085846Z",
     "iopub.status.idle": "2024-08-22T14:23:58.090252Z",
     "shell.execute_reply": "2024-08-22T14:23:58.090040Z"
    },
    "papermill": {
     "duration": 0.006197,
     "end_time": "2024-08-22T14:23:58.090857",
     "exception": false,
     "start_time": "2024-08-22T14:23:58.084660",
     "status": "completed"
    },
    "tags": []
   },
   "outputs": [],
   "source": [
    "p_data = pa.Table.from_pandas(data)\n",
    "pq.write_table(p_data, Path(LOAD_DATA_PATH) / LOAD_DATA_FILE)"
   ]
  }
 ],
 "metadata": {
  "kernelspec": {
   "display_name": "dvc_template",
   "language": "python",
   "name": "python3"
  },
  "language_info": {
   "codemirror_mode": {
    "name": "ipython",
    "version": 3
   },
   "file_extension": ".py",
   "mimetype": "text/x-python",
   "name": "python",
   "nbconvert_exporter": "python",
   "pygments_lexer": "ipython3",
   "version": "3.11.9"
  },
  "papermill": {
   "default_parameters": {},
   "duration": 1.878038,
   "end_time": "2024-08-22T14:23:58.206277",
   "environment_variables": {},
   "exception": null,
   "input_path": "src/model_1/download/download.ipynb",
   "output_path": "src/model_1/download/download_out.ipynb",
   "parameters": {},
   "start_time": "2024-08-22T14:23:56.328239",
   "version": "2.6.0"
  }
 },
 "nbformat": 4,
 "nbformat_minor": 5
}