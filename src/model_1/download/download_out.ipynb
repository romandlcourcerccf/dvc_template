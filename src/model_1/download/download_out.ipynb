{
 "cells": [
  {
   "cell_type": "code",
   "execution_count": 1,
   "id": "252e4d6c",
   "metadata": {
    "execution": {
     "iopub.execute_input": "2024-08-20T13:27:58.962700Z",
     "iopub.status.busy": "2024-08-20T13:27:58.962212Z",
     "iopub.status.idle": "2024-08-20T13:27:58.968399Z",
     "shell.execute_reply": "2024-08-20T13:27:58.967880Z"
    },
    "papermill": {
     "duration": 0.014525,
     "end_time": "2024-08-20T13:27:58.970006",
     "exception": false,
     "start_time": "2024-08-20T13:27:58.955481",
     "status": "completed"
    },
    "tags": []
   },
   "outputs": [],
   "source": [
    "# %pip install pandas_datareader"
   ]
  },
  {
   "cell_type": "code",
   "execution_count": 2,
   "id": "d8a361e3",
   "metadata": {
    "execution": {
     "iopub.execute_input": "2024-08-20T13:27:58.975730Z",
     "iopub.status.busy": "2024-08-20T13:27:58.975287Z",
     "iopub.status.idle": "2024-08-20T13:27:58.978227Z",
     "shell.execute_reply": "2024-08-20T13:27:58.977729Z"
    },
    "papermill": {
     "duration": 0.007424,
     "end_time": "2024-08-20T13:27:58.979822",
     "exception": false,
     "start_time": "2024-08-20T13:27:58.972398",
     "status": "completed"
    },
    "tags": []
   },
   "outputs": [],
   "source": [
    "# %pip install yfinance"
   ]
  },
  {
   "cell_type": "code",
   "execution_count": 3,
   "id": "81de86f1",
   "metadata": {
    "execution": {
     "iopub.execute_input": "2024-08-20T13:27:58.983882Z",
     "iopub.status.busy": "2024-08-20T13:27:58.983682Z",
     "iopub.status.idle": "2024-08-20T13:27:58.985896Z",
     "shell.execute_reply": "2024-08-20T13:27:58.985562Z"
    },
    "papermill": {
     "duration": 0.005518,
     "end_time": "2024-08-20T13:27:58.986973",
     "exception": false,
     "start_time": "2024-08-20T13:27:58.981455",
     "status": "completed"
    },
    "tags": []
   },
   "outputs": [],
   "source": [
    "# %pip install pyarrow"
   ]
  },
  {
   "cell_type": "code",
   "execution_count": 4,
   "id": "f2518b63",
   "metadata": {
    "execution": {
     "iopub.execute_input": "2024-08-20T13:27:58.989950Z",
     "iopub.status.busy": "2024-08-20T13:27:58.989797Z",
     "iopub.status.idle": "2024-08-20T13:28:00.351327Z",
     "shell.execute_reply": "2024-08-20T13:28:00.350893Z"
    },
    "papermill": {
     "duration": 1.364572,
     "end_time": "2024-08-20T13:28:00.352655",
     "exception": false,
     "start_time": "2024-08-20T13:27:58.988083",
     "status": "completed"
    },
    "tags": []
   },
   "outputs": [
    {
     "name": "stdout",
     "output_type": "stream",
     "text": [
      "LOAD_DATA_PATH : /Users/roman/projects/dvc_template/data/model_1/download\n",
      "LOAD_DATA_FILE : raw_data.parquet\n"
     ]
    },
    {
     "name": "stderr",
     "output_type": "stream",
     "text": [
      "\r",
      "[*********************100%%**********************]  1 of 1 completed"
     ]
    },
    {
     "name": "stderr",
     "output_type": "stream",
     "text": [
      "\n"
     ]
    }
   ],
   "source": [
    "from dotenv import load_dotenv\n",
    "load_dotenv()\n",
    "\n",
    "import yfinance as yf\n",
    "import pandas as pd\n",
    "import numpy as np\n",
    "\n",
    "import pyarrow as pa\n",
    "import pyarrow.parquet as pq\n",
    "from pathlib import Path\n",
    "\n",
    "from datetime import datetime\n",
    "\n",
    "import os\n",
    "\n",
    "LOAD_DATA_PATH = os.environ.get(\"MODEL_1_LOAD_DATA_PATH\")\n",
    "LOAD_DATA_FILE = os.environ.get(\"MODEL_1_LOAD_DATA_FILE\")\n",
    "\n",
    "print('LOAD_DATA_PATH :', LOAD_DATA_PATH)\n",
    "print('LOAD_DATA_FILE :', LOAD_DATA_FILE)\n",
    "\n",
    "today = datetime.today().strftime('%Y-%m-%d')\n",
    "\n",
    "data = yf.download(tickers='BTC-USD', start=\"2017-01-04\", end=today)"
   ]
  },
  {
   "cell_type": "code",
   "execution_count": 5,
   "id": "5e5d93e3",
   "metadata": {
    "execution": {
     "iopub.execute_input": "2024-08-20T13:28:00.356288Z",
     "iopub.status.busy": "2024-08-20T13:28:00.356079Z",
     "iopub.status.idle": "2024-08-20T13:28:00.363801Z",
     "shell.execute_reply": "2024-08-20T13:28:00.363511Z"
    },
    "papermill": {
     "duration": 0.010361,
     "end_time": "2024-08-20T13:28:00.364748",
     "exception": false,
     "start_time": "2024-08-20T13:28:00.354387",
     "status": "completed"
    },
    "tags": []
   },
   "outputs": [
    {
     "data": {
      "text/html": [
       "<div>\n",
       "<style scoped>\n",
       "    .dataframe tbody tr th:only-of-type {\n",
       "        vertical-align: middle;\n",
       "    }\n",
       "\n",
       "    .dataframe tbody tr th {\n",
       "        vertical-align: top;\n",
       "    }\n",
       "\n",
       "    .dataframe thead th {\n",
       "        text-align: right;\n",
       "    }\n",
       "</style>\n",
       "<table border=\"1\" class=\"dataframe\">\n",
       "  <thead>\n",
       "    <tr style=\"text-align: right;\">\n",
       "      <th></th>\n",
       "      <th>Open</th>\n",
       "      <th>High</th>\n",
       "      <th>Low</th>\n",
       "      <th>Close</th>\n",
       "      <th>Adj Close</th>\n",
       "      <th>Volume</th>\n",
       "    </tr>\n",
       "    <tr>\n",
       "      <th>Date</th>\n",
       "      <th></th>\n",
       "      <th></th>\n",
       "      <th></th>\n",
       "      <th></th>\n",
       "      <th></th>\n",
       "      <th></th>\n",
       "    </tr>\n",
       "  </thead>\n",
       "  <tbody>\n",
       "    <tr>\n",
       "      <th>2017-01-04</th>\n",
       "      <td>1044.400024</td>\n",
       "      <td>1159.420044</td>\n",
       "      <td>1044.400024</td>\n",
       "      <td>1154.729980</td>\n",
       "      <td>1154.729980</td>\n",
       "      <td>344945984</td>\n",
       "    </tr>\n",
       "    <tr>\n",
       "      <th>2017-01-05</th>\n",
       "      <td>1156.729980</td>\n",
       "      <td>1191.099976</td>\n",
       "      <td>910.416992</td>\n",
       "      <td>1013.380005</td>\n",
       "      <td>1013.380005</td>\n",
       "      <td>510199008</td>\n",
       "    </tr>\n",
       "    <tr>\n",
       "      <th>2017-01-06</th>\n",
       "      <td>1014.239990</td>\n",
       "      <td>1046.810059</td>\n",
       "      <td>883.943970</td>\n",
       "      <td>902.200989</td>\n",
       "      <td>902.200989</td>\n",
       "      <td>351876000</td>\n",
       "    </tr>\n",
       "    <tr>\n",
       "      <th>2017-01-07</th>\n",
       "      <td>903.487000</td>\n",
       "      <td>908.585022</td>\n",
       "      <td>823.556030</td>\n",
       "      <td>908.585022</td>\n",
       "      <td>908.585022</td>\n",
       "      <td>279550016</td>\n",
       "    </tr>\n",
       "    <tr>\n",
       "      <th>2017-01-08</th>\n",
       "      <td>908.174988</td>\n",
       "      <td>942.723999</td>\n",
       "      <td>887.249023</td>\n",
       "      <td>911.198975</td>\n",
       "      <td>911.198975</td>\n",
       "      <td>158715008</td>\n",
       "    </tr>\n",
       "    <tr>\n",
       "      <th>2017-01-09</th>\n",
       "      <td>913.244019</td>\n",
       "      <td>913.685974</td>\n",
       "      <td>879.807007</td>\n",
       "      <td>902.828003</td>\n",
       "      <td>902.828003</td>\n",
       "      <td>141876992</td>\n",
       "    </tr>\n",
       "    <tr>\n",
       "      <th>2017-01-10</th>\n",
       "      <td>902.440002</td>\n",
       "      <td>914.872986</td>\n",
       "      <td>901.059998</td>\n",
       "      <td>907.679016</td>\n",
       "      <td>907.679016</td>\n",
       "      <td>115808000</td>\n",
       "    </tr>\n",
       "    <tr>\n",
       "      <th>2017-01-11</th>\n",
       "      <td>908.114990</td>\n",
       "      <td>919.447998</td>\n",
       "      <td>762.765015</td>\n",
       "      <td>777.757019</td>\n",
       "      <td>777.757019</td>\n",
       "      <td>310928992</td>\n",
       "    </tr>\n",
       "    <tr>\n",
       "      <th>2017-01-12</th>\n",
       "      <td>775.177979</td>\n",
       "      <td>826.245972</td>\n",
       "      <td>755.755981</td>\n",
       "      <td>804.833984</td>\n",
       "      <td>804.833984</td>\n",
       "      <td>222326000</td>\n",
       "    </tr>\n",
       "    <tr>\n",
       "      <th>2017-01-13</th>\n",
       "      <td>803.737000</td>\n",
       "      <td>829.000977</td>\n",
       "      <td>780.002991</td>\n",
       "      <td>823.984009</td>\n",
       "      <td>823.984009</td>\n",
       "      <td>168968000</td>\n",
       "    </tr>\n",
       "  </tbody>\n",
       "</table>\n",
       "</div>"
      ],
      "text/plain": [
       "                   Open         High          Low        Close    Adj Close  \\\n",
       "Date                                                                          \n",
       "2017-01-04  1044.400024  1159.420044  1044.400024  1154.729980  1154.729980   \n",
       "2017-01-05  1156.729980  1191.099976   910.416992  1013.380005  1013.380005   \n",
       "2017-01-06  1014.239990  1046.810059   883.943970   902.200989   902.200989   \n",
       "2017-01-07   903.487000   908.585022   823.556030   908.585022   908.585022   \n",
       "2017-01-08   908.174988   942.723999   887.249023   911.198975   911.198975   \n",
       "2017-01-09   913.244019   913.685974   879.807007   902.828003   902.828003   \n",
       "2017-01-10   902.440002   914.872986   901.059998   907.679016   907.679016   \n",
       "2017-01-11   908.114990   919.447998   762.765015   777.757019   777.757019   \n",
       "2017-01-12   775.177979   826.245972   755.755981   804.833984   804.833984   \n",
       "2017-01-13   803.737000   829.000977   780.002991   823.984009   823.984009   \n",
       "\n",
       "               Volume  \n",
       "Date                   \n",
       "2017-01-04  344945984  \n",
       "2017-01-05  510199008  \n",
       "2017-01-06  351876000  \n",
       "2017-01-07  279550016  \n",
       "2017-01-08  158715008  \n",
       "2017-01-09  141876992  \n",
       "2017-01-10  115808000  \n",
       "2017-01-11  310928992  \n",
       "2017-01-12  222326000  \n",
       "2017-01-13  168968000  "
      ]
     },
     "execution_count": 5,
     "metadata": {},
     "output_type": "execute_result"
    }
   ],
   "source": [
    "data.head(10)"
   ]
  },
  {
   "cell_type": "code",
   "execution_count": 6,
   "id": "0c7088eb",
   "metadata": {
    "execution": {
     "iopub.execute_input": "2024-08-20T13:28:00.367884Z",
     "iopub.status.busy": "2024-08-20T13:28:00.367771Z",
     "iopub.status.idle": "2024-08-20T13:28:00.372253Z",
     "shell.execute_reply": "2024-08-20T13:28:00.372004Z"
    },
    "papermill": {
     "duration": 0.006985,
     "end_time": "2024-08-20T13:28:00.373143",
     "exception": false,
     "start_time": "2024-08-20T13:28:00.366158",
     "status": "completed"
    },
    "tags": []
   },
   "outputs": [
    {
     "data": {
      "text/html": [
       "<div>\n",
       "<style scoped>\n",
       "    .dataframe tbody tr th:only-of-type {\n",
       "        vertical-align: middle;\n",
       "    }\n",
       "\n",
       "    .dataframe tbody tr th {\n",
       "        vertical-align: top;\n",
       "    }\n",
       "\n",
       "    .dataframe thead th {\n",
       "        text-align: right;\n",
       "    }\n",
       "</style>\n",
       "<table border=\"1\" class=\"dataframe\">\n",
       "  <thead>\n",
       "    <tr style=\"text-align: right;\">\n",
       "      <th></th>\n",
       "      <th>Open</th>\n",
       "      <th>High</th>\n",
       "      <th>Low</th>\n",
       "      <th>Close</th>\n",
       "      <th>Adj Close</th>\n",
       "      <th>Volume</th>\n",
       "    </tr>\n",
       "    <tr>\n",
       "      <th>Date</th>\n",
       "      <th></th>\n",
       "      <th></th>\n",
       "      <th></th>\n",
       "      <th></th>\n",
       "      <th></th>\n",
       "      <th></th>\n",
       "    </tr>\n",
       "  </thead>\n",
       "  <tbody>\n",
       "    <tr>\n",
       "      <th>2024-08-10</th>\n",
       "      <td>60881.230469</td>\n",
       "      <td>61464.511719</td>\n",
       "      <td>60287.566406</td>\n",
       "      <td>60945.812500</td>\n",
       "      <td>60945.812500</td>\n",
       "      <td>15745822278</td>\n",
       "    </tr>\n",
       "    <tr>\n",
       "      <th>2024-08-11</th>\n",
       "      <td>60944.890625</td>\n",
       "      <td>61778.660156</td>\n",
       "      <td>58348.824219</td>\n",
       "      <td>58719.484375</td>\n",
       "      <td>58719.484375</td>\n",
       "      <td>22759754812</td>\n",
       "    </tr>\n",
       "    <tr>\n",
       "      <th>2024-08-12</th>\n",
       "      <td>58719.394531</td>\n",
       "      <td>60680.332031</td>\n",
       "      <td>57688.898438</td>\n",
       "      <td>59354.515625</td>\n",
       "      <td>59354.515625</td>\n",
       "      <td>37078637820</td>\n",
       "    </tr>\n",
       "    <tr>\n",
       "      <th>2024-08-13</th>\n",
       "      <td>59356.207031</td>\n",
       "      <td>61572.398438</td>\n",
       "      <td>58506.253906</td>\n",
       "      <td>60609.566406</td>\n",
       "      <td>60609.566406</td>\n",
       "      <td>30327698167</td>\n",
       "    </tr>\n",
       "    <tr>\n",
       "      <th>2024-08-14</th>\n",
       "      <td>60611.050781</td>\n",
       "      <td>61687.757812</td>\n",
       "      <td>58472.875000</td>\n",
       "      <td>58737.269531</td>\n",
       "      <td>58737.269531</td>\n",
       "      <td>29961696180</td>\n",
       "    </tr>\n",
       "    <tr>\n",
       "      <th>2024-08-15</th>\n",
       "      <td>58733.261719</td>\n",
       "      <td>59838.648438</td>\n",
       "      <td>56161.593750</td>\n",
       "      <td>57560.097656</td>\n",
       "      <td>57560.097656</td>\n",
       "      <td>35682112440</td>\n",
       "    </tr>\n",
       "    <tr>\n",
       "      <th>2024-08-16</th>\n",
       "      <td>57560.273438</td>\n",
       "      <td>59847.359375</td>\n",
       "      <td>57110.019531</td>\n",
       "      <td>58894.105469</td>\n",
       "      <td>58894.105469</td>\n",
       "      <td>29350938673</td>\n",
       "    </tr>\n",
       "    <tr>\n",
       "      <th>2024-08-17</th>\n",
       "      <td>58893.531250</td>\n",
       "      <td>59694.667969</td>\n",
       "      <td>58814.832031</td>\n",
       "      <td>59478.972656</td>\n",
       "      <td>59478.972656</td>\n",
       "      <td>13589684021</td>\n",
       "    </tr>\n",
       "    <tr>\n",
       "      <th>2024-08-18</th>\n",
       "      <td>59468.132812</td>\n",
       "      <td>60262.718750</td>\n",
       "      <td>58445.402344</td>\n",
       "      <td>58483.964844</td>\n",
       "      <td>58483.964844</td>\n",
       "      <td>17740625837</td>\n",
       "    </tr>\n",
       "    <tr>\n",
       "      <th>2024-08-19</th>\n",
       "      <td>58480.710938</td>\n",
       "      <td>59612.660156</td>\n",
       "      <td>57864.710938</td>\n",
       "      <td>59493.453125</td>\n",
       "      <td>59493.453125</td>\n",
       "      <td>25911207712</td>\n",
       "    </tr>\n",
       "  </tbody>\n",
       "</table>\n",
       "</div>"
      ],
      "text/plain": [
       "                    Open          High           Low         Close  \\\n",
       "Date                                                                 \n",
       "2024-08-10  60881.230469  61464.511719  60287.566406  60945.812500   \n",
       "2024-08-11  60944.890625  61778.660156  58348.824219  58719.484375   \n",
       "2024-08-12  58719.394531  60680.332031  57688.898438  59354.515625   \n",
       "2024-08-13  59356.207031  61572.398438  58506.253906  60609.566406   \n",
       "2024-08-14  60611.050781  61687.757812  58472.875000  58737.269531   \n",
       "2024-08-15  58733.261719  59838.648438  56161.593750  57560.097656   \n",
       "2024-08-16  57560.273438  59847.359375  57110.019531  58894.105469   \n",
       "2024-08-17  58893.531250  59694.667969  58814.832031  59478.972656   \n",
       "2024-08-18  59468.132812  60262.718750  58445.402344  58483.964844   \n",
       "2024-08-19  58480.710938  59612.660156  57864.710938  59493.453125   \n",
       "\n",
       "               Adj Close       Volume  \n",
       "Date                                   \n",
       "2024-08-10  60945.812500  15745822278  \n",
       "2024-08-11  58719.484375  22759754812  \n",
       "2024-08-12  59354.515625  37078637820  \n",
       "2024-08-13  60609.566406  30327698167  \n",
       "2024-08-14  58737.269531  29961696180  \n",
       "2024-08-15  57560.097656  35682112440  \n",
       "2024-08-16  58894.105469  29350938673  \n",
       "2024-08-17  59478.972656  13589684021  \n",
       "2024-08-18  58483.964844  17740625837  \n",
       "2024-08-19  59493.453125  25911207712  "
      ]
     },
     "execution_count": 6,
     "metadata": {},
     "output_type": "execute_result"
    }
   ],
   "source": [
    "data.tail(10)"
   ]
  },
  {
   "cell_type": "code",
   "execution_count": 7,
   "id": "5c058480",
   "metadata": {
    "execution": {
     "iopub.execute_input": "2024-08-20T13:28:00.376092Z",
     "iopub.status.busy": "2024-08-20T13:28:00.375999Z",
     "iopub.status.idle": "2024-08-20T13:28:00.382981Z",
     "shell.execute_reply": "2024-08-20T13:28:00.382746Z"
    },
    "papermill": {
     "duration": 0.009466,
     "end_time": "2024-08-20T13:28:00.383742",
     "exception": false,
     "start_time": "2024-08-20T13:28:00.374276",
     "status": "completed"
    },
    "tags": []
   },
   "outputs": [
    {
     "name": "stdout",
     "output_type": "stream",
     "text": [
      "Summary Statistics:\n",
      "               Open          High           Low         Close     Adj Close  \\\n",
      "count   2785.000000   2785.000000   2785.000000   2785.000000   2785.000000   \n",
      "mean   22621.816278  23138.322652  22068.646965  22641.311255  22641.311255   \n",
      "std    19306.126065  19737.953460  18825.897180  19312.286093  19312.286093   \n",
      "min      775.177979    823.307007    755.755981    777.757019    777.757019   \n",
      "25%     7238.141113   7388.302734   7081.379883   7243.134277   7243.134277   \n",
      "50%    15864.099609  16317.808594  15202.799805  15838.500000  15838.500000   \n",
      "75%    36491.789062  37480.187500  34940.824219  36575.140625  36575.140625   \n",
      "max    73079.375000  73750.070312  71334.093750  73083.500000  73083.500000   \n",
      "\n",
      "             Volume  \n",
      "count  2.785000e+03  \n",
      "mean   2.278698e+10  \n",
      "std    1.898454e+10  \n",
      "min    6.085170e+07  \n",
      "25%    7.558160e+09  \n",
      "50%    2.012126e+10  \n",
      "75%    3.248331e+10  \n",
      "max    3.509679e+11  \n"
     ]
    }
   ],
   "source": [
    "print('Summary Statistics:')\n",
    "print(data.describe())"
   ]
  },
  {
   "cell_type": "code",
   "execution_count": 8,
   "id": "6d706e56",
   "metadata": {
    "execution": {
     "iopub.execute_input": "2024-08-20T13:28:00.386944Z",
     "iopub.status.busy": "2024-08-20T13:28:00.386841Z",
     "iopub.status.idle": "2024-08-20T13:28:00.388835Z",
     "shell.execute_reply": "2024-08-20T13:28:00.388633Z"
    },
    "papermill": {
     "duration": 0.004351,
     "end_time": "2024-08-20T13:28:00.389563",
     "exception": false,
     "start_time": "2024-08-20T13:28:00.385212",
     "status": "completed"
    },
    "tags": []
   },
   "outputs": [
    {
     "name": "stdout",
     "output_type": "stream",
     "text": [
      "Data Types: Open         float64\n",
      "High         float64\n",
      "Low          float64\n",
      "Close        float64\n",
      "Adj Close    float64\n",
      "Volume         int64\n",
      "dtype: object\n"
     ]
    }
   ],
   "source": [
    "print('Data Types:', data.dtypes)"
   ]
  },
  {
   "cell_type": "code",
   "execution_count": 9,
   "id": "2a32b883",
   "metadata": {
    "execution": {
     "iopub.execute_input": "2024-08-20T13:28:00.391912Z",
     "iopub.status.busy": "2024-08-20T13:28:00.391754Z",
     "iopub.status.idle": "2024-08-20T13:28:00.405413Z",
     "shell.execute_reply": "2024-08-20T13:28:00.405189Z"
    },
    "papermill": {
     "duration": 0.015596,
     "end_time": "2024-08-20T13:28:00.406163",
     "exception": false,
     "start_time": "2024-08-20T13:28:00.390567",
     "status": "completed"
    },
    "tags": []
   },
   "outputs": [],
   "source": [
    "p_data = pa.Table.from_pandas(data)\n",
    "pq.write_table(p_data, Path(LOAD_DATA_PATH) / LOAD_DATA_FILE)"
   ]
  }
 ],
 "metadata": {
  "kernelspec": {
   "display_name": "dvc_template",
   "language": "python",
   "name": "python3"
  },
  "language_info": {
   "codemirror_mode": {
    "name": "ipython",
    "version": 3
   },
   "file_extension": ".py",
   "mimetype": "text/x-python",
   "name": "python",
   "nbconvert_exporter": "python",
   "pygments_lexer": "ipython3",
   "version": "3.11.9"
  },
  "papermill": {
   "default_parameters": {},
   "duration": 2.518073,
   "end_time": "2024-08-20T13:28:00.622694",
   "environment_variables": {},
   "exception": null,
   "input_path": "src/model_1/download/download.ipynb",
   "output_path": "src/model_1/download/download_out.ipynb",
   "parameters": {},
   "start_time": "2024-08-20T13:27:58.104621",
   "version": "2.6.0"
  }
 },
 "nbformat": 4,
 "nbformat_minor": 5
}