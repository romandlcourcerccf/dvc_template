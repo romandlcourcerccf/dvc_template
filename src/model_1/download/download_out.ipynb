{
 "cells": [
  {
   "cell_type": "code",
   "execution_count": 1,
   "id": "50466a4f",
   "metadata": {
    "execution": {
     "iopub.execute_input": "2024-08-27T14:15:18.480024Z",
     "iopub.status.busy": "2024-08-27T14:15:18.479372Z",
     "iopub.status.idle": "2024-08-27T14:15:18.589461Z",
     "shell.execute_reply": "2024-08-27T14:15:18.589166Z"
    },
    "papermill": {
     "duration": 0.116368,
     "end_time": "2024-08-27T14:15:18.590390",
     "exception": false,
     "start_time": "2024-08-27T14:15:18.474022",
     "status": "completed"
    },
    "tags": []
   },
   "outputs": [],
   "source": [
    "import os\n",
    "from pathlib import Path\n",
    "\n",
    "from hydra import initialize_config_dir, compose\n",
    "\n",
    "with initialize_config_dir(version_base=None, config_dir=str(Path(os.get_exec_path()[0]).parent.parent / 'config')):\n",
    "\n",
    "    cfg=compose(overrides= [\"+models=model_1\"])\n",
    "    cfg = cfg['models']\n",
    "\n",
    "    LOAD_DATA_PATH = cfg['load']['LOAD_DATA_PATH']\n",
    "    LOAD_DATA_FILE = cfg['load']['LOAD_DATA_FILE']"
   ]
  },
  {
   "cell_type": "code",
   "execution_count": 2,
   "id": "ba3f9a54",
   "metadata": {
    "execution": {
     "iopub.execute_input": "2024-08-27T14:15:18.592212Z",
     "iopub.status.busy": "2024-08-27T14:15:18.592114Z",
     "iopub.status.idle": "2024-08-27T14:15:19.655674Z",
     "shell.execute_reply": "2024-08-27T14:15:19.655249Z"
    },
    "papermill": {
     "duration": 1.06644,
     "end_time": "2024-08-27T14:15:19.657588",
     "exception": false,
     "start_time": "2024-08-27T14:15:18.591148",
     "status": "completed"
    },
    "tags": []
   },
   "outputs": [
    {
     "name": "stderr",
     "output_type": "stream",
     "text": [
      "\r",
      "[*********************100%%**********************]  1 of 1 completed"
     ]
    },
    {
     "name": "stderr",
     "output_type": "stream",
     "text": [
      "\n"
     ]
    }
   ],
   "source": [
    "from datetime import datetime\n",
    "import yfinance as yf\n",
    "\n",
    "today = datetime.today().strftime('%Y-%m-%d')\n",
    "data = yf.download(tickers='BTC-USD', start=\"2020-01-02\", end=today)"
   ]
  },
  {
   "cell_type": "code",
   "execution_count": 3,
   "id": "b3e6b6c8",
   "metadata": {
    "execution": {
     "iopub.execute_input": "2024-08-27T14:15:19.661180Z",
     "iopub.status.busy": "2024-08-27T14:15:19.660994Z",
     "iopub.status.idle": "2024-08-27T14:15:19.668986Z",
     "shell.execute_reply": "2024-08-27T14:15:19.668705Z"
    },
    "papermill": {
     "duration": 0.010558,
     "end_time": "2024-08-27T14:15:19.669963",
     "exception": false,
     "start_time": "2024-08-27T14:15:19.659405",
     "status": "completed"
    },
    "tags": []
   },
   "outputs": [
    {
     "data": {
      "text/html": [
       "<div>\n",
       "<style scoped>\n",
       "    .dataframe tbody tr th:only-of-type {\n",
       "        vertical-align: middle;\n",
       "    }\n",
       "\n",
       "    .dataframe tbody tr th {\n",
       "        vertical-align: top;\n",
       "    }\n",
       "\n",
       "    .dataframe thead th {\n",
       "        text-align: right;\n",
       "    }\n",
       "</style>\n",
       "<table border=\"1\" class=\"dataframe\">\n",
       "  <thead>\n",
       "    <tr style=\"text-align: right;\">\n",
       "      <th></th>\n",
       "      <th>Open</th>\n",
       "      <th>High</th>\n",
       "      <th>Low</th>\n",
       "      <th>Close</th>\n",
       "      <th>Adj Close</th>\n",
       "      <th>Volume</th>\n",
       "    </tr>\n",
       "    <tr>\n",
       "      <th>Date</th>\n",
       "      <th></th>\n",
       "      <th></th>\n",
       "      <th></th>\n",
       "      <th></th>\n",
       "      <th></th>\n",
       "      <th></th>\n",
       "    </tr>\n",
       "  </thead>\n",
       "  <tbody>\n",
       "    <tr>\n",
       "      <th>2020-01-02</th>\n",
       "      <td>7202.551270</td>\n",
       "      <td>7212.155273</td>\n",
       "      <td>6935.270020</td>\n",
       "      <td>6985.470215</td>\n",
       "      <td>6985.470215</td>\n",
       "      <td>20802083465</td>\n",
       "    </tr>\n",
       "    <tr>\n",
       "      <th>2020-01-03</th>\n",
       "      <td>6984.428711</td>\n",
       "      <td>7413.715332</td>\n",
       "      <td>6914.996094</td>\n",
       "      <td>7344.884277</td>\n",
       "      <td>7344.884277</td>\n",
       "      <td>28111481032</td>\n",
       "    </tr>\n",
       "    <tr>\n",
       "      <th>2020-01-04</th>\n",
       "      <td>7345.375488</td>\n",
       "      <td>7427.385742</td>\n",
       "      <td>7309.514160</td>\n",
       "      <td>7410.656738</td>\n",
       "      <td>7410.656738</td>\n",
       "      <td>18444271275</td>\n",
       "    </tr>\n",
       "    <tr>\n",
       "      <th>2020-01-05</th>\n",
       "      <td>7410.451660</td>\n",
       "      <td>7544.497070</td>\n",
       "      <td>7400.535645</td>\n",
       "      <td>7411.317383</td>\n",
       "      <td>7411.317383</td>\n",
       "      <td>19725074095</td>\n",
       "    </tr>\n",
       "    <tr>\n",
       "      <th>2020-01-06</th>\n",
       "      <td>7410.452148</td>\n",
       "      <td>7781.867188</td>\n",
       "      <td>7409.292969</td>\n",
       "      <td>7769.219238</td>\n",
       "      <td>7769.219238</td>\n",
       "      <td>23276261598</td>\n",
       "    </tr>\n",
       "    <tr>\n",
       "      <th>2020-01-07</th>\n",
       "      <td>7768.682129</td>\n",
       "      <td>8178.215820</td>\n",
       "      <td>7768.227539</td>\n",
       "      <td>8163.692383</td>\n",
       "      <td>8163.692383</td>\n",
       "      <td>28767291327</td>\n",
       "    </tr>\n",
       "    <tr>\n",
       "      <th>2020-01-08</th>\n",
       "      <td>8161.935547</td>\n",
       "      <td>8396.738281</td>\n",
       "      <td>7956.774414</td>\n",
       "      <td>8079.862793</td>\n",
       "      <td>8079.862793</td>\n",
       "      <td>31672559265</td>\n",
       "    </tr>\n",
       "    <tr>\n",
       "      <th>2020-01-09</th>\n",
       "      <td>8082.295898</td>\n",
       "      <td>8082.295898</td>\n",
       "      <td>7842.403809</td>\n",
       "      <td>7879.071289</td>\n",
       "      <td>7879.071289</td>\n",
       "      <td>24045990466</td>\n",
       "    </tr>\n",
       "    <tr>\n",
       "      <th>2020-01-10</th>\n",
       "      <td>7878.307617</td>\n",
       "      <td>8166.554199</td>\n",
       "      <td>7726.774902</td>\n",
       "      <td>8166.554199</td>\n",
       "      <td>8166.554199</td>\n",
       "      <td>28714583844</td>\n",
       "    </tr>\n",
       "    <tr>\n",
       "      <th>2020-01-11</th>\n",
       "      <td>8162.190918</td>\n",
       "      <td>8218.359375</td>\n",
       "      <td>8029.642090</td>\n",
       "      <td>8037.537598</td>\n",
       "      <td>8037.537598</td>\n",
       "      <td>25521165085</td>\n",
       "    </tr>\n",
       "  </tbody>\n",
       "</table>\n",
       "</div>"
      ],
      "text/plain": [
       "                   Open         High          Low        Close    Adj Close  \\\n",
       "Date                                                                          \n",
       "2020-01-02  7202.551270  7212.155273  6935.270020  6985.470215  6985.470215   \n",
       "2020-01-03  6984.428711  7413.715332  6914.996094  7344.884277  7344.884277   \n",
       "2020-01-04  7345.375488  7427.385742  7309.514160  7410.656738  7410.656738   \n",
       "2020-01-05  7410.451660  7544.497070  7400.535645  7411.317383  7411.317383   \n",
       "2020-01-06  7410.452148  7781.867188  7409.292969  7769.219238  7769.219238   \n",
       "2020-01-07  7768.682129  8178.215820  7768.227539  8163.692383  8163.692383   \n",
       "2020-01-08  8161.935547  8396.738281  7956.774414  8079.862793  8079.862793   \n",
       "2020-01-09  8082.295898  8082.295898  7842.403809  7879.071289  7879.071289   \n",
       "2020-01-10  7878.307617  8166.554199  7726.774902  8166.554199  8166.554199   \n",
       "2020-01-11  8162.190918  8218.359375  8029.642090  8037.537598  8037.537598   \n",
       "\n",
       "                 Volume  \n",
       "Date                     \n",
       "2020-01-02  20802083465  \n",
       "2020-01-03  28111481032  \n",
       "2020-01-04  18444271275  \n",
       "2020-01-05  19725074095  \n",
       "2020-01-06  23276261598  \n",
       "2020-01-07  28767291327  \n",
       "2020-01-08  31672559265  \n",
       "2020-01-09  24045990466  \n",
       "2020-01-10  28714583844  \n",
       "2020-01-11  25521165085  "
      ]
     },
     "execution_count": 3,
     "metadata": {},
     "output_type": "execute_result"
    }
   ],
   "source": [
    "data.head(10)"
   ]
  },
  {
   "cell_type": "code",
   "execution_count": 4,
   "id": "a907a53b",
   "metadata": {
    "execution": {
     "iopub.execute_input": "2024-08-27T14:15:19.672858Z",
     "iopub.status.busy": "2024-08-27T14:15:19.672620Z",
     "iopub.status.idle": "2024-08-27T14:15:19.677223Z",
     "shell.execute_reply": "2024-08-27T14:15:19.676971Z"
    },
    "papermill": {
     "duration": 0.006893,
     "end_time": "2024-08-27T14:15:19.678038",
     "exception": false,
     "start_time": "2024-08-27T14:15:19.671145",
     "status": "completed"
    },
    "tags": []
   },
   "outputs": [
    {
     "data": {
      "text/html": [
       "<div>\n",
       "<style scoped>\n",
       "    .dataframe tbody tr th:only-of-type {\n",
       "        vertical-align: middle;\n",
       "    }\n",
       "\n",
       "    .dataframe tbody tr th {\n",
       "        vertical-align: top;\n",
       "    }\n",
       "\n",
       "    .dataframe thead th {\n",
       "        text-align: right;\n",
       "    }\n",
       "</style>\n",
       "<table border=\"1\" class=\"dataframe\">\n",
       "  <thead>\n",
       "    <tr style=\"text-align: right;\">\n",
       "      <th></th>\n",
       "      <th>Open</th>\n",
       "      <th>High</th>\n",
       "      <th>Low</th>\n",
       "      <th>Close</th>\n",
       "      <th>Adj Close</th>\n",
       "      <th>Volume</th>\n",
       "    </tr>\n",
       "    <tr>\n",
       "      <th>Date</th>\n",
       "      <th></th>\n",
       "      <th></th>\n",
       "      <th></th>\n",
       "      <th></th>\n",
       "      <th></th>\n",
       "      <th></th>\n",
       "    </tr>\n",
       "  </thead>\n",
       "  <tbody>\n",
       "    <tr>\n",
       "      <th>2024-08-17</th>\n",
       "      <td>58893.531250</td>\n",
       "      <td>59694.667969</td>\n",
       "      <td>58814.832031</td>\n",
       "      <td>59478.972656</td>\n",
       "      <td>59478.972656</td>\n",
       "      <td>13589684021</td>\n",
       "    </tr>\n",
       "    <tr>\n",
       "      <th>2024-08-18</th>\n",
       "      <td>59468.132812</td>\n",
       "      <td>60262.718750</td>\n",
       "      <td>58445.402344</td>\n",
       "      <td>58483.964844</td>\n",
       "      <td>58483.964844</td>\n",
       "      <td>17740625837</td>\n",
       "    </tr>\n",
       "    <tr>\n",
       "      <th>2024-08-19</th>\n",
       "      <td>58480.710938</td>\n",
       "      <td>59612.660156</td>\n",
       "      <td>57864.710938</td>\n",
       "      <td>59493.453125</td>\n",
       "      <td>59493.453125</td>\n",
       "      <td>25911207712</td>\n",
       "    </tr>\n",
       "    <tr>\n",
       "      <th>2024-08-20</th>\n",
       "      <td>59493.453125</td>\n",
       "      <td>61396.328125</td>\n",
       "      <td>58610.882812</td>\n",
       "      <td>59012.792969</td>\n",
       "      <td>59012.792969</td>\n",
       "      <td>31613400008</td>\n",
       "    </tr>\n",
       "    <tr>\n",
       "      <th>2024-08-21</th>\n",
       "      <td>59014.988281</td>\n",
       "      <td>61834.351562</td>\n",
       "      <td>58823.445312</td>\n",
       "      <td>61175.191406</td>\n",
       "      <td>61175.191406</td>\n",
       "      <td>32731154072</td>\n",
       "    </tr>\n",
       "    <tr>\n",
       "      <th>2024-08-22</th>\n",
       "      <td>61168.316406</td>\n",
       "      <td>61408.109375</td>\n",
       "      <td>59815.253906</td>\n",
       "      <td>60381.914062</td>\n",
       "      <td>60381.914062</td>\n",
       "      <td>27625734377</td>\n",
       "    </tr>\n",
       "    <tr>\n",
       "      <th>2024-08-23</th>\n",
       "      <td>60380.953125</td>\n",
       "      <td>64947.062500</td>\n",
       "      <td>60372.050781</td>\n",
       "      <td>64094.355469</td>\n",
       "      <td>64094.355469</td>\n",
       "      <td>42530509233</td>\n",
       "    </tr>\n",
       "    <tr>\n",
       "      <th>2024-08-24</th>\n",
       "      <td>64103.871094</td>\n",
       "      <td>64513.789062</td>\n",
       "      <td>63619.917969</td>\n",
       "      <td>64178.992188</td>\n",
       "      <td>64178.992188</td>\n",
       "      <td>21430585163</td>\n",
       "    </tr>\n",
       "    <tr>\n",
       "      <th>2024-08-25</th>\n",
       "      <td>64176.367188</td>\n",
       "      <td>64996.421875</td>\n",
       "      <td>63833.519531</td>\n",
       "      <td>64333.542969</td>\n",
       "      <td>64333.542969</td>\n",
       "      <td>18827683555</td>\n",
       "    </tr>\n",
       "    <tr>\n",
       "      <th>2024-08-26</th>\n",
       "      <td>64342.226562</td>\n",
       "      <td>64489.707031</td>\n",
       "      <td>62849.558594</td>\n",
       "      <td>62880.660156</td>\n",
       "      <td>62880.660156</td>\n",
       "      <td>27682040631</td>\n",
       "    </tr>\n",
       "  </tbody>\n",
       "</table>\n",
       "</div>"
      ],
      "text/plain": [
       "                    Open          High           Low         Close  \\\n",
       "Date                                                                 \n",
       "2024-08-17  58893.531250  59694.667969  58814.832031  59478.972656   \n",
       "2024-08-18  59468.132812  60262.718750  58445.402344  58483.964844   \n",
       "2024-08-19  58480.710938  59612.660156  57864.710938  59493.453125   \n",
       "2024-08-20  59493.453125  61396.328125  58610.882812  59012.792969   \n",
       "2024-08-21  59014.988281  61834.351562  58823.445312  61175.191406   \n",
       "2024-08-22  61168.316406  61408.109375  59815.253906  60381.914062   \n",
       "2024-08-23  60380.953125  64947.062500  60372.050781  64094.355469   \n",
       "2024-08-24  64103.871094  64513.789062  63619.917969  64178.992188   \n",
       "2024-08-25  64176.367188  64996.421875  63833.519531  64333.542969   \n",
       "2024-08-26  64342.226562  64489.707031  62849.558594  62880.660156   \n",
       "\n",
       "               Adj Close       Volume  \n",
       "Date                                   \n",
       "2024-08-17  59478.972656  13589684021  \n",
       "2024-08-18  58483.964844  17740625837  \n",
       "2024-08-19  59493.453125  25911207712  \n",
       "2024-08-20  59012.792969  31613400008  \n",
       "2024-08-21  61175.191406  32731154072  \n",
       "2024-08-22  60381.914062  27625734377  \n",
       "2024-08-23  64094.355469  42530509233  \n",
       "2024-08-24  64178.992188  21430585163  \n",
       "2024-08-25  64333.542969  18827683555  \n",
       "2024-08-26  62880.660156  27682040631  "
      ]
     },
     "execution_count": 4,
     "metadata": {},
     "output_type": "execute_result"
    }
   ],
   "source": [
    "data.tail(10)"
   ]
  },
  {
   "cell_type": "code",
   "execution_count": 5,
   "id": "c66b2f73",
   "metadata": {
    "execution": {
     "iopub.execute_input": "2024-08-27T14:15:19.680450Z",
     "iopub.status.busy": "2024-08-27T14:15:19.680348Z",
     "iopub.status.idle": "2024-08-27T14:15:19.686684Z",
     "shell.execute_reply": "2024-08-27T14:15:19.686468Z"
    },
    "papermill": {
     "duration": 0.008383,
     "end_time": "2024-08-27T14:15:19.687422",
     "exception": false,
     "start_time": "2024-08-27T14:15:19.679039",
     "status": "completed"
    },
    "tags": []
   },
   "outputs": [
    {
     "name": "stdout",
     "output_type": "stream",
     "text": [
      "Summary Statistics:\n",
      "               Open          High           Low         Close     Adj Close  \\\n",
      "count   1699.000000   1699.000000   1699.000000   1699.000000   1699.000000   \n",
      "mean   33261.309929  34001.470941  32474.609827  33291.710861  33291.710861   \n",
      "std    18039.623688  18459.147244  17565.602135  18040.378616  18040.378616   \n",
      "min     5002.578125   5331.833984   4106.980957   4970.788086   4970.788086   \n",
      "25%    19188.483398  19455.119141  18806.813477  19196.361328  19196.361328   \n",
      "50%    29908.697266  30434.644531  29375.689453  29913.923828  29913.923828   \n",
      "75%    46328.259766  47345.580078  44804.363281  46366.994141  46366.994141   \n",
      "max    73079.375000  73750.070312  71334.093750  73083.500000  73083.500000   \n",
      "\n",
      "             Volume  \n",
      "count  1.699000e+03  \n",
      "mean   3.205215e+10  \n",
      "std    1.821330e+10  \n",
      "min    5.331173e+09  \n",
      "25%    2.035523e+10  \n",
      "50%    2.909493e+10  \n",
      "75%    3.923296e+10  \n",
      "max    3.509679e+11  \n"
     ]
    }
   ],
   "source": [
    "print('Summary Statistics:')\n",
    "print(data.describe())"
   ]
  },
  {
   "cell_type": "code",
   "execution_count": 6,
   "id": "2bea71d6",
   "metadata": {
    "execution": {
     "iopub.execute_input": "2024-08-27T14:15:19.690029Z",
     "iopub.status.busy": "2024-08-27T14:15:19.689940Z",
     "iopub.status.idle": "2024-08-27T14:15:19.691619Z",
     "shell.execute_reply": "2024-08-27T14:15:19.691412Z"
    },
    "papermill": {
     "duration": 0.003914,
     "end_time": "2024-08-27T14:15:19.692325",
     "exception": false,
     "start_time": "2024-08-27T14:15:19.688411",
     "status": "completed"
    },
    "tags": []
   },
   "outputs": [
    {
     "name": "stdout",
     "output_type": "stream",
     "text": [
      "Data Types: Open         float64\n",
      "High         float64\n",
      "Low          float64\n",
      "Close        float64\n",
      "Adj Close    float64\n",
      "Volume         int64\n",
      "dtype: object\n"
     ]
    }
   ],
   "source": [
    "print('Data Types:', data.dtypes)"
   ]
  },
  {
   "cell_type": "code",
   "execution_count": 7,
   "id": "b95fc91f",
   "metadata": {
    "execution": {
     "iopub.execute_input": "2024-08-27T14:15:19.695073Z",
     "iopub.status.busy": "2024-08-27T14:15:19.694986Z",
     "iopub.status.idle": "2024-08-27T14:15:19.706948Z",
     "shell.execute_reply": "2024-08-27T14:15:19.706736Z"
    },
    "papermill": {
     "duration": 0.014191,
     "end_time": "2024-08-27T14:15:19.707747",
     "exception": false,
     "start_time": "2024-08-27T14:15:19.693556",
     "status": "completed"
    },
    "tags": []
   },
   "outputs": [],
   "source": [
    "import pyarrow as pa\n",
    "import pyarrow.parquet as pq\n",
    "\n",
    "p_data = pa.Table.from_pandas(data)\n",
    "pq.write_table(p_data, Path(LOAD_DATA_PATH) / LOAD_DATA_FILE)"
   ]
  }
 ],
 "metadata": {
  "kernelspec": {
   "display_name": "dvc_template",
   "language": "python",
   "name": "python3"
  },
  "language_info": {
   "codemirror_mode": {
    "name": "ipython",
    "version": 3
   },
   "file_extension": ".py",
   "mimetype": "text/x-python",
   "name": "python",
   "nbconvert_exporter": "python",
   "pygments_lexer": "ipython3",
   "version": "3.11.9"
  },
  "papermill": {
   "default_parameters": {},
   "duration": 2.310703,
   "end_time": "2024-08-27T14:15:19.924237",
   "environment_variables": {},
   "exception": null,
   "input_path": "src/model_1/download/download.ipynb",
   "output_path": "src/model_1/download/download_out.ipynb",
   "parameters": {},
   "start_time": "2024-08-27T14:15:17.613534",
   "version": "2.6.0"
  }
 },
 "nbformat": 4,
 "nbformat_minor": 5
}