{
 "cells": [
  {
   "cell_type": "code",
   "execution_count": 1,
   "id": "d4bdcd3f",
   "metadata": {
    "execution": {
     "iopub.execute_input": "2024-08-27T13:01:14.095855Z",
     "iopub.status.busy": "2024-08-27T13:01:14.095613Z",
     "iopub.status.idle": "2024-08-27T13:01:14.196306Z",
     "shell.execute_reply": "2024-08-27T13:01:14.196026Z"
    },
    "papermill": {
     "duration": 0.104623,
     "end_time": "2024-08-27T13:01:14.197317",
     "exception": false,
     "start_time": "2024-08-27T13:01:14.092694",
     "status": "completed"
    },
    "tags": []
   },
   "outputs": [],
   "source": [
    "import os\n",
    "from pathlib import Path\n",
    "\n",
    "from hydra import initialize_config_dir, compose\n",
    "\n",
    "with initialize_config_dir(version_base=None, config_dir=str(Path(os.get_exec_path()[0]).parent.parent / 'config')):\n",
    "\n",
    "    cfg=compose(overrides= [\"+models=model_1\"])\n",
    "    cfg = cfg['models']\n",
    "\n",
    "    LOAD_DATA_PATH = cfg['load']['LOAD_DATA_PATH']\n",
    "    LOAD_DATA_FILE = cfg['load']['LOAD_DATA_FILE']"
   ]
  },
  {
   "cell_type": "code",
   "execution_count": 2,
   "id": "4d426c36",
   "metadata": {
    "execution": {
     "iopub.execute_input": "2024-08-27T13:01:14.199451Z",
     "iopub.status.busy": "2024-08-27T13:01:14.199342Z",
     "iopub.status.idle": "2024-08-27T13:01:15.401271Z",
     "shell.execute_reply": "2024-08-27T13:01:15.400656Z"
    },
    "papermill": {
     "duration": 1.204892,
     "end_time": "2024-08-27T13:01:15.403007",
     "exception": false,
     "start_time": "2024-08-27T13:01:14.198115",
     "status": "completed"
    },
    "tags": []
   },
   "outputs": [
    {
     "name": "stderr",
     "output_type": "stream",
     "text": [
      "\r",
      "[*********************100%%**********************]  1 of 1 completed"
     ]
    },
    {
     "name": "stderr",
     "output_type": "stream",
     "text": [
      "\n"
     ]
    }
   ],
   "source": [
    "from datetime import datetime\n",
    "import yfinance as yf\n",
    "\n",
    "today = datetime.today().strftime('%Y-%m-%d')\n",
    "data = yf.download(tickers='BTC-USD', start=\"2017-01-02\", end=today)"
   ]
  },
  {
   "cell_type": "code",
   "execution_count": 3,
   "id": "3a45f912",
   "metadata": {
    "execution": {
     "iopub.execute_input": "2024-08-27T13:01:15.407028Z",
     "iopub.status.busy": "2024-08-27T13:01:15.406818Z",
     "iopub.status.idle": "2024-08-27T13:01:15.414729Z",
     "shell.execute_reply": "2024-08-27T13:01:15.414127Z"
    },
    "papermill": {
     "duration": 0.011685,
     "end_time": "2024-08-27T13:01:15.416497",
     "exception": false,
     "start_time": "2024-08-27T13:01:15.404812",
     "status": "completed"
    },
    "tags": []
   },
   "outputs": [
    {
     "data": {
      "text/html": [
       "<div>\n",
       "<style scoped>\n",
       "    .dataframe tbody tr th:only-of-type {\n",
       "        vertical-align: middle;\n",
       "    }\n",
       "\n",
       "    .dataframe tbody tr th {\n",
       "        vertical-align: top;\n",
       "    }\n",
       "\n",
       "    .dataframe thead th {\n",
       "        text-align: right;\n",
       "    }\n",
       "</style>\n",
       "<table border=\"1\" class=\"dataframe\">\n",
       "  <thead>\n",
       "    <tr style=\"text-align: right;\">\n",
       "      <th></th>\n",
       "      <th>Open</th>\n",
       "      <th>High</th>\n",
       "      <th>Low</th>\n",
       "      <th>Close</th>\n",
       "      <th>Adj Close</th>\n",
       "      <th>Volume</th>\n",
       "    </tr>\n",
       "    <tr>\n",
       "      <th>Date</th>\n",
       "      <th></th>\n",
       "      <th></th>\n",
       "      <th></th>\n",
       "      <th></th>\n",
       "      <th></th>\n",
       "      <th></th>\n",
       "    </tr>\n",
       "  </thead>\n",
       "  <tbody>\n",
       "    <tr>\n",
       "      <th>2017-01-02</th>\n",
       "      <td>998.617004</td>\n",
       "      <td>1031.390015</td>\n",
       "      <td>996.702026</td>\n",
       "      <td>1021.750000</td>\n",
       "      <td>1021.750000</td>\n",
       "      <td>222184992</td>\n",
       "    </tr>\n",
       "    <tr>\n",
       "      <th>2017-01-03</th>\n",
       "      <td>1021.599976</td>\n",
       "      <td>1044.079956</td>\n",
       "      <td>1021.599976</td>\n",
       "      <td>1043.839966</td>\n",
       "      <td>1043.839966</td>\n",
       "      <td>185168000</td>\n",
       "    </tr>\n",
       "    <tr>\n",
       "      <th>2017-01-04</th>\n",
       "      <td>1044.400024</td>\n",
       "      <td>1159.420044</td>\n",
       "      <td>1044.400024</td>\n",
       "      <td>1154.729980</td>\n",
       "      <td>1154.729980</td>\n",
       "      <td>344945984</td>\n",
       "    </tr>\n",
       "    <tr>\n",
       "      <th>2017-01-05</th>\n",
       "      <td>1156.729980</td>\n",
       "      <td>1191.099976</td>\n",
       "      <td>910.416992</td>\n",
       "      <td>1013.380005</td>\n",
       "      <td>1013.380005</td>\n",
       "      <td>510199008</td>\n",
       "    </tr>\n",
       "    <tr>\n",
       "      <th>2017-01-06</th>\n",
       "      <td>1014.239990</td>\n",
       "      <td>1046.810059</td>\n",
       "      <td>883.943970</td>\n",
       "      <td>902.200989</td>\n",
       "      <td>902.200989</td>\n",
       "      <td>351876000</td>\n",
       "    </tr>\n",
       "    <tr>\n",
       "      <th>2017-01-07</th>\n",
       "      <td>903.487000</td>\n",
       "      <td>908.585022</td>\n",
       "      <td>823.556030</td>\n",
       "      <td>908.585022</td>\n",
       "      <td>908.585022</td>\n",
       "      <td>279550016</td>\n",
       "    </tr>\n",
       "    <tr>\n",
       "      <th>2017-01-08</th>\n",
       "      <td>908.174988</td>\n",
       "      <td>942.723999</td>\n",
       "      <td>887.249023</td>\n",
       "      <td>911.198975</td>\n",
       "      <td>911.198975</td>\n",
       "      <td>158715008</td>\n",
       "    </tr>\n",
       "    <tr>\n",
       "      <th>2017-01-09</th>\n",
       "      <td>913.244019</td>\n",
       "      <td>913.685974</td>\n",
       "      <td>879.807007</td>\n",
       "      <td>902.828003</td>\n",
       "      <td>902.828003</td>\n",
       "      <td>141876992</td>\n",
       "    </tr>\n",
       "    <tr>\n",
       "      <th>2017-01-10</th>\n",
       "      <td>902.440002</td>\n",
       "      <td>914.872986</td>\n",
       "      <td>901.059998</td>\n",
       "      <td>907.679016</td>\n",
       "      <td>907.679016</td>\n",
       "      <td>115808000</td>\n",
       "    </tr>\n",
       "    <tr>\n",
       "      <th>2017-01-11</th>\n",
       "      <td>908.114990</td>\n",
       "      <td>919.447998</td>\n",
       "      <td>762.765015</td>\n",
       "      <td>777.757019</td>\n",
       "      <td>777.757019</td>\n",
       "      <td>310928992</td>\n",
       "    </tr>\n",
       "  </tbody>\n",
       "</table>\n",
       "</div>"
      ],
      "text/plain": [
       "                   Open         High          Low        Close    Adj Close  \\\n",
       "Date                                                                          \n",
       "2017-01-02   998.617004  1031.390015   996.702026  1021.750000  1021.750000   \n",
       "2017-01-03  1021.599976  1044.079956  1021.599976  1043.839966  1043.839966   \n",
       "2017-01-04  1044.400024  1159.420044  1044.400024  1154.729980  1154.729980   \n",
       "2017-01-05  1156.729980  1191.099976   910.416992  1013.380005  1013.380005   \n",
       "2017-01-06  1014.239990  1046.810059   883.943970   902.200989   902.200989   \n",
       "2017-01-07   903.487000   908.585022   823.556030   908.585022   908.585022   \n",
       "2017-01-08   908.174988   942.723999   887.249023   911.198975   911.198975   \n",
       "2017-01-09   913.244019   913.685974   879.807007   902.828003   902.828003   \n",
       "2017-01-10   902.440002   914.872986   901.059998   907.679016   907.679016   \n",
       "2017-01-11   908.114990   919.447998   762.765015   777.757019   777.757019   \n",
       "\n",
       "               Volume  \n",
       "Date                   \n",
       "2017-01-02  222184992  \n",
       "2017-01-03  185168000  \n",
       "2017-01-04  344945984  \n",
       "2017-01-05  510199008  \n",
       "2017-01-06  351876000  \n",
       "2017-01-07  279550016  \n",
       "2017-01-08  158715008  \n",
       "2017-01-09  141876992  \n",
       "2017-01-10  115808000  \n",
       "2017-01-11  310928992  "
      ]
     },
     "execution_count": 3,
     "metadata": {},
     "output_type": "execute_result"
    }
   ],
   "source": [
    "data.head(10)"
   ]
  },
  {
   "cell_type": "code",
   "execution_count": 4,
   "id": "1e56a666",
   "metadata": {
    "execution": {
     "iopub.execute_input": "2024-08-27T13:01:15.420052Z",
     "iopub.status.busy": "2024-08-27T13:01:15.419895Z",
     "iopub.status.idle": "2024-08-27T13:01:15.424884Z",
     "shell.execute_reply": "2024-08-27T13:01:15.424478Z"
    },
    "papermill": {
     "duration": 0.007833,
     "end_time": "2024-08-27T13:01:15.425680",
     "exception": false,
     "start_time": "2024-08-27T13:01:15.417847",
     "status": "completed"
    },
    "tags": []
   },
   "outputs": [
    {
     "data": {
      "text/html": [
       "<div>\n",
       "<style scoped>\n",
       "    .dataframe tbody tr th:only-of-type {\n",
       "        vertical-align: middle;\n",
       "    }\n",
       "\n",
       "    .dataframe tbody tr th {\n",
       "        vertical-align: top;\n",
       "    }\n",
       "\n",
       "    .dataframe thead th {\n",
       "        text-align: right;\n",
       "    }\n",
       "</style>\n",
       "<table border=\"1\" class=\"dataframe\">\n",
       "  <thead>\n",
       "    <tr style=\"text-align: right;\">\n",
       "      <th></th>\n",
       "      <th>Open</th>\n",
       "      <th>High</th>\n",
       "      <th>Low</th>\n",
       "      <th>Close</th>\n",
       "      <th>Adj Close</th>\n",
       "      <th>Volume</th>\n",
       "    </tr>\n",
       "    <tr>\n",
       "      <th>Date</th>\n",
       "      <th></th>\n",
       "      <th></th>\n",
       "      <th></th>\n",
       "      <th></th>\n",
       "      <th></th>\n",
       "      <th></th>\n",
       "    </tr>\n",
       "  </thead>\n",
       "  <tbody>\n",
       "    <tr>\n",
       "      <th>2024-08-17</th>\n",
       "      <td>58893.531250</td>\n",
       "      <td>59694.667969</td>\n",
       "      <td>58814.832031</td>\n",
       "      <td>59478.972656</td>\n",
       "      <td>59478.972656</td>\n",
       "      <td>13589684021</td>\n",
       "    </tr>\n",
       "    <tr>\n",
       "      <th>2024-08-18</th>\n",
       "      <td>59468.132812</td>\n",
       "      <td>60262.718750</td>\n",
       "      <td>58445.402344</td>\n",
       "      <td>58483.964844</td>\n",
       "      <td>58483.964844</td>\n",
       "      <td>17740625837</td>\n",
       "    </tr>\n",
       "    <tr>\n",
       "      <th>2024-08-19</th>\n",
       "      <td>58480.710938</td>\n",
       "      <td>59612.660156</td>\n",
       "      <td>57864.710938</td>\n",
       "      <td>59493.453125</td>\n",
       "      <td>59493.453125</td>\n",
       "      <td>25911207712</td>\n",
       "    </tr>\n",
       "    <tr>\n",
       "      <th>2024-08-20</th>\n",
       "      <td>59493.453125</td>\n",
       "      <td>61396.328125</td>\n",
       "      <td>58610.882812</td>\n",
       "      <td>59012.792969</td>\n",
       "      <td>59012.792969</td>\n",
       "      <td>31613400008</td>\n",
       "    </tr>\n",
       "    <tr>\n",
       "      <th>2024-08-21</th>\n",
       "      <td>59014.988281</td>\n",
       "      <td>61834.351562</td>\n",
       "      <td>58823.445312</td>\n",
       "      <td>61175.191406</td>\n",
       "      <td>61175.191406</td>\n",
       "      <td>32731154072</td>\n",
       "    </tr>\n",
       "    <tr>\n",
       "      <th>2024-08-22</th>\n",
       "      <td>61168.316406</td>\n",
       "      <td>61408.109375</td>\n",
       "      <td>59815.253906</td>\n",
       "      <td>60381.914062</td>\n",
       "      <td>60381.914062</td>\n",
       "      <td>27625734377</td>\n",
       "    </tr>\n",
       "    <tr>\n",
       "      <th>2024-08-23</th>\n",
       "      <td>60380.953125</td>\n",
       "      <td>64947.062500</td>\n",
       "      <td>60372.050781</td>\n",
       "      <td>64094.355469</td>\n",
       "      <td>64094.355469</td>\n",
       "      <td>42530509233</td>\n",
       "    </tr>\n",
       "    <tr>\n",
       "      <th>2024-08-24</th>\n",
       "      <td>64103.871094</td>\n",
       "      <td>64513.789062</td>\n",
       "      <td>63619.917969</td>\n",
       "      <td>64178.992188</td>\n",
       "      <td>64178.992188</td>\n",
       "      <td>21430585163</td>\n",
       "    </tr>\n",
       "    <tr>\n",
       "      <th>2024-08-25</th>\n",
       "      <td>64176.367188</td>\n",
       "      <td>64996.421875</td>\n",
       "      <td>63833.519531</td>\n",
       "      <td>64333.542969</td>\n",
       "      <td>64333.542969</td>\n",
       "      <td>18827683555</td>\n",
       "    </tr>\n",
       "    <tr>\n",
       "      <th>2024-08-26</th>\n",
       "      <td>64342.226562</td>\n",
       "      <td>64489.707031</td>\n",
       "      <td>62849.558594</td>\n",
       "      <td>62880.660156</td>\n",
       "      <td>62880.660156</td>\n",
       "      <td>27682040631</td>\n",
       "    </tr>\n",
       "  </tbody>\n",
       "</table>\n",
       "</div>"
      ],
      "text/plain": [
       "                    Open          High           Low         Close  \\\n",
       "Date                                                                 \n",
       "2024-08-17  58893.531250  59694.667969  58814.832031  59478.972656   \n",
       "2024-08-18  59468.132812  60262.718750  58445.402344  58483.964844   \n",
       "2024-08-19  58480.710938  59612.660156  57864.710938  59493.453125   \n",
       "2024-08-20  59493.453125  61396.328125  58610.882812  59012.792969   \n",
       "2024-08-21  59014.988281  61834.351562  58823.445312  61175.191406   \n",
       "2024-08-22  61168.316406  61408.109375  59815.253906  60381.914062   \n",
       "2024-08-23  60380.953125  64947.062500  60372.050781  64094.355469   \n",
       "2024-08-24  64103.871094  64513.789062  63619.917969  64178.992188   \n",
       "2024-08-25  64176.367188  64996.421875  63833.519531  64333.542969   \n",
       "2024-08-26  64342.226562  64489.707031  62849.558594  62880.660156   \n",
       "\n",
       "               Adj Close       Volume  \n",
       "Date                                   \n",
       "2024-08-17  59478.972656  13589684021  \n",
       "2024-08-18  58483.964844  17740625837  \n",
       "2024-08-19  59493.453125  25911207712  \n",
       "2024-08-20  59012.792969  31613400008  \n",
       "2024-08-21  61175.191406  32731154072  \n",
       "2024-08-22  60381.914062  27625734377  \n",
       "2024-08-23  64094.355469  42530509233  \n",
       "2024-08-24  64178.992188  21430585163  \n",
       "2024-08-25  64333.542969  18827683555  \n",
       "2024-08-26  62880.660156  27682040631  "
      ]
     },
     "execution_count": 4,
     "metadata": {},
     "output_type": "execute_result"
    }
   ],
   "source": [
    "data.tail(10)"
   ]
  },
  {
   "cell_type": "code",
   "execution_count": 5,
   "id": "b4cf2736",
   "metadata": {
    "execution": {
     "iopub.execute_input": "2024-08-27T13:01:15.427837Z",
     "iopub.status.busy": "2024-08-27T13:01:15.427733Z",
     "iopub.status.idle": "2024-08-27T13:01:15.434573Z",
     "shell.execute_reply": "2024-08-27T13:01:15.434324Z"
    },
    "papermill": {
     "duration": 0.008921,
     "end_time": "2024-08-27T13:01:15.435472",
     "exception": false,
     "start_time": "2024-08-27T13:01:15.426551",
     "status": "completed"
    },
    "tags": []
   },
   "outputs": [
    {
     "name": "stdout",
     "output_type": "stream",
     "text": [
      "Summary Statistics:\n",
      "               Open          High           Low         Close     Adj Close  \\\n",
      "count   2794.000000   2794.000000   2794.000000   2794.000000   2794.000000   \n",
      "mean   22704.530683  23223.296287  22151.440490  22725.187861  22725.187861   \n",
      "std    19383.344293  19817.588665  18905.513057  19391.756656  19391.756656   \n",
      "min      775.177979    823.307007    755.755981    777.757019    777.757019   \n",
      "25%     7239.771362   7388.334595   7081.433594   7245.359375   7245.359375   \n",
      "50%    15926.788574  16473.055664  15316.353516  16011.863281  16011.863281   \n",
      "75%    36651.662109  37589.809570  35279.448242  36677.276367  36677.276367   \n",
      "max    73079.375000  73750.070312  71334.093750  73083.500000  73083.500000   \n",
      "\n",
      "             Volume  \n",
      "count  2.794000e+03  \n",
      "mean   2.278618e+10  \n",
      "std    1.896952e+10  \n",
      "min    6.085170e+07  \n",
      "25%    7.560192e+09  \n",
      "50%    2.013978e+10  \n",
      "75%    3.248225e+10  \n",
      "max    3.509679e+11  \n"
     ]
    }
   ],
   "source": [
    "print('Summary Statistics:')\n",
    "print(data.describe())"
   ]
  },
  {
   "cell_type": "code",
   "execution_count": 6,
   "id": "74034f1a",
   "metadata": {
    "execution": {
     "iopub.execute_input": "2024-08-27T13:01:15.437561Z",
     "iopub.status.busy": "2024-08-27T13:01:15.437478Z",
     "iopub.status.idle": "2024-08-27T13:01:15.439285Z",
     "shell.execute_reply": "2024-08-27T13:01:15.439088Z"
    },
    "papermill": {
     "duration": 0.003575,
     "end_time": "2024-08-27T13:01:15.439943",
     "exception": false,
     "start_time": "2024-08-27T13:01:15.436368",
     "status": "completed"
    },
    "tags": []
   },
   "outputs": [
    {
     "name": "stdout",
     "output_type": "stream",
     "text": [
      "Data Types: Open         float64\n",
      "High         float64\n",
      "Low          float64\n",
      "Close        float64\n",
      "Adj Close    float64\n",
      "Volume         int64\n",
      "dtype: object\n"
     ]
    }
   ],
   "source": [
    "print('Data Types:', data.dtypes)"
   ]
  },
  {
   "cell_type": "code",
   "execution_count": 7,
   "id": "46c1c4e3",
   "metadata": {
    "execution": {
     "iopub.execute_input": "2024-08-27T13:01:15.441853Z",
     "iopub.status.busy": "2024-08-27T13:01:15.441777Z",
     "iopub.status.idle": "2024-08-27T13:01:15.466200Z",
     "shell.execute_reply": "2024-08-27T13:01:15.465991Z"
    },
    "papermill": {
     "duration": 0.026264,
     "end_time": "2024-08-27T13:01:15.466974",
     "exception": false,
     "start_time": "2024-08-27T13:01:15.440710",
     "status": "completed"
    },
    "tags": []
   },
   "outputs": [],
   "source": [
    "import pyarrow as pa\n",
    "import pyarrow.parquet as pq\n",
    "\n",
    "p_data = pa.Table.from_pandas(data)\n",
    "pq.write_table(p_data, Path(LOAD_DATA_PATH) / LOAD_DATA_FILE)"
   ]
  }
 ],
 "metadata": {
  "kernelspec": {
   "display_name": "dvc_template",
   "language": "python",
   "name": "python3"
  },
  "language_info": {
   "codemirror_mode": {
    "name": "ipython",
    "version": 3
   },
   "file_extension": ".py",
   "mimetype": "text/x-python",
   "name": "python",
   "nbconvert_exporter": "python",
   "pygments_lexer": "ipython3",
   "version": "3.11.9"
  },
  "papermill": {
   "default_parameters": {},
   "duration": 2.255181,
   "end_time": "2024-08-27T13:01:15.683386",
   "environment_variables": {},
   "exception": null,
   "input_path": "src/model_1/download/download.ipynb",
   "output_path": "src/model_1/download/download_out.ipynb",
   "parameters": {},
   "start_time": "2024-08-27T13:01:13.428205",
   "version": "2.6.0"
  }
 },
 "nbformat": 4,
 "nbformat_minor": 5
}