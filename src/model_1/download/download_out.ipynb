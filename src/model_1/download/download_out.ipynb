{
 "cells": [
  {
   "cell_type": "code",
   "execution_count": 1,
   "id": "e5bec3ff",
   "metadata": {
    "execution": {
     "iopub.execute_input": "2024-08-16T06:54:01.707909Z",
     "iopub.status.busy": "2024-08-16T06:54:01.707224Z",
     "iopub.status.idle": "2024-08-16T06:54:02.217976Z",
     "shell.execute_reply": "2024-08-16T06:54:02.217743Z"
    },
    "papermill": {
     "duration": 0.518078,
     "end_time": "2024-08-16T06:54:02.218953",
     "exception": false,
     "start_time": "2024-08-16T06:54:01.700875",
     "status": "completed"
    },
    "tags": []
   },
   "outputs": [],
   "source": [
    "import os\n",
    "\n",
    "from sklearn import datasets\n",
    "from dotenv import load_dotenv\n",
    "import pandas as pd\n",
    "from pathlib import Path\n",
    "\n",
    "load_dotenv()\n",
    "\n",
    "LOAD_DATA_PATH = os.environ.get(\"MODEL_1_LOAD_DATA_PATH\")\n",
    "\n",
    "dataset = datasets.load_diabetes()\n",
    "features = pd.DataFrame(data=dataset.data, \n",
    "                            columns=[\"feat%s\" % x for x in range(dataset.data.shape[1])])\n",
    "target = pd.DataFrame(data=dataset.target, columns=[\"target\"])\n",
    "\n",
    "features.to_csv(str(Path(LOAD_DATA_PATH) / 'initial_data.csv'))\n",
    "target.to_csv(str(Path(LOAD_DATA_PATH) / 'target.csv'))"
   ]
  }
 ],
 "metadata": {
  "language_info": {
   "codemirror_mode": {
    "name": "ipython",
    "version": 3
   },
   "file_extension": ".py",
   "mimetype": "text/x-python",
   "name": "python",
   "nbconvert_exporter": "python",
   "pygments_lexer": "ipython3",
   "version": "3.11.7"
  },
  "papermill": {
   "default_parameters": {},
   "duration": 1.532204,
   "end_time": "2024-08-16T06:54:02.435110",
   "environment_variables": {},
   "exception": null,
   "input_path": "src/model_1/download/download.ipynb",
   "output_path": "src/model_1/download/download_out.ipynb",
   "parameters": {},
   "start_time": "2024-08-16T06:54:00.902906",
   "version": "2.6.0"
  }
 },
 "nbformat": 4,
 "nbformat_minor": 5
}