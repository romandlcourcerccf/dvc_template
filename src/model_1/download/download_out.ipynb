{
 "cells": [
  {
   "cell_type": "code",
   "execution_count": 1,
   "id": "859a7489",
   "metadata": {
    "execution": {
     "iopub.execute_input": "2024-08-27T12:51:11.101744Z",
     "iopub.status.busy": "2024-08-27T12:51:11.101515Z",
     "iopub.status.idle": "2024-08-27T12:51:11.201998Z",
     "shell.execute_reply": "2024-08-27T12:51:11.201716Z"
    },
    "papermill": {
     "duration": 0.104288,
     "end_time": "2024-08-27T12:51:11.202909",
     "exception": false,
     "start_time": "2024-08-27T12:51:11.098621",
     "status": "completed"
    },
    "tags": []
   },
   "outputs": [],
   "source": [
    "import os\n",
    "from pathlib import Path\n",
    "\n",
    "from hydra import initialize_config_dir, compose\n",
    "\n",
    "with initialize_config_dir(version_base=None, config_dir=str(Path(os.get_exec_path()[0]).parent.parent / 'config')):\n",
    "\n",
    "    cfg=compose(overrides= [\"+models=model_1\"])\n",
    "    cfg = cfg['models']\n",
    "\n",
    "    LOAD_DATA_PATH = cfg['load']['LOAD_DATA_PATH']\n",
    "    LOAD_DATA_FILE = cfg['load']['LOAD_DATA_FILE']"
   ]
  },
  {
   "cell_type": "code",
   "execution_count": 2,
   "id": "51c0a9c3",
   "metadata": {
    "execution": {
     "iopub.execute_input": "2024-08-27T12:51:11.205252Z",
     "iopub.status.busy": "2024-08-27T12:51:11.205036Z",
     "iopub.status.idle": "2024-08-27T12:51:13.214440Z",
     "shell.execute_reply": "2024-08-27T12:51:13.214083Z"
    },
    "papermill": {
     "duration": 2.012351,
     "end_time": "2024-08-27T12:51:13.216035",
     "exception": false,
     "start_time": "2024-08-27T12:51:11.203684",
     "status": "completed"
    },
    "tags": []
   },
   "outputs": [
    {
     "name": "stderr",
     "output_type": "stream",
     "text": [
      "\r",
      "[*********************100%%**********************]  1 of 1 completed"
     ]
    },
    {
     "name": "stderr",
     "output_type": "stream",
     "text": [
      "\n"
     ]
    }
   ],
   "source": [
    "from datetime import datetime\n",
    "import yfinance as yf\n",
    "\n",
    "today = datetime.today().strftime('%Y-%m-%d')\n",
    "data = yf.download(tickers='BTC-USD', start=\"2018-01-02\", end=today)"
   ]
  },
  {
   "cell_type": "code",
   "execution_count": 3,
   "id": "68e9d4bc",
   "metadata": {
    "execution": {
     "iopub.execute_input": "2024-08-27T12:51:13.219885Z",
     "iopub.status.busy": "2024-08-27T12:51:13.219686Z",
     "iopub.status.idle": "2024-08-27T12:51:13.227364Z",
     "shell.execute_reply": "2024-08-27T12:51:13.227098Z"
    },
    "papermill": {
     "duration": 0.010302,
     "end_time": "2024-08-27T12:51:13.228283",
     "exception": false,
     "start_time": "2024-08-27T12:51:13.217981",
     "status": "completed"
    },
    "tags": []
   },
   "outputs": [
    {
     "data": {
      "text/html": [
       "<div>\n",
       "<style scoped>\n",
       "    .dataframe tbody tr th:only-of-type {\n",
       "        vertical-align: middle;\n",
       "    }\n",
       "\n",
       "    .dataframe tbody tr th {\n",
       "        vertical-align: top;\n",
       "    }\n",
       "\n",
       "    .dataframe thead th {\n",
       "        text-align: right;\n",
       "    }\n",
       "</style>\n",
       "<table border=\"1\" class=\"dataframe\">\n",
       "  <thead>\n",
       "    <tr style=\"text-align: right;\">\n",
       "      <th></th>\n",
       "      <th>Open</th>\n",
       "      <th>High</th>\n",
       "      <th>Low</th>\n",
       "      <th>Close</th>\n",
       "      <th>Adj Close</th>\n",
       "      <th>Volume</th>\n",
       "    </tr>\n",
       "    <tr>\n",
       "      <th>Date</th>\n",
       "      <th></th>\n",
       "      <th></th>\n",
       "      <th></th>\n",
       "      <th></th>\n",
       "      <th></th>\n",
       "      <th></th>\n",
       "    </tr>\n",
       "  </thead>\n",
       "  <tbody>\n",
       "    <tr>\n",
       "      <th>2018-01-02</th>\n",
       "      <td>13625.000000</td>\n",
       "      <td>15444.599609</td>\n",
       "      <td>13163.599609</td>\n",
       "      <td>14982.099609</td>\n",
       "      <td>14982.099609</td>\n",
       "      <td>16846600192</td>\n",
       "    </tr>\n",
       "    <tr>\n",
       "      <th>2018-01-03</th>\n",
       "      <td>14978.200195</td>\n",
       "      <td>15572.799805</td>\n",
       "      <td>14844.500000</td>\n",
       "      <td>15201.000000</td>\n",
       "      <td>15201.000000</td>\n",
       "      <td>16871900160</td>\n",
       "    </tr>\n",
       "    <tr>\n",
       "      <th>2018-01-04</th>\n",
       "      <td>15270.700195</td>\n",
       "      <td>15739.700195</td>\n",
       "      <td>14522.200195</td>\n",
       "      <td>15599.200195</td>\n",
       "      <td>15599.200195</td>\n",
       "      <td>21783199744</td>\n",
       "    </tr>\n",
       "    <tr>\n",
       "      <th>2018-01-05</th>\n",
       "      <td>15477.200195</td>\n",
       "      <td>17705.199219</td>\n",
       "      <td>15202.799805</td>\n",
       "      <td>17429.500000</td>\n",
       "      <td>17429.500000</td>\n",
       "      <td>23840899072</td>\n",
       "    </tr>\n",
       "    <tr>\n",
       "      <th>2018-01-06</th>\n",
       "      <td>17462.099609</td>\n",
       "      <td>17712.400391</td>\n",
       "      <td>16764.599609</td>\n",
       "      <td>17527.000000</td>\n",
       "      <td>17527.000000</td>\n",
       "      <td>18314600448</td>\n",
       "    </tr>\n",
       "    <tr>\n",
       "      <th>2018-01-07</th>\n",
       "      <td>17527.300781</td>\n",
       "      <td>17579.599609</td>\n",
       "      <td>16087.700195</td>\n",
       "      <td>16477.599609</td>\n",
       "      <td>16477.599609</td>\n",
       "      <td>15866000384</td>\n",
       "    </tr>\n",
       "    <tr>\n",
       "      <th>2018-01-08</th>\n",
       "      <td>16476.199219</td>\n",
       "      <td>16537.900391</td>\n",
       "      <td>14208.200195</td>\n",
       "      <td>15170.099609</td>\n",
       "      <td>15170.099609</td>\n",
       "      <td>18413899776</td>\n",
       "    </tr>\n",
       "    <tr>\n",
       "      <th>2018-01-09</th>\n",
       "      <td>15123.700195</td>\n",
       "      <td>15497.500000</td>\n",
       "      <td>14424.000000</td>\n",
       "      <td>14595.400391</td>\n",
       "      <td>14595.400391</td>\n",
       "      <td>16659999744</td>\n",
       "    </tr>\n",
       "    <tr>\n",
       "      <th>2018-01-10</th>\n",
       "      <td>14588.500000</td>\n",
       "      <td>14973.299805</td>\n",
       "      <td>13691.200195</td>\n",
       "      <td>14973.299805</td>\n",
       "      <td>14973.299805</td>\n",
       "      <td>18500800512</td>\n",
       "    </tr>\n",
       "    <tr>\n",
       "      <th>2018-01-11</th>\n",
       "      <td>14968.200195</td>\n",
       "      <td>15018.799805</td>\n",
       "      <td>13105.900391</td>\n",
       "      <td>13405.799805</td>\n",
       "      <td>13405.799805</td>\n",
       "      <td>16534099968</td>\n",
       "    </tr>\n",
       "  </tbody>\n",
       "</table>\n",
       "</div>"
      ],
      "text/plain": [
       "                    Open          High           Low         Close  \\\n",
       "Date                                                                 \n",
       "2018-01-02  13625.000000  15444.599609  13163.599609  14982.099609   \n",
       "2018-01-03  14978.200195  15572.799805  14844.500000  15201.000000   \n",
       "2018-01-04  15270.700195  15739.700195  14522.200195  15599.200195   \n",
       "2018-01-05  15477.200195  17705.199219  15202.799805  17429.500000   \n",
       "2018-01-06  17462.099609  17712.400391  16764.599609  17527.000000   \n",
       "2018-01-07  17527.300781  17579.599609  16087.700195  16477.599609   \n",
       "2018-01-08  16476.199219  16537.900391  14208.200195  15170.099609   \n",
       "2018-01-09  15123.700195  15497.500000  14424.000000  14595.400391   \n",
       "2018-01-10  14588.500000  14973.299805  13691.200195  14973.299805   \n",
       "2018-01-11  14968.200195  15018.799805  13105.900391  13405.799805   \n",
       "\n",
       "               Adj Close       Volume  \n",
       "Date                                   \n",
       "2018-01-02  14982.099609  16846600192  \n",
       "2018-01-03  15201.000000  16871900160  \n",
       "2018-01-04  15599.200195  21783199744  \n",
       "2018-01-05  17429.500000  23840899072  \n",
       "2018-01-06  17527.000000  18314600448  \n",
       "2018-01-07  16477.599609  15866000384  \n",
       "2018-01-08  15170.099609  18413899776  \n",
       "2018-01-09  14595.400391  16659999744  \n",
       "2018-01-10  14973.299805  18500800512  \n",
       "2018-01-11  13405.799805  16534099968  "
      ]
     },
     "execution_count": 3,
     "metadata": {},
     "output_type": "execute_result"
    }
   ],
   "source": [
    "data.head(10)"
   ]
  },
  {
   "cell_type": "code",
   "execution_count": 4,
   "id": "3715b486",
   "metadata": {
    "execution": {
     "iopub.execute_input": "2024-08-27T12:51:13.230669Z",
     "iopub.status.busy": "2024-08-27T12:51:13.230547Z",
     "iopub.status.idle": "2024-08-27T12:51:13.234935Z",
     "shell.execute_reply": "2024-08-27T12:51:13.234665Z"
    },
    "papermill": {
     "duration": 0.006585,
     "end_time": "2024-08-27T12:51:13.235813",
     "exception": false,
     "start_time": "2024-08-27T12:51:13.229228",
     "status": "completed"
    },
    "tags": []
   },
   "outputs": [
    {
     "data": {
      "text/html": [
       "<div>\n",
       "<style scoped>\n",
       "    .dataframe tbody tr th:only-of-type {\n",
       "        vertical-align: middle;\n",
       "    }\n",
       "\n",
       "    .dataframe tbody tr th {\n",
       "        vertical-align: top;\n",
       "    }\n",
       "\n",
       "    .dataframe thead th {\n",
       "        text-align: right;\n",
       "    }\n",
       "</style>\n",
       "<table border=\"1\" class=\"dataframe\">\n",
       "  <thead>\n",
       "    <tr style=\"text-align: right;\">\n",
       "      <th></th>\n",
       "      <th>Open</th>\n",
       "      <th>High</th>\n",
       "      <th>Low</th>\n",
       "      <th>Close</th>\n",
       "      <th>Adj Close</th>\n",
       "      <th>Volume</th>\n",
       "    </tr>\n",
       "    <tr>\n",
       "      <th>Date</th>\n",
       "      <th></th>\n",
       "      <th></th>\n",
       "      <th></th>\n",
       "      <th></th>\n",
       "      <th></th>\n",
       "      <th></th>\n",
       "    </tr>\n",
       "  </thead>\n",
       "  <tbody>\n",
       "    <tr>\n",
       "      <th>2024-08-17</th>\n",
       "      <td>58893.531250</td>\n",
       "      <td>59694.667969</td>\n",
       "      <td>58814.832031</td>\n",
       "      <td>59478.972656</td>\n",
       "      <td>59478.972656</td>\n",
       "      <td>13589684021</td>\n",
       "    </tr>\n",
       "    <tr>\n",
       "      <th>2024-08-18</th>\n",
       "      <td>59468.132812</td>\n",
       "      <td>60262.718750</td>\n",
       "      <td>58445.402344</td>\n",
       "      <td>58483.964844</td>\n",
       "      <td>58483.964844</td>\n",
       "      <td>17740625837</td>\n",
       "    </tr>\n",
       "    <tr>\n",
       "      <th>2024-08-19</th>\n",
       "      <td>58480.710938</td>\n",
       "      <td>59612.660156</td>\n",
       "      <td>57864.710938</td>\n",
       "      <td>59493.453125</td>\n",
       "      <td>59493.453125</td>\n",
       "      <td>25911207712</td>\n",
       "    </tr>\n",
       "    <tr>\n",
       "      <th>2024-08-20</th>\n",
       "      <td>59493.453125</td>\n",
       "      <td>61396.328125</td>\n",
       "      <td>58610.882812</td>\n",
       "      <td>59012.792969</td>\n",
       "      <td>59012.792969</td>\n",
       "      <td>31613400008</td>\n",
       "    </tr>\n",
       "    <tr>\n",
       "      <th>2024-08-21</th>\n",
       "      <td>59014.988281</td>\n",
       "      <td>61834.351562</td>\n",
       "      <td>58823.445312</td>\n",
       "      <td>61175.191406</td>\n",
       "      <td>61175.191406</td>\n",
       "      <td>32731154072</td>\n",
       "    </tr>\n",
       "    <tr>\n",
       "      <th>2024-08-22</th>\n",
       "      <td>61168.316406</td>\n",
       "      <td>61408.109375</td>\n",
       "      <td>59815.253906</td>\n",
       "      <td>60381.914062</td>\n",
       "      <td>60381.914062</td>\n",
       "      <td>27625734377</td>\n",
       "    </tr>\n",
       "    <tr>\n",
       "      <th>2024-08-23</th>\n",
       "      <td>60380.953125</td>\n",
       "      <td>64947.062500</td>\n",
       "      <td>60372.050781</td>\n",
       "      <td>64094.355469</td>\n",
       "      <td>64094.355469</td>\n",
       "      <td>42530509233</td>\n",
       "    </tr>\n",
       "    <tr>\n",
       "      <th>2024-08-24</th>\n",
       "      <td>64103.871094</td>\n",
       "      <td>64513.789062</td>\n",
       "      <td>63619.917969</td>\n",
       "      <td>64178.992188</td>\n",
       "      <td>64178.992188</td>\n",
       "      <td>21430585163</td>\n",
       "    </tr>\n",
       "    <tr>\n",
       "      <th>2024-08-25</th>\n",
       "      <td>64176.367188</td>\n",
       "      <td>64996.421875</td>\n",
       "      <td>63833.519531</td>\n",
       "      <td>64333.542969</td>\n",
       "      <td>64333.542969</td>\n",
       "      <td>18827683555</td>\n",
       "    </tr>\n",
       "    <tr>\n",
       "      <th>2024-08-26</th>\n",
       "      <td>64342.226562</td>\n",
       "      <td>64489.707031</td>\n",
       "      <td>62849.558594</td>\n",
       "      <td>62880.660156</td>\n",
       "      <td>62880.660156</td>\n",
       "      <td>27682040631</td>\n",
       "    </tr>\n",
       "  </tbody>\n",
       "</table>\n",
       "</div>"
      ],
      "text/plain": [
       "                    Open          High           Low         Close  \\\n",
       "Date                                                                 \n",
       "2024-08-17  58893.531250  59694.667969  58814.832031  59478.972656   \n",
       "2024-08-18  59468.132812  60262.718750  58445.402344  58483.964844   \n",
       "2024-08-19  58480.710938  59612.660156  57864.710938  59493.453125   \n",
       "2024-08-20  59493.453125  61396.328125  58610.882812  59012.792969   \n",
       "2024-08-21  59014.988281  61834.351562  58823.445312  61175.191406   \n",
       "2024-08-22  61168.316406  61408.109375  59815.253906  60381.914062   \n",
       "2024-08-23  60380.953125  64947.062500  60372.050781  64094.355469   \n",
       "2024-08-24  64103.871094  64513.789062  63619.917969  64178.992188   \n",
       "2024-08-25  64176.367188  64996.421875  63833.519531  64333.542969   \n",
       "2024-08-26  64342.226562  64489.707031  62849.558594  62880.660156   \n",
       "\n",
       "               Adj Close       Volume  \n",
       "Date                                   \n",
       "2024-08-17  59478.972656  13589684021  \n",
       "2024-08-18  58483.964844  17740625837  \n",
       "2024-08-19  59493.453125  25911207712  \n",
       "2024-08-20  59012.792969  31613400008  \n",
       "2024-08-21  61175.191406  32731154072  \n",
       "2024-08-22  60381.914062  27625734377  \n",
       "2024-08-23  64094.355469  42530509233  \n",
       "2024-08-24  64178.992188  21430585163  \n",
       "2024-08-25  64333.542969  18827683555  \n",
       "2024-08-26  62880.660156  27682040631  "
      ]
     },
     "execution_count": 4,
     "metadata": {},
     "output_type": "execute_result"
    }
   ],
   "source": [
    "data.tail(10)"
   ]
  },
  {
   "cell_type": "code",
   "execution_count": 5,
   "id": "38dcfe8e",
   "metadata": {
    "execution": {
     "iopub.execute_input": "2024-08-27T12:51:13.238709Z",
     "iopub.status.busy": "2024-08-27T12:51:13.238606Z",
     "iopub.status.idle": "2024-08-27T12:51:13.245713Z",
     "shell.execute_reply": "2024-08-27T12:51:13.245452Z"
    },
    "papermill": {
     "duration": 0.009631,
     "end_time": "2024-08-27T12:51:13.246496",
     "exception": false,
     "start_time": "2024-08-27T12:51:13.236865",
     "status": "completed"
    },
    "tags": []
   },
   "outputs": [
    {
     "name": "stdout",
     "output_type": "stream",
     "text": [
      "Summary Statistics:\n",
      "               Open          High           Low         Close     Adj Close  \\\n",
      "count   2429.000000   2429.000000   2429.000000   2429.000000   2429.000000   \n",
      "mean   25514.213592  26084.796125  24902.287108  25532.858680  25532.858680   \n",
      "std    19216.564425  19655.121486  18735.881681  19227.716638  19227.716638   \n",
      "min     3236.274658   3275.377930   3191.303467   3236.761719   3236.761719   \n",
      "25%     8794.389648   8958.469727   8597.308594   8801.038086   8801.038086   \n",
      "50%    20225.353516  20683.822266  19823.511719  20260.019531  20260.019531   \n",
      "75%    39664.250000  40617.585938  38652.593750  39698.371094  39698.371094   \n",
      "max    73079.375000  73750.070312  71334.093750  73083.500000  73083.500000   \n",
      "\n",
      "             Volume  \n",
      "count  2.429000e+03  \n",
      "mean   2.584797e+10  \n",
      "std    1.843842e+10  \n",
      "min    2.923670e+09  \n",
      "25%    1.342527e+10  \n",
      "50%    2.327626e+10  \n",
      "75%    3.439874e+10  \n",
      "max    3.509679e+11  \n"
     ]
    }
   ],
   "source": [
    "print('Summary Statistics:')\n",
    "print(data.describe())"
   ]
  },
  {
   "cell_type": "code",
   "execution_count": 6,
   "id": "9af67970",
   "metadata": {
    "execution": {
     "iopub.execute_input": "2024-08-27T12:51:13.248859Z",
     "iopub.status.busy": "2024-08-27T12:51:13.248765Z",
     "iopub.status.idle": "2024-08-27T12:51:13.250764Z",
     "shell.execute_reply": "2024-08-27T12:51:13.250548Z"
    },
    "papermill": {
     "duration": 0.004015,
     "end_time": "2024-08-27T12:51:13.251490",
     "exception": false,
     "start_time": "2024-08-27T12:51:13.247475",
     "status": "completed"
    },
    "tags": []
   },
   "outputs": [
    {
     "name": "stdout",
     "output_type": "stream",
     "text": [
      "Data Types: Open         float64\n",
      "High         float64\n",
      "Low          float64\n",
      "Close        float64\n",
      "Adj Close    float64\n",
      "Volume         int64\n",
      "dtype: object\n"
     ]
    }
   ],
   "source": [
    "print('Data Types:', data.dtypes)"
   ]
  },
  {
   "cell_type": "code",
   "execution_count": 7,
   "id": "bff2df96",
   "metadata": {
    "execution": {
     "iopub.execute_input": "2024-08-27T12:51:13.253639Z",
     "iopub.status.busy": "2024-08-27T12:51:13.253564Z",
     "iopub.status.idle": "2024-08-27T12:51:13.276090Z",
     "shell.execute_reply": "2024-08-27T12:51:13.275868Z"
    },
    "papermill": {
     "duration": 0.024536,
     "end_time": "2024-08-27T12:51:13.276916",
     "exception": false,
     "start_time": "2024-08-27T12:51:13.252380",
     "status": "completed"
    },
    "tags": []
   },
   "outputs": [],
   "source": [
    "import pyarrow as pa\n",
    "import pyarrow.parquet as pq\n",
    "\n",
    "p_data = pa.Table.from_pandas(data)\n",
    "pq.write_table(p_data, Path(LOAD_DATA_PATH) / LOAD_DATA_FILE)"
   ]
  }
 ],
 "metadata": {
  "kernelspec": {
   "display_name": "dvc_template",
   "language": "python",
   "name": "python3"
  },
  "language_info": {
   "codemirror_mode": {
    "name": "ipython",
    "version": 3
   },
   "file_extension": ".py",
   "mimetype": "text/x-python",
   "name": "python",
   "nbconvert_exporter": "python",
   "pygments_lexer": "ipython3",
   "version": "3.11.9"
  },
  "papermill": {
   "default_parameters": {},
   "duration": 3.056586,
   "end_time": "2024-08-27T12:51:13.493414",
   "environment_variables": {},
   "exception": null,
   "input_path": "src/model_1/download/download.ipynb",
   "output_path": "src/model_1/download/download_out.ipynb",
   "parameters": {},
   "start_time": "2024-08-27T12:51:10.436828",
   "version": "2.6.0"
  }
 },
 "nbformat": 4,
 "nbformat_minor": 5
}