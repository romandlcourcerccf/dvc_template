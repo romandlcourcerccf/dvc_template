{
 "cells": [
  {
   "cell_type": "code",
   "execution_count": 1,
   "id": "57c6ce03",
   "metadata": {
    "execution": {
     "iopub.execute_input": "2024-08-26T12:03:56.898322Z",
     "iopub.status.busy": "2024-08-26T12:03:56.897798Z",
     "iopub.status.idle": "2024-08-26T12:03:57.012877Z",
     "shell.execute_reply": "2024-08-26T12:03:57.012629Z"
    },
    "papermill": {
     "duration": 0.122117,
     "end_time": "2024-08-26T12:03:57.013822",
     "exception": false,
     "start_time": "2024-08-26T12:03:56.891705",
     "status": "completed"
    },
    "tags": []
   },
   "outputs": [],
   "source": [
    "import os\n",
    "from pathlib import Path\n",
    "\n",
    "from hydra import initialize_config_dir, compose\n",
    "\n",
    "with initialize_config_dir(version_base=None, config_dir=str(Path(os.get_exec_path()[0]).parent.parent / 'config')):\n",
    "\n",
    "    cfg=compose(overrides= [\"+models=model_1\"])\n",
    "    cfg = cfg['models']\n",
    "\n",
    "    LOAD_DATA_PATH = cfg['load']['LOAD_DATA_PATH']\n",
    "    LOAD_DATA_FILE = cfg['load']['LOAD_DATA_FILE']"
   ]
  },
  {
   "cell_type": "code",
   "execution_count": 2,
   "id": "27d1dcf4",
   "metadata": {
    "execution": {
     "iopub.execute_input": "2024-08-26T12:03:57.016008Z",
     "iopub.status.busy": "2024-08-26T12:03:57.015893Z",
     "iopub.status.idle": "2024-08-26T12:03:58.842937Z",
     "shell.execute_reply": "2024-08-26T12:03:58.842570Z"
    },
    "papermill": {
     "duration": 1.829736,
     "end_time": "2024-08-26T12:03:58.844296",
     "exception": false,
     "start_time": "2024-08-26T12:03:57.014560",
     "status": "completed"
    },
    "tags": []
   },
   "outputs": [
    {
     "name": "stderr",
     "output_type": "stream",
     "text": [
      "\r",
      "[*********************100%%**********************]  1 of 1 completed"
     ]
    },
    {
     "name": "stderr",
     "output_type": "stream",
     "text": [
      "\n"
     ]
    }
   ],
   "source": [
    "from datetime import datetime\n",
    "import yfinance as yf\n",
    "\n",
    "today = datetime.today().strftime('%Y-%m-%d')\n",
    "data = yf.download(tickers='BTC-USD', start=\"2015-01-02\", end=today)"
   ]
  },
  {
   "cell_type": "code",
   "execution_count": 3,
   "id": "cfbc5cf5",
   "metadata": {
    "execution": {
     "iopub.execute_input": "2024-08-26T12:03:58.847639Z",
     "iopub.status.busy": "2024-08-26T12:03:58.847459Z",
     "iopub.status.idle": "2024-08-26T12:03:58.855005Z",
     "shell.execute_reply": "2024-08-26T12:03:58.854723Z"
    },
    "papermill": {
     "duration": 0.009976,
     "end_time": "2024-08-26T12:03:58.855906",
     "exception": false,
     "start_time": "2024-08-26T12:03:58.845930",
     "status": "completed"
    },
    "tags": []
   },
   "outputs": [
    {
     "data": {
      "text/html": [
       "<div>\n",
       "<style scoped>\n",
       "    .dataframe tbody tr th:only-of-type {\n",
       "        vertical-align: middle;\n",
       "    }\n",
       "\n",
       "    .dataframe tbody tr th {\n",
       "        vertical-align: top;\n",
       "    }\n",
       "\n",
       "    .dataframe thead th {\n",
       "        text-align: right;\n",
       "    }\n",
       "</style>\n",
       "<table border=\"1\" class=\"dataframe\">\n",
       "  <thead>\n",
       "    <tr style=\"text-align: right;\">\n",
       "      <th></th>\n",
       "      <th>Open</th>\n",
       "      <th>High</th>\n",
       "      <th>Low</th>\n",
       "      <th>Close</th>\n",
       "      <th>Adj Close</th>\n",
       "      <th>Volume</th>\n",
       "    </tr>\n",
       "    <tr>\n",
       "      <th>Date</th>\n",
       "      <th></th>\n",
       "      <th></th>\n",
       "      <th></th>\n",
       "      <th></th>\n",
       "      <th></th>\n",
       "      <th></th>\n",
       "    </tr>\n",
       "  </thead>\n",
       "  <tbody>\n",
       "    <tr>\n",
       "      <th>2015-01-02</th>\n",
       "      <td>314.079010</td>\n",
       "      <td>315.838989</td>\n",
       "      <td>313.565002</td>\n",
       "      <td>315.032013</td>\n",
       "      <td>315.032013</td>\n",
       "      <td>7860650</td>\n",
       "    </tr>\n",
       "    <tr>\n",
       "      <th>2015-01-03</th>\n",
       "      <td>314.846008</td>\n",
       "      <td>315.149994</td>\n",
       "      <td>281.082001</td>\n",
       "      <td>281.082001</td>\n",
       "      <td>281.082001</td>\n",
       "      <td>33054400</td>\n",
       "    </tr>\n",
       "    <tr>\n",
       "      <th>2015-01-04</th>\n",
       "      <td>281.145996</td>\n",
       "      <td>287.230011</td>\n",
       "      <td>257.612000</td>\n",
       "      <td>264.195007</td>\n",
       "      <td>264.195007</td>\n",
       "      <td>55629100</td>\n",
       "    </tr>\n",
       "    <tr>\n",
       "      <th>2015-01-05</th>\n",
       "      <td>265.084015</td>\n",
       "      <td>278.341003</td>\n",
       "      <td>265.084015</td>\n",
       "      <td>274.473999</td>\n",
       "      <td>274.473999</td>\n",
       "      <td>43962800</td>\n",
       "    </tr>\n",
       "    <tr>\n",
       "      <th>2015-01-06</th>\n",
       "      <td>274.610992</td>\n",
       "      <td>287.553009</td>\n",
       "      <td>272.696014</td>\n",
       "      <td>286.188995</td>\n",
       "      <td>286.188995</td>\n",
       "      <td>23245700</td>\n",
       "    </tr>\n",
       "    <tr>\n",
       "      <th>2015-01-07</th>\n",
       "      <td>286.076996</td>\n",
       "      <td>298.753998</td>\n",
       "      <td>283.079010</td>\n",
       "      <td>294.337006</td>\n",
       "      <td>294.337006</td>\n",
       "      <td>24866800</td>\n",
       "    </tr>\n",
       "    <tr>\n",
       "      <th>2015-01-08</th>\n",
       "      <td>294.135010</td>\n",
       "      <td>294.135010</td>\n",
       "      <td>282.174988</td>\n",
       "      <td>283.348999</td>\n",
       "      <td>283.348999</td>\n",
       "      <td>19982500</td>\n",
       "    </tr>\n",
       "    <tr>\n",
       "      <th>2015-01-09</th>\n",
       "      <td>282.382996</td>\n",
       "      <td>291.114014</td>\n",
       "      <td>280.532990</td>\n",
       "      <td>290.407990</td>\n",
       "      <td>290.407990</td>\n",
       "      <td>18718600</td>\n",
       "    </tr>\n",
       "    <tr>\n",
       "      <th>2015-01-10</th>\n",
       "      <td>287.303009</td>\n",
       "      <td>288.127014</td>\n",
       "      <td>273.966003</td>\n",
       "      <td>274.795990</td>\n",
       "      <td>274.795990</td>\n",
       "      <td>15264300</td>\n",
       "    </tr>\n",
       "    <tr>\n",
       "      <th>2015-01-11</th>\n",
       "      <td>274.608002</td>\n",
       "      <td>279.638000</td>\n",
       "      <td>265.039001</td>\n",
       "      <td>265.660004</td>\n",
       "      <td>265.660004</td>\n",
       "      <td>18200800</td>\n",
       "    </tr>\n",
       "  </tbody>\n",
       "</table>\n",
       "</div>"
      ],
      "text/plain": [
       "                  Open        High         Low       Close   Adj Close  \\\n",
       "Date                                                                     \n",
       "2015-01-02  314.079010  315.838989  313.565002  315.032013  315.032013   \n",
       "2015-01-03  314.846008  315.149994  281.082001  281.082001  281.082001   \n",
       "2015-01-04  281.145996  287.230011  257.612000  264.195007  264.195007   \n",
       "2015-01-05  265.084015  278.341003  265.084015  274.473999  274.473999   \n",
       "2015-01-06  274.610992  287.553009  272.696014  286.188995  286.188995   \n",
       "2015-01-07  286.076996  298.753998  283.079010  294.337006  294.337006   \n",
       "2015-01-08  294.135010  294.135010  282.174988  283.348999  283.348999   \n",
       "2015-01-09  282.382996  291.114014  280.532990  290.407990  290.407990   \n",
       "2015-01-10  287.303009  288.127014  273.966003  274.795990  274.795990   \n",
       "2015-01-11  274.608002  279.638000  265.039001  265.660004  265.660004   \n",
       "\n",
       "              Volume  \n",
       "Date                  \n",
       "2015-01-02   7860650  \n",
       "2015-01-03  33054400  \n",
       "2015-01-04  55629100  \n",
       "2015-01-05  43962800  \n",
       "2015-01-06  23245700  \n",
       "2015-01-07  24866800  \n",
       "2015-01-08  19982500  \n",
       "2015-01-09  18718600  \n",
       "2015-01-10  15264300  \n",
       "2015-01-11  18200800  "
      ]
     },
     "execution_count": 3,
     "metadata": {},
     "output_type": "execute_result"
    }
   ],
   "source": [
    "data.head(10)"
   ]
  },
  {
   "cell_type": "code",
   "execution_count": 4,
   "id": "2d09bca9",
   "metadata": {
    "execution": {
     "iopub.execute_input": "2024-08-26T12:03:58.858336Z",
     "iopub.status.busy": "2024-08-26T12:03:58.858225Z",
     "iopub.status.idle": "2024-08-26T12:03:58.862432Z",
     "shell.execute_reply": "2024-08-26T12:03:58.862180Z"
    },
    "papermill": {
     "duration": 0.006419,
     "end_time": "2024-08-26T12:03:58.863366",
     "exception": false,
     "start_time": "2024-08-26T12:03:58.856947",
     "status": "completed"
    },
    "tags": []
   },
   "outputs": [
    {
     "data": {
      "text/html": [
       "<div>\n",
       "<style scoped>\n",
       "    .dataframe tbody tr th:only-of-type {\n",
       "        vertical-align: middle;\n",
       "    }\n",
       "\n",
       "    .dataframe tbody tr th {\n",
       "        vertical-align: top;\n",
       "    }\n",
       "\n",
       "    .dataframe thead th {\n",
       "        text-align: right;\n",
       "    }\n",
       "</style>\n",
       "<table border=\"1\" class=\"dataframe\">\n",
       "  <thead>\n",
       "    <tr style=\"text-align: right;\">\n",
       "      <th></th>\n",
       "      <th>Open</th>\n",
       "      <th>High</th>\n",
       "      <th>Low</th>\n",
       "      <th>Close</th>\n",
       "      <th>Adj Close</th>\n",
       "      <th>Volume</th>\n",
       "    </tr>\n",
       "    <tr>\n",
       "      <th>Date</th>\n",
       "      <th></th>\n",
       "      <th></th>\n",
       "      <th></th>\n",
       "      <th></th>\n",
       "      <th></th>\n",
       "      <th></th>\n",
       "    </tr>\n",
       "  </thead>\n",
       "  <tbody>\n",
       "    <tr>\n",
       "      <th>2024-08-16</th>\n",
       "      <td>57560.273438</td>\n",
       "      <td>59847.359375</td>\n",
       "      <td>57110.019531</td>\n",
       "      <td>58894.105469</td>\n",
       "      <td>58894.105469</td>\n",
       "      <td>29350938673</td>\n",
       "    </tr>\n",
       "    <tr>\n",
       "      <th>2024-08-17</th>\n",
       "      <td>58893.531250</td>\n",
       "      <td>59694.667969</td>\n",
       "      <td>58814.832031</td>\n",
       "      <td>59478.972656</td>\n",
       "      <td>59478.972656</td>\n",
       "      <td>13589684021</td>\n",
       "    </tr>\n",
       "    <tr>\n",
       "      <th>2024-08-18</th>\n",
       "      <td>59468.132812</td>\n",
       "      <td>60262.718750</td>\n",
       "      <td>58445.402344</td>\n",
       "      <td>58483.964844</td>\n",
       "      <td>58483.964844</td>\n",
       "      <td>17740625837</td>\n",
       "    </tr>\n",
       "    <tr>\n",
       "      <th>2024-08-19</th>\n",
       "      <td>58480.710938</td>\n",
       "      <td>59612.660156</td>\n",
       "      <td>57864.710938</td>\n",
       "      <td>59493.453125</td>\n",
       "      <td>59493.453125</td>\n",
       "      <td>25911207712</td>\n",
       "    </tr>\n",
       "    <tr>\n",
       "      <th>2024-08-20</th>\n",
       "      <td>59493.453125</td>\n",
       "      <td>61396.328125</td>\n",
       "      <td>58610.882812</td>\n",
       "      <td>59012.792969</td>\n",
       "      <td>59012.792969</td>\n",
       "      <td>31613400008</td>\n",
       "    </tr>\n",
       "    <tr>\n",
       "      <th>2024-08-21</th>\n",
       "      <td>59014.988281</td>\n",
       "      <td>61834.351562</td>\n",
       "      <td>58823.445312</td>\n",
       "      <td>61175.191406</td>\n",
       "      <td>61175.191406</td>\n",
       "      <td>32731154072</td>\n",
       "    </tr>\n",
       "    <tr>\n",
       "      <th>2024-08-22</th>\n",
       "      <td>61168.316406</td>\n",
       "      <td>61408.109375</td>\n",
       "      <td>59815.253906</td>\n",
       "      <td>60381.914062</td>\n",
       "      <td>60381.914062</td>\n",
       "      <td>27625734377</td>\n",
       "    </tr>\n",
       "    <tr>\n",
       "      <th>2024-08-23</th>\n",
       "      <td>60380.953125</td>\n",
       "      <td>64947.062500</td>\n",
       "      <td>60372.050781</td>\n",
       "      <td>64094.355469</td>\n",
       "      <td>64094.355469</td>\n",
       "      <td>42530509233</td>\n",
       "    </tr>\n",
       "    <tr>\n",
       "      <th>2024-08-24</th>\n",
       "      <td>64103.871094</td>\n",
       "      <td>64513.789062</td>\n",
       "      <td>63619.917969</td>\n",
       "      <td>64178.992188</td>\n",
       "      <td>64178.992188</td>\n",
       "      <td>21430585163</td>\n",
       "    </tr>\n",
       "    <tr>\n",
       "      <th>2024-08-25</th>\n",
       "      <td>64176.367188</td>\n",
       "      <td>64996.421875</td>\n",
       "      <td>63833.519531</td>\n",
       "      <td>64333.542969</td>\n",
       "      <td>64333.542969</td>\n",
       "      <td>18827683555</td>\n",
       "    </tr>\n",
       "  </tbody>\n",
       "</table>\n",
       "</div>"
      ],
      "text/plain": [
       "                    Open          High           Low         Close  \\\n",
       "Date                                                                 \n",
       "2024-08-16  57560.273438  59847.359375  57110.019531  58894.105469   \n",
       "2024-08-17  58893.531250  59694.667969  58814.832031  59478.972656   \n",
       "2024-08-18  59468.132812  60262.718750  58445.402344  58483.964844   \n",
       "2024-08-19  58480.710938  59612.660156  57864.710938  59493.453125   \n",
       "2024-08-20  59493.453125  61396.328125  58610.882812  59012.792969   \n",
       "2024-08-21  59014.988281  61834.351562  58823.445312  61175.191406   \n",
       "2024-08-22  61168.316406  61408.109375  59815.253906  60381.914062   \n",
       "2024-08-23  60380.953125  64947.062500  60372.050781  64094.355469   \n",
       "2024-08-24  64103.871094  64513.789062  63619.917969  64178.992188   \n",
       "2024-08-25  64176.367188  64996.421875  63833.519531  64333.542969   \n",
       "\n",
       "               Adj Close       Volume  \n",
       "Date                                   \n",
       "2024-08-16  58894.105469  29350938673  \n",
       "2024-08-17  59478.972656  13589684021  \n",
       "2024-08-18  58483.964844  17740625837  \n",
       "2024-08-19  59493.453125  25911207712  \n",
       "2024-08-20  59012.792969  31613400008  \n",
       "2024-08-21  61175.191406  32731154072  \n",
       "2024-08-22  60381.914062  27625734377  \n",
       "2024-08-23  64094.355469  42530509233  \n",
       "2024-08-24  64178.992188  21430585163  \n",
       "2024-08-25  64333.542969  18827683555  "
      ]
     },
     "execution_count": 4,
     "metadata": {},
     "output_type": "execute_result"
    }
   ],
   "source": [
    "data.tail(10)"
   ]
  },
  {
   "cell_type": "code",
   "execution_count": 5,
   "id": "173a5b82",
   "metadata": {
    "execution": {
     "iopub.execute_input": "2024-08-26T12:03:58.866702Z",
     "iopub.status.busy": "2024-08-26T12:03:58.866588Z",
     "iopub.status.idle": "2024-08-26T12:03:58.873150Z",
     "shell.execute_reply": "2024-08-26T12:03:58.872925Z"
    },
    "papermill": {
     "duration": 0.008882,
     "end_time": "2024-08-26T12:03:58.873820",
     "exception": false,
     "start_time": "2024-08-26T12:03:58.864938",
     "status": "completed"
    },
    "tags": []
   },
   "outputs": [
    {
     "name": "stdout",
     "output_type": "stream",
     "text": [
      "Summary Statistics:\n",
      "               Open          High           Low         Close     Adj Close  \\\n",
      "count   3524.000000   3524.000000   3524.000000   3524.000000   3524.000000   \n",
      "mean   18070.280328  18482.917953  17630.939467  18087.256528  18087.256528   \n",
      "std    19466.112358  19905.503103  18986.612112  19477.459340  19477.459340   \n",
      "min      176.897003    211.731003    171.509995    178.102997    178.102997   \n",
      "25%     2249.900085   2352.642517   2159.970032   2268.974976   2268.974976   \n",
      "50%     9322.738770   9473.759766   9165.256836   9323.249512   9323.249512   \n",
      "75%    29294.093262  29785.798340  28948.225586  29324.500000  29324.500000   \n",
      "max    73079.375000  73750.070312  71334.093750  73083.500000  73083.500000   \n",
      "\n",
      "             Volume  \n",
      "count  3.524000e+03  \n",
      "mean   1.807062e+10  \n",
      "std    1.924047e+10  \n",
      "min    7.860650e+06  \n",
      "25%    9.405255e+08  \n",
      "50%    1.455606e+10  \n",
      "75%    2.880273e+10  \n",
      "max    3.509679e+11  \n"
     ]
    }
   ],
   "source": [
    "print('Summary Statistics:')\n",
    "print(data.describe())"
   ]
  },
  {
   "cell_type": "code",
   "execution_count": 6,
   "id": "b4ff37d7",
   "metadata": {
    "execution": {
     "iopub.execute_input": "2024-08-26T12:03:58.876263Z",
     "iopub.status.busy": "2024-08-26T12:03:58.876179Z",
     "iopub.status.idle": "2024-08-26T12:03:58.878043Z",
     "shell.execute_reply": "2024-08-26T12:03:58.877840Z"
    },
    "papermill": {
     "duration": 0.003919,
     "end_time": "2024-08-26T12:03:58.878693",
     "exception": false,
     "start_time": "2024-08-26T12:03:58.874774",
     "status": "completed"
    },
    "tags": []
   },
   "outputs": [
    {
     "name": "stdout",
     "output_type": "stream",
     "text": [
      "Data Types: Open         float64\n",
      "High         float64\n",
      "Low          float64\n",
      "Close        float64\n",
      "Adj Close    float64\n",
      "Volume         int64\n",
      "dtype: object\n"
     ]
    }
   ],
   "source": [
    "print('Data Types:', data.dtypes)"
   ]
  },
  {
   "cell_type": "code",
   "execution_count": 7,
   "id": "f200d4f8",
   "metadata": {
    "execution": {
     "iopub.execute_input": "2024-08-26T12:03:58.881004Z",
     "iopub.status.busy": "2024-08-26T12:03:58.880920Z",
     "iopub.status.idle": "2024-08-26T12:03:58.906863Z",
     "shell.execute_reply": "2024-08-26T12:03:58.906605Z"
    },
    "papermill": {
     "duration": 0.027969,
     "end_time": "2024-08-26T12:03:58.907781",
     "exception": false,
     "start_time": "2024-08-26T12:03:58.879812",
     "status": "completed"
    },
    "tags": []
   },
   "outputs": [],
   "source": [
    "import pyarrow as pa\n",
    "import pyarrow.parquet as pq\n",
    "\n",
    "p_data = pa.Table.from_pandas(data)\n",
    "pq.write_table(p_data, Path(LOAD_DATA_PATH) / LOAD_DATA_FILE)"
   ]
  }
 ],
 "metadata": {
  "kernelspec": {
   "display_name": "dvc_template",
   "language": "python",
   "name": "python3"
  },
  "language_info": {
   "codemirror_mode": {
    "name": "ipython",
    "version": 3
   },
   "file_extension": ".py",
   "mimetype": "text/x-python",
   "name": "python",
   "nbconvert_exporter": "python",
   "pygments_lexer": "ipython3",
   "version": "3.11.9"
  },
  "papermill": {
   "default_parameters": {},
   "duration": 3.096892,
   "end_time": "2024-08-26T12:03:59.124386",
   "environment_variables": {},
   "exception": null,
   "input_path": "src/model_1/download/download.ipynb",
   "output_path": "src/model_1/download/download_out.ipynb",
   "parameters": {},
   "start_time": "2024-08-26T12:03:56.027494",
   "version": "2.6.0"
  }
 },
 "nbformat": 4,
 "nbformat_minor": 5
}