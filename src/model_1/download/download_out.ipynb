{
 "cells": [
  {
   "cell_type": "code",
   "execution_count": 1,
   "id": "38177442",
   "metadata": {
    "execution": {
     "iopub.execute_input": "2024-08-20T13:36:46.525337Z",
     "iopub.status.busy": "2024-08-20T13:36:46.524967Z",
     "iopub.status.idle": "2024-08-20T13:36:46.529206Z",
     "shell.execute_reply": "2024-08-20T13:36:46.528709Z"
    },
    "papermill": {
     "duration": 0.010858,
     "end_time": "2024-08-20T13:36:46.530661",
     "exception": false,
     "start_time": "2024-08-20T13:36:46.519803",
     "status": "completed"
    },
    "tags": []
   },
   "outputs": [],
   "source": [
    "# %pip install pandas_datareader"
   ]
  },
  {
   "cell_type": "code",
   "execution_count": 2,
   "id": "7ba7b9e8",
   "metadata": {
    "execution": {
     "iopub.execute_input": "2024-08-20T13:36:46.534020Z",
     "iopub.status.busy": "2024-08-20T13:36:46.533862Z",
     "iopub.status.idle": "2024-08-20T13:36:46.535988Z",
     "shell.execute_reply": "2024-08-20T13:36:46.535646Z"
    },
    "papermill": {
     "duration": 0.004906,
     "end_time": "2024-08-20T13:36:46.537104",
     "exception": false,
     "start_time": "2024-08-20T13:36:46.532198",
     "status": "completed"
    },
    "tags": []
   },
   "outputs": [],
   "source": [
    "# %pip install yfinance"
   ]
  },
  {
   "cell_type": "code",
   "execution_count": 3,
   "id": "4499c721",
   "metadata": {
    "execution": {
     "iopub.execute_input": "2024-08-20T13:36:46.539653Z",
     "iopub.status.busy": "2024-08-20T13:36:46.539494Z",
     "iopub.status.idle": "2024-08-20T13:36:46.541641Z",
     "shell.execute_reply": "2024-08-20T13:36:46.541334Z"
    },
    "papermill": {
     "duration": 0.004565,
     "end_time": "2024-08-20T13:36:46.542639",
     "exception": false,
     "start_time": "2024-08-20T13:36:46.538074",
     "status": "completed"
    },
    "tags": []
   },
   "outputs": [],
   "source": [
    "# %pip install pyarrow"
   ]
  },
  {
   "cell_type": "code",
   "execution_count": 4,
   "id": "bc6aa36c",
   "metadata": {
    "execution": {
     "iopub.execute_input": "2024-08-20T13:36:46.545373Z",
     "iopub.status.busy": "2024-08-20T13:36:46.545160Z",
     "iopub.status.idle": "2024-08-20T13:36:47.841213Z",
     "shell.execute_reply": "2024-08-20T13:36:47.840916Z"
    },
    "papermill": {
     "duration": 1.298527,
     "end_time": "2024-08-20T13:36:47.842191",
     "exception": false,
     "start_time": "2024-08-20T13:36:46.543664",
     "status": "completed"
    },
    "tags": []
   },
   "outputs": [
    {
     "name": "stdout",
     "output_type": "stream",
     "text": [
      "LOAD_DATA_PATH : /Users/roman/projects/dvc_template/data/model_1/download\n",
      "LOAD_DATA_FILE : raw_data.parquet\n"
     ]
    },
    {
     "name": "stderr",
     "output_type": "stream",
     "text": [
      "\r",
      "[*********************100%%**********************]  1 of 1 completed"
     ]
    },
    {
     "name": "stderr",
     "output_type": "stream",
     "text": [
      "\n"
     ]
    }
   ],
   "source": [
    "from dotenv import load_dotenv\n",
    "load_dotenv()\n",
    "\n",
    "import yfinance as yf\n",
    "import pandas as pd\n",
    "import numpy as np\n",
    "\n",
    "import pyarrow as pa\n",
    "import pyarrow.parquet as pq\n",
    "from pathlib import Path\n",
    "\n",
    "from datetime import datetime\n",
    "\n",
    "import os\n",
    "\n",
    "LOAD_DATA_PATH = os.environ.get(\"MODEL_1_LOAD_DATA_PATH\")\n",
    "LOAD_DATA_FILE = os.environ.get(\"MODEL_1_LOAD_DATA_FILE\")\n",
    "\n",
    "print('LOAD_DATA_PATH :', LOAD_DATA_PATH)\n",
    "print('LOAD_DATA_FILE :', LOAD_DATA_FILE)\n",
    "\n",
    "today = datetime.today().strftime('%Y-%m-%d')\n",
    "\n",
    "data = yf.download(tickers='BTC-USD', start=\"2014-01-04\", end=today)"
   ]
  },
  {
   "cell_type": "code",
   "execution_count": 5,
   "id": "6c590bc1",
   "metadata": {
    "execution": {
     "iopub.execute_input": "2024-08-20T13:36:47.844722Z",
     "iopub.status.busy": "2024-08-20T13:36:47.844578Z",
     "iopub.status.idle": "2024-08-20T13:36:47.851008Z",
     "shell.execute_reply": "2024-08-20T13:36:47.850794Z"
    },
    "papermill": {
     "duration": 0.00852,
     "end_time": "2024-08-20T13:36:47.851811",
     "exception": false,
     "start_time": "2024-08-20T13:36:47.843291",
     "status": "completed"
    },
    "tags": []
   },
   "outputs": [
    {
     "data": {
      "text/html": [
       "<div>\n",
       "<style scoped>\n",
       "    .dataframe tbody tr th:only-of-type {\n",
       "        vertical-align: middle;\n",
       "    }\n",
       "\n",
       "    .dataframe tbody tr th {\n",
       "        vertical-align: top;\n",
       "    }\n",
       "\n",
       "    .dataframe thead th {\n",
       "        text-align: right;\n",
       "    }\n",
       "</style>\n",
       "<table border=\"1\" class=\"dataframe\">\n",
       "  <thead>\n",
       "    <tr style=\"text-align: right;\">\n",
       "      <th></th>\n",
       "      <th>Open</th>\n",
       "      <th>High</th>\n",
       "      <th>Low</th>\n",
       "      <th>Close</th>\n",
       "      <th>Adj Close</th>\n",
       "      <th>Volume</th>\n",
       "    </tr>\n",
       "    <tr>\n",
       "      <th>Date</th>\n",
       "      <th></th>\n",
       "      <th></th>\n",
       "      <th></th>\n",
       "      <th></th>\n",
       "      <th></th>\n",
       "      <th></th>\n",
       "    </tr>\n",
       "  </thead>\n",
       "  <tbody>\n",
       "    <tr>\n",
       "      <th>2014-09-17</th>\n",
       "      <td>465.864014</td>\n",
       "      <td>468.174011</td>\n",
       "      <td>452.421997</td>\n",
       "      <td>457.334015</td>\n",
       "      <td>457.334015</td>\n",
       "      <td>21056800</td>\n",
       "    </tr>\n",
       "    <tr>\n",
       "      <th>2014-09-18</th>\n",
       "      <td>456.859985</td>\n",
       "      <td>456.859985</td>\n",
       "      <td>413.104004</td>\n",
       "      <td>424.440002</td>\n",
       "      <td>424.440002</td>\n",
       "      <td>34483200</td>\n",
       "    </tr>\n",
       "    <tr>\n",
       "      <th>2014-09-19</th>\n",
       "      <td>424.102997</td>\n",
       "      <td>427.834991</td>\n",
       "      <td>384.532013</td>\n",
       "      <td>394.795990</td>\n",
       "      <td>394.795990</td>\n",
       "      <td>37919700</td>\n",
       "    </tr>\n",
       "    <tr>\n",
       "      <th>2014-09-20</th>\n",
       "      <td>394.673004</td>\n",
       "      <td>423.295990</td>\n",
       "      <td>389.882996</td>\n",
       "      <td>408.903992</td>\n",
       "      <td>408.903992</td>\n",
       "      <td>36863600</td>\n",
       "    </tr>\n",
       "    <tr>\n",
       "      <th>2014-09-21</th>\n",
       "      <td>408.084991</td>\n",
       "      <td>412.425995</td>\n",
       "      <td>393.181000</td>\n",
       "      <td>398.821014</td>\n",
       "      <td>398.821014</td>\n",
       "      <td>26580100</td>\n",
       "    </tr>\n",
       "    <tr>\n",
       "      <th>2014-09-22</th>\n",
       "      <td>399.100006</td>\n",
       "      <td>406.915985</td>\n",
       "      <td>397.130005</td>\n",
       "      <td>402.152008</td>\n",
       "      <td>402.152008</td>\n",
       "      <td>24127600</td>\n",
       "    </tr>\n",
       "    <tr>\n",
       "      <th>2014-09-23</th>\n",
       "      <td>402.092010</td>\n",
       "      <td>441.557007</td>\n",
       "      <td>396.196991</td>\n",
       "      <td>435.790985</td>\n",
       "      <td>435.790985</td>\n",
       "      <td>45099500</td>\n",
       "    </tr>\n",
       "    <tr>\n",
       "      <th>2014-09-24</th>\n",
       "      <td>435.751007</td>\n",
       "      <td>436.112000</td>\n",
       "      <td>421.131989</td>\n",
       "      <td>423.204987</td>\n",
       "      <td>423.204987</td>\n",
       "      <td>30627700</td>\n",
       "    </tr>\n",
       "    <tr>\n",
       "      <th>2014-09-25</th>\n",
       "      <td>423.156006</td>\n",
       "      <td>423.519989</td>\n",
       "      <td>409.467987</td>\n",
       "      <td>411.574005</td>\n",
       "      <td>411.574005</td>\n",
       "      <td>26814400</td>\n",
       "    </tr>\n",
       "    <tr>\n",
       "      <th>2014-09-26</th>\n",
       "      <td>411.428986</td>\n",
       "      <td>414.937988</td>\n",
       "      <td>400.009003</td>\n",
       "      <td>404.424988</td>\n",
       "      <td>404.424988</td>\n",
       "      <td>21460800</td>\n",
       "    </tr>\n",
       "  </tbody>\n",
       "</table>\n",
       "</div>"
      ],
      "text/plain": [
       "                  Open        High         Low       Close   Adj Close  \\\n",
       "Date                                                                     \n",
       "2014-09-17  465.864014  468.174011  452.421997  457.334015  457.334015   \n",
       "2014-09-18  456.859985  456.859985  413.104004  424.440002  424.440002   \n",
       "2014-09-19  424.102997  427.834991  384.532013  394.795990  394.795990   \n",
       "2014-09-20  394.673004  423.295990  389.882996  408.903992  408.903992   \n",
       "2014-09-21  408.084991  412.425995  393.181000  398.821014  398.821014   \n",
       "2014-09-22  399.100006  406.915985  397.130005  402.152008  402.152008   \n",
       "2014-09-23  402.092010  441.557007  396.196991  435.790985  435.790985   \n",
       "2014-09-24  435.751007  436.112000  421.131989  423.204987  423.204987   \n",
       "2014-09-25  423.156006  423.519989  409.467987  411.574005  411.574005   \n",
       "2014-09-26  411.428986  414.937988  400.009003  404.424988  404.424988   \n",
       "\n",
       "              Volume  \n",
       "Date                  \n",
       "2014-09-17  21056800  \n",
       "2014-09-18  34483200  \n",
       "2014-09-19  37919700  \n",
       "2014-09-20  36863600  \n",
       "2014-09-21  26580100  \n",
       "2014-09-22  24127600  \n",
       "2014-09-23  45099500  \n",
       "2014-09-24  30627700  \n",
       "2014-09-25  26814400  \n",
       "2014-09-26  21460800  "
      ]
     },
     "execution_count": 5,
     "metadata": {},
     "output_type": "execute_result"
    }
   ],
   "source": [
    "data.head(10)"
   ]
  },
  {
   "cell_type": "code",
   "execution_count": 6,
   "id": "a5859dc4",
   "metadata": {
    "execution": {
     "iopub.execute_input": "2024-08-20T13:36:47.854259Z",
     "iopub.status.busy": "2024-08-20T13:36:47.854168Z",
     "iopub.status.idle": "2024-08-20T13:36:47.858082Z",
     "shell.execute_reply": "2024-08-20T13:36:47.857851Z"
    },
    "papermill": {
     "duration": 0.005995,
     "end_time": "2024-08-20T13:36:47.858869",
     "exception": false,
     "start_time": "2024-08-20T13:36:47.852874",
     "status": "completed"
    },
    "tags": []
   },
   "outputs": [
    {
     "data": {
      "text/html": [
       "<div>\n",
       "<style scoped>\n",
       "    .dataframe tbody tr th:only-of-type {\n",
       "        vertical-align: middle;\n",
       "    }\n",
       "\n",
       "    .dataframe tbody tr th {\n",
       "        vertical-align: top;\n",
       "    }\n",
       "\n",
       "    .dataframe thead th {\n",
       "        text-align: right;\n",
       "    }\n",
       "</style>\n",
       "<table border=\"1\" class=\"dataframe\">\n",
       "  <thead>\n",
       "    <tr style=\"text-align: right;\">\n",
       "      <th></th>\n",
       "      <th>Open</th>\n",
       "      <th>High</th>\n",
       "      <th>Low</th>\n",
       "      <th>Close</th>\n",
       "      <th>Adj Close</th>\n",
       "      <th>Volume</th>\n",
       "    </tr>\n",
       "    <tr>\n",
       "      <th>Date</th>\n",
       "      <th></th>\n",
       "      <th></th>\n",
       "      <th></th>\n",
       "      <th></th>\n",
       "      <th></th>\n",
       "      <th></th>\n",
       "    </tr>\n",
       "  </thead>\n",
       "  <tbody>\n",
       "    <tr>\n",
       "      <th>2024-08-10</th>\n",
       "      <td>60881.230469</td>\n",
       "      <td>61464.511719</td>\n",
       "      <td>60287.566406</td>\n",
       "      <td>60945.812500</td>\n",
       "      <td>60945.812500</td>\n",
       "      <td>15745822278</td>\n",
       "    </tr>\n",
       "    <tr>\n",
       "      <th>2024-08-11</th>\n",
       "      <td>60944.890625</td>\n",
       "      <td>61778.660156</td>\n",
       "      <td>58348.824219</td>\n",
       "      <td>58719.484375</td>\n",
       "      <td>58719.484375</td>\n",
       "      <td>22759754812</td>\n",
       "    </tr>\n",
       "    <tr>\n",
       "      <th>2024-08-12</th>\n",
       "      <td>58719.394531</td>\n",
       "      <td>60680.332031</td>\n",
       "      <td>57688.898438</td>\n",
       "      <td>59354.515625</td>\n",
       "      <td>59354.515625</td>\n",
       "      <td>37078637820</td>\n",
       "    </tr>\n",
       "    <tr>\n",
       "      <th>2024-08-13</th>\n",
       "      <td>59356.207031</td>\n",
       "      <td>61572.398438</td>\n",
       "      <td>58506.253906</td>\n",
       "      <td>60609.566406</td>\n",
       "      <td>60609.566406</td>\n",
       "      <td>30327698167</td>\n",
       "    </tr>\n",
       "    <tr>\n",
       "      <th>2024-08-14</th>\n",
       "      <td>60611.050781</td>\n",
       "      <td>61687.757812</td>\n",
       "      <td>58472.875000</td>\n",
       "      <td>58737.269531</td>\n",
       "      <td>58737.269531</td>\n",
       "      <td>29961696180</td>\n",
       "    </tr>\n",
       "    <tr>\n",
       "      <th>2024-08-15</th>\n",
       "      <td>58733.261719</td>\n",
       "      <td>59838.648438</td>\n",
       "      <td>56161.593750</td>\n",
       "      <td>57560.097656</td>\n",
       "      <td>57560.097656</td>\n",
       "      <td>35682112440</td>\n",
       "    </tr>\n",
       "    <tr>\n",
       "      <th>2024-08-16</th>\n",
       "      <td>57560.273438</td>\n",
       "      <td>59847.359375</td>\n",
       "      <td>57110.019531</td>\n",
       "      <td>58894.105469</td>\n",
       "      <td>58894.105469</td>\n",
       "      <td>29350938673</td>\n",
       "    </tr>\n",
       "    <tr>\n",
       "      <th>2024-08-17</th>\n",
       "      <td>58893.531250</td>\n",
       "      <td>59694.667969</td>\n",
       "      <td>58814.832031</td>\n",
       "      <td>59478.972656</td>\n",
       "      <td>59478.972656</td>\n",
       "      <td>13589684021</td>\n",
       "    </tr>\n",
       "    <tr>\n",
       "      <th>2024-08-18</th>\n",
       "      <td>59468.132812</td>\n",
       "      <td>60262.718750</td>\n",
       "      <td>58445.402344</td>\n",
       "      <td>58483.964844</td>\n",
       "      <td>58483.964844</td>\n",
       "      <td>17740625837</td>\n",
       "    </tr>\n",
       "    <tr>\n",
       "      <th>2024-08-19</th>\n",
       "      <td>58480.710938</td>\n",
       "      <td>59612.660156</td>\n",
       "      <td>57864.710938</td>\n",
       "      <td>59493.453125</td>\n",
       "      <td>59493.453125</td>\n",
       "      <td>25911207712</td>\n",
       "    </tr>\n",
       "  </tbody>\n",
       "</table>\n",
       "</div>"
      ],
      "text/plain": [
       "                    Open          High           Low         Close  \\\n",
       "Date                                                                 \n",
       "2024-08-10  60881.230469  61464.511719  60287.566406  60945.812500   \n",
       "2024-08-11  60944.890625  61778.660156  58348.824219  58719.484375   \n",
       "2024-08-12  58719.394531  60680.332031  57688.898438  59354.515625   \n",
       "2024-08-13  59356.207031  61572.398438  58506.253906  60609.566406   \n",
       "2024-08-14  60611.050781  61687.757812  58472.875000  58737.269531   \n",
       "2024-08-15  58733.261719  59838.648438  56161.593750  57560.097656   \n",
       "2024-08-16  57560.273438  59847.359375  57110.019531  58894.105469   \n",
       "2024-08-17  58893.531250  59694.667969  58814.832031  59478.972656   \n",
       "2024-08-18  59468.132812  60262.718750  58445.402344  58483.964844   \n",
       "2024-08-19  58480.710938  59612.660156  57864.710938  59493.453125   \n",
       "\n",
       "               Adj Close       Volume  \n",
       "Date                                   \n",
       "2024-08-10  60945.812500  15745822278  \n",
       "2024-08-11  58719.484375  22759754812  \n",
       "2024-08-12  59354.515625  37078637820  \n",
       "2024-08-13  60609.566406  30327698167  \n",
       "2024-08-14  58737.269531  29961696180  \n",
       "2024-08-15  57560.097656  35682112440  \n",
       "2024-08-16  58894.105469  29350938673  \n",
       "2024-08-17  59478.972656  13589684021  \n",
       "2024-08-18  58483.964844  17740625837  \n",
       "2024-08-19  59493.453125  25911207712  "
      ]
     },
     "execution_count": 6,
     "metadata": {},
     "output_type": "execute_result"
    }
   ],
   "source": [
    "data.tail(10)"
   ]
  },
  {
   "cell_type": "code",
   "execution_count": 7,
   "id": "d8ce3af2",
   "metadata": {
    "execution": {
     "iopub.execute_input": "2024-08-20T13:36:47.861185Z",
     "iopub.status.busy": "2024-08-20T13:36:47.861097Z",
     "iopub.status.idle": "2024-08-20T13:36:47.867656Z",
     "shell.execute_reply": "2024-08-20T13:36:47.867450Z"
    },
    "papermill": {
     "duration": 0.008485,
     "end_time": "2024-08-20T13:36:47.868346",
     "exception": false,
     "start_time": "2024-08-20T13:36:47.859861",
     "status": "completed"
    },
    "tags": []
   },
   "outputs": [
    {
     "name": "stdout",
     "output_type": "stream",
     "text": [
      "Summary Statistics:\n",
      "               Open          High           Low         Close     Adj Close  \\\n",
      "count   3625.000000   3625.000000   3625.000000   3625.000000   3625.000000   \n",
      "mean   17475.957664  17874.370585  17049.488389  17491.084395  17491.084395   \n",
      "std    19343.152610  19778.446314  18863.156236  19351.732893  19351.732893   \n",
      "min      176.897003    211.731003    171.509995    178.102997    178.102997   \n",
      "25%     1117.270020   1156.439941   1099.569946   1120.540039   1120.540039   \n",
      "50%     9056.917969   9232.936523   8814.556641   9073.942383   9073.942383   \n",
      "75%    28699.802734  29244.281250  28189.271484  28719.806641  28719.806641   \n",
      "max    73079.375000  73750.070312  71334.093750  73083.500000  73083.500000   \n",
      "\n",
      "             Volume  \n",
      "count  3.625000e+03  \n",
      "mean   1.751963e+10  \n",
      "std    1.920644e+10  \n",
      "min    5.914570e+06  \n",
      "25%    2.755640e+08  \n",
      "50%    1.367953e+10  \n",
      "75%    2.828269e+10  \n",
      "max    3.509679e+11  \n"
     ]
    }
   ],
   "source": [
    "print('Summary Statistics:')\n",
    "print(data.describe())"
   ]
  },
  {
   "cell_type": "code",
   "execution_count": 8,
   "id": "c1ab86fb",
   "metadata": {
    "execution": {
     "iopub.execute_input": "2024-08-20T13:36:47.870549Z",
     "iopub.status.busy": "2024-08-20T13:36:47.870461Z",
     "iopub.status.idle": "2024-08-20T13:36:47.872311Z",
     "shell.execute_reply": "2024-08-20T13:36:47.872118Z"
    },
    "papermill": {
     "duration": 0.003668,
     "end_time": "2024-08-20T13:36:47.872940",
     "exception": false,
     "start_time": "2024-08-20T13:36:47.869272",
     "status": "completed"
    },
    "tags": []
   },
   "outputs": [
    {
     "name": "stdout",
     "output_type": "stream",
     "text": [
      "Data Types: Open         float64\n",
      "High         float64\n",
      "Low          float64\n",
      "Close        float64\n",
      "Adj Close    float64\n",
      "Volume         int64\n",
      "dtype: object\n"
     ]
    }
   ],
   "source": [
    "print('Data Types:', data.dtypes)"
   ]
  },
  {
   "cell_type": "code",
   "execution_count": 9,
   "id": "01c97b63",
   "metadata": {
    "execution": {
     "iopub.execute_input": "2024-08-20T13:36:47.875239Z",
     "iopub.status.busy": "2024-08-20T13:36:47.875159Z",
     "iopub.status.idle": "2024-08-20T13:36:47.889177Z",
     "shell.execute_reply": "2024-08-20T13:36:47.888934Z"
    },
    "papermill": {
     "duration": 0.016002,
     "end_time": "2024-08-20T13:36:47.889906",
     "exception": false,
     "start_time": "2024-08-20T13:36:47.873904",
     "status": "completed"
    },
    "tags": []
   },
   "outputs": [],
   "source": [
    "p_data = pa.Table.from_pandas(data)\n",
    "pq.write_table(p_data, Path(LOAD_DATA_PATH) / LOAD_DATA_FILE)"
   ]
  }
 ],
 "metadata": {
  "kernelspec": {
   "display_name": "dvc_template",
   "language": "python",
   "name": "python3"
  },
  "language_info": {
   "codemirror_mode": {
    "name": "ipython",
    "version": 3
   },
   "file_extension": ".py",
   "mimetype": "text/x-python",
   "name": "python",
   "nbconvert_exporter": "python",
   "pygments_lexer": "ipython3",
   "version": "3.11.9"
  },
  "papermill": {
   "default_parameters": {},
   "duration": 2.207669,
   "end_time": "2024-08-20T13:36:48.106201",
   "environment_variables": {},
   "exception": null,
   "input_path": "src/model_1/download/download.ipynb",
   "output_path": "src/model_1/download/download_out.ipynb",
   "parameters": {},
   "start_time": "2024-08-20T13:36:45.898532",
   "version": "2.6.0"
  }
 },
 "nbformat": 4,
 "nbformat_minor": 5
}