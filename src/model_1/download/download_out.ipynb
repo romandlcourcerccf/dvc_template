{
 "cells": [
  {
   "cell_type": "code",
   "execution_count": 1,
   "id": "a61f00c8",
   "metadata": {
    "execution": {
     "iopub.execute_input": "2024-08-23T13:30:30.298293Z",
     "iopub.status.busy": "2024-08-23T13:30:30.298100Z",
     "iopub.status.idle": "2024-08-23T13:30:30.388918Z",
     "shell.execute_reply": "2024-08-23T13:30:30.388550Z"
    },
    "papermill": {
     "duration": 0.094669,
     "end_time": "2024-08-23T13:30:30.390107",
     "exception": false,
     "start_time": "2024-08-23T13:30:30.295438",
     "status": "completed"
    },
    "tags": []
   },
   "outputs": [],
   "source": [
    "import os\n",
    "from pathlib import Path\n",
    "\n",
    "from hydra import initialize_config_dir, compose\n",
    "\n",
    "with initialize_config_dir(version_base=None, config_dir=str(Path(os.get_exec_path()[0]).parent.parent / 'config')):\n",
    "\n",
    "    cfg=compose(overrides= [\"+models=model_1\"])\n",
    "    cfg = cfg['models']\n",
    "\n",
    "    LOAD_DATA_PATH = cfg['load']['LOAD_DATA_PATH']\n",
    "    LOAD_DATA_FILE = cfg['load']['LOAD_DATA_FILE']"
   ]
  },
  {
   "cell_type": "code",
   "execution_count": 2,
   "id": "5db8b6c0",
   "metadata": {
    "execution": {
     "iopub.execute_input": "2024-08-23T13:30:30.392966Z",
     "iopub.status.busy": "2024-08-23T13:30:30.392727Z",
     "iopub.status.idle": "2024-08-23T13:30:31.888440Z",
     "shell.execute_reply": "2024-08-23T13:30:31.888067Z"
    },
    "papermill": {
     "duration": 1.499011,
     "end_time": "2024-08-23T13:30:31.889987",
     "exception": false,
     "start_time": "2024-08-23T13:30:30.390976",
     "status": "completed"
    },
    "tags": []
   },
   "outputs": [
    {
     "name": "stderr",
     "output_type": "stream",
     "text": [
      "\r",
      "[*********************100%%**********************]  1 of 1 completed"
     ]
    },
    {
     "name": "stderr",
     "output_type": "stream",
     "text": [
      "\n"
     ]
    }
   ],
   "source": [
    "from datetime import datetime\n",
    "import yfinance as yf\n",
    "\n",
    "today = datetime.today().strftime('%Y-%m-%d')\n",
    "data = yf.download(tickers='BTC-USD', start=\"2015-01-02\", end=today)"
   ]
  },
  {
   "cell_type": "code",
   "execution_count": 3,
   "id": "767b5d0c",
   "metadata": {
    "execution": {
     "iopub.execute_input": "2024-08-23T13:30:31.893198Z",
     "iopub.status.busy": "2024-08-23T13:30:31.893018Z",
     "iopub.status.idle": "2024-08-23T13:30:31.900115Z",
     "shell.execute_reply": "2024-08-23T13:30:31.899887Z"
    },
    "papermill": {
     "duration": 0.009454,
     "end_time": "2024-08-23T13:30:31.900975",
     "exception": false,
     "start_time": "2024-08-23T13:30:31.891521",
     "status": "completed"
    },
    "tags": []
   },
   "outputs": [
    {
     "data": {
      "text/html": [
       "<div>\n",
       "<style scoped>\n",
       "    .dataframe tbody tr th:only-of-type {\n",
       "        vertical-align: middle;\n",
       "    }\n",
       "\n",
       "    .dataframe tbody tr th {\n",
       "        vertical-align: top;\n",
       "    }\n",
       "\n",
       "    .dataframe thead th {\n",
       "        text-align: right;\n",
       "    }\n",
       "</style>\n",
       "<table border=\"1\" class=\"dataframe\">\n",
       "  <thead>\n",
       "    <tr style=\"text-align: right;\">\n",
       "      <th></th>\n",
       "      <th>Open</th>\n",
       "      <th>High</th>\n",
       "      <th>Low</th>\n",
       "      <th>Close</th>\n",
       "      <th>Adj Close</th>\n",
       "      <th>Volume</th>\n",
       "    </tr>\n",
       "    <tr>\n",
       "      <th>Date</th>\n",
       "      <th></th>\n",
       "      <th></th>\n",
       "      <th></th>\n",
       "      <th></th>\n",
       "      <th></th>\n",
       "      <th></th>\n",
       "    </tr>\n",
       "  </thead>\n",
       "  <tbody>\n",
       "    <tr>\n",
       "      <th>2015-01-02</th>\n",
       "      <td>314.079010</td>\n",
       "      <td>315.838989</td>\n",
       "      <td>313.565002</td>\n",
       "      <td>315.032013</td>\n",
       "      <td>315.032013</td>\n",
       "      <td>7860650</td>\n",
       "    </tr>\n",
       "    <tr>\n",
       "      <th>2015-01-03</th>\n",
       "      <td>314.846008</td>\n",
       "      <td>315.149994</td>\n",
       "      <td>281.082001</td>\n",
       "      <td>281.082001</td>\n",
       "      <td>281.082001</td>\n",
       "      <td>33054400</td>\n",
       "    </tr>\n",
       "    <tr>\n",
       "      <th>2015-01-04</th>\n",
       "      <td>281.145996</td>\n",
       "      <td>287.230011</td>\n",
       "      <td>257.612000</td>\n",
       "      <td>264.195007</td>\n",
       "      <td>264.195007</td>\n",
       "      <td>55629100</td>\n",
       "    </tr>\n",
       "    <tr>\n",
       "      <th>2015-01-05</th>\n",
       "      <td>265.084015</td>\n",
       "      <td>278.341003</td>\n",
       "      <td>265.084015</td>\n",
       "      <td>274.473999</td>\n",
       "      <td>274.473999</td>\n",
       "      <td>43962800</td>\n",
       "    </tr>\n",
       "    <tr>\n",
       "      <th>2015-01-06</th>\n",
       "      <td>274.610992</td>\n",
       "      <td>287.553009</td>\n",
       "      <td>272.696014</td>\n",
       "      <td>286.188995</td>\n",
       "      <td>286.188995</td>\n",
       "      <td>23245700</td>\n",
       "    </tr>\n",
       "    <tr>\n",
       "      <th>2015-01-07</th>\n",
       "      <td>286.076996</td>\n",
       "      <td>298.753998</td>\n",
       "      <td>283.079010</td>\n",
       "      <td>294.337006</td>\n",
       "      <td>294.337006</td>\n",
       "      <td>24866800</td>\n",
       "    </tr>\n",
       "    <tr>\n",
       "      <th>2015-01-08</th>\n",
       "      <td>294.135010</td>\n",
       "      <td>294.135010</td>\n",
       "      <td>282.174988</td>\n",
       "      <td>283.348999</td>\n",
       "      <td>283.348999</td>\n",
       "      <td>19982500</td>\n",
       "    </tr>\n",
       "    <tr>\n",
       "      <th>2015-01-09</th>\n",
       "      <td>282.382996</td>\n",
       "      <td>291.114014</td>\n",
       "      <td>280.532990</td>\n",
       "      <td>290.407990</td>\n",
       "      <td>290.407990</td>\n",
       "      <td>18718600</td>\n",
       "    </tr>\n",
       "    <tr>\n",
       "      <th>2015-01-10</th>\n",
       "      <td>287.303009</td>\n",
       "      <td>288.127014</td>\n",
       "      <td>273.966003</td>\n",
       "      <td>274.795990</td>\n",
       "      <td>274.795990</td>\n",
       "      <td>15264300</td>\n",
       "    </tr>\n",
       "    <tr>\n",
       "      <th>2015-01-11</th>\n",
       "      <td>274.608002</td>\n",
       "      <td>279.638000</td>\n",
       "      <td>265.039001</td>\n",
       "      <td>265.660004</td>\n",
       "      <td>265.660004</td>\n",
       "      <td>18200800</td>\n",
       "    </tr>\n",
       "  </tbody>\n",
       "</table>\n",
       "</div>"
      ],
      "text/plain": [
       "                  Open        High         Low       Close   Adj Close  \\\n",
       "Date                                                                     \n",
       "2015-01-02  314.079010  315.838989  313.565002  315.032013  315.032013   \n",
       "2015-01-03  314.846008  315.149994  281.082001  281.082001  281.082001   \n",
       "2015-01-04  281.145996  287.230011  257.612000  264.195007  264.195007   \n",
       "2015-01-05  265.084015  278.341003  265.084015  274.473999  274.473999   \n",
       "2015-01-06  274.610992  287.553009  272.696014  286.188995  286.188995   \n",
       "2015-01-07  286.076996  298.753998  283.079010  294.337006  294.337006   \n",
       "2015-01-08  294.135010  294.135010  282.174988  283.348999  283.348999   \n",
       "2015-01-09  282.382996  291.114014  280.532990  290.407990  290.407990   \n",
       "2015-01-10  287.303009  288.127014  273.966003  274.795990  274.795990   \n",
       "2015-01-11  274.608002  279.638000  265.039001  265.660004  265.660004   \n",
       "\n",
       "              Volume  \n",
       "Date                  \n",
       "2015-01-02   7860650  \n",
       "2015-01-03  33054400  \n",
       "2015-01-04  55629100  \n",
       "2015-01-05  43962800  \n",
       "2015-01-06  23245700  \n",
       "2015-01-07  24866800  \n",
       "2015-01-08  19982500  \n",
       "2015-01-09  18718600  \n",
       "2015-01-10  15264300  \n",
       "2015-01-11  18200800  "
      ]
     },
     "execution_count": 3,
     "metadata": {},
     "output_type": "execute_result"
    }
   ],
   "source": [
    "data.head(10)"
   ]
  },
  {
   "cell_type": "code",
   "execution_count": 4,
   "id": "97c07ce6",
   "metadata": {
    "execution": {
     "iopub.execute_input": "2024-08-23T13:30:31.903243Z",
     "iopub.status.busy": "2024-08-23T13:30:31.903148Z",
     "iopub.status.idle": "2024-08-23T13:30:31.907408Z",
     "shell.execute_reply": "2024-08-23T13:30:31.907155Z"
    },
    "papermill": {
     "duration": 0.006273,
     "end_time": "2024-08-23T13:30:31.908194",
     "exception": false,
     "start_time": "2024-08-23T13:30:31.901921",
     "status": "completed"
    },
    "tags": []
   },
   "outputs": [
    {
     "data": {
      "text/html": [
       "<div>\n",
       "<style scoped>\n",
       "    .dataframe tbody tr th:only-of-type {\n",
       "        vertical-align: middle;\n",
       "    }\n",
       "\n",
       "    .dataframe tbody tr th {\n",
       "        vertical-align: top;\n",
       "    }\n",
       "\n",
       "    .dataframe thead th {\n",
       "        text-align: right;\n",
       "    }\n",
       "</style>\n",
       "<table border=\"1\" class=\"dataframe\">\n",
       "  <thead>\n",
       "    <tr style=\"text-align: right;\">\n",
       "      <th></th>\n",
       "      <th>Open</th>\n",
       "      <th>High</th>\n",
       "      <th>Low</th>\n",
       "      <th>Close</th>\n",
       "      <th>Adj Close</th>\n",
       "      <th>Volume</th>\n",
       "    </tr>\n",
       "    <tr>\n",
       "      <th>Date</th>\n",
       "      <th></th>\n",
       "      <th></th>\n",
       "      <th></th>\n",
       "      <th></th>\n",
       "      <th></th>\n",
       "      <th></th>\n",
       "    </tr>\n",
       "  </thead>\n",
       "  <tbody>\n",
       "    <tr>\n",
       "      <th>2024-08-13</th>\n",
       "      <td>59356.207031</td>\n",
       "      <td>61572.398438</td>\n",
       "      <td>58506.253906</td>\n",
       "      <td>60609.566406</td>\n",
       "      <td>60609.566406</td>\n",
       "      <td>30327698167</td>\n",
       "    </tr>\n",
       "    <tr>\n",
       "      <th>2024-08-14</th>\n",
       "      <td>60611.050781</td>\n",
       "      <td>61687.757812</td>\n",
       "      <td>58472.875000</td>\n",
       "      <td>58737.269531</td>\n",
       "      <td>58737.269531</td>\n",
       "      <td>29961696180</td>\n",
       "    </tr>\n",
       "    <tr>\n",
       "      <th>2024-08-15</th>\n",
       "      <td>58733.261719</td>\n",
       "      <td>59838.648438</td>\n",
       "      <td>56161.593750</td>\n",
       "      <td>57560.097656</td>\n",
       "      <td>57560.097656</td>\n",
       "      <td>35682112440</td>\n",
       "    </tr>\n",
       "    <tr>\n",
       "      <th>2024-08-16</th>\n",
       "      <td>57560.273438</td>\n",
       "      <td>59847.359375</td>\n",
       "      <td>57110.019531</td>\n",
       "      <td>58894.105469</td>\n",
       "      <td>58894.105469</td>\n",
       "      <td>29350938673</td>\n",
       "    </tr>\n",
       "    <tr>\n",
       "      <th>2024-08-17</th>\n",
       "      <td>58893.531250</td>\n",
       "      <td>59694.667969</td>\n",
       "      <td>58814.832031</td>\n",
       "      <td>59478.972656</td>\n",
       "      <td>59478.972656</td>\n",
       "      <td>13589684021</td>\n",
       "    </tr>\n",
       "    <tr>\n",
       "      <th>2024-08-18</th>\n",
       "      <td>59468.132812</td>\n",
       "      <td>60262.718750</td>\n",
       "      <td>58445.402344</td>\n",
       "      <td>58483.964844</td>\n",
       "      <td>58483.964844</td>\n",
       "      <td>17740625837</td>\n",
       "    </tr>\n",
       "    <tr>\n",
       "      <th>2024-08-19</th>\n",
       "      <td>58480.710938</td>\n",
       "      <td>59612.660156</td>\n",
       "      <td>57864.710938</td>\n",
       "      <td>59493.453125</td>\n",
       "      <td>59493.453125</td>\n",
       "      <td>25911207712</td>\n",
       "    </tr>\n",
       "    <tr>\n",
       "      <th>2024-08-20</th>\n",
       "      <td>59493.453125</td>\n",
       "      <td>61396.328125</td>\n",
       "      <td>58610.882812</td>\n",
       "      <td>59012.792969</td>\n",
       "      <td>59012.792969</td>\n",
       "      <td>31613400008</td>\n",
       "    </tr>\n",
       "    <tr>\n",
       "      <th>2024-08-21</th>\n",
       "      <td>59014.988281</td>\n",
       "      <td>61834.351562</td>\n",
       "      <td>58823.445312</td>\n",
       "      <td>61175.191406</td>\n",
       "      <td>61175.191406</td>\n",
       "      <td>32731154072</td>\n",
       "    </tr>\n",
       "    <tr>\n",
       "      <th>2024-08-22</th>\n",
       "      <td>61168.316406</td>\n",
       "      <td>61408.109375</td>\n",
       "      <td>59815.253906</td>\n",
       "      <td>60381.914062</td>\n",
       "      <td>60381.914062</td>\n",
       "      <td>27625734377</td>\n",
       "    </tr>\n",
       "  </tbody>\n",
       "</table>\n",
       "</div>"
      ],
      "text/plain": [
       "                    Open          High           Low         Close  \\\n",
       "Date                                                                 \n",
       "2024-08-13  59356.207031  61572.398438  58506.253906  60609.566406   \n",
       "2024-08-14  60611.050781  61687.757812  58472.875000  58737.269531   \n",
       "2024-08-15  58733.261719  59838.648438  56161.593750  57560.097656   \n",
       "2024-08-16  57560.273438  59847.359375  57110.019531  58894.105469   \n",
       "2024-08-17  58893.531250  59694.667969  58814.832031  59478.972656   \n",
       "2024-08-18  59468.132812  60262.718750  58445.402344  58483.964844   \n",
       "2024-08-19  58480.710938  59612.660156  57864.710938  59493.453125   \n",
       "2024-08-20  59493.453125  61396.328125  58610.882812  59012.792969   \n",
       "2024-08-21  59014.988281  61834.351562  58823.445312  61175.191406   \n",
       "2024-08-22  61168.316406  61408.109375  59815.253906  60381.914062   \n",
       "\n",
       "               Adj Close       Volume  \n",
       "Date                                   \n",
       "2024-08-13  60609.566406  30327698167  \n",
       "2024-08-14  58737.269531  29961696180  \n",
       "2024-08-15  57560.097656  35682112440  \n",
       "2024-08-16  58894.105469  29350938673  \n",
       "2024-08-17  59478.972656  13589684021  \n",
       "2024-08-18  58483.964844  17740625837  \n",
       "2024-08-19  59493.453125  25911207712  \n",
       "2024-08-20  59012.792969  31613400008  \n",
       "2024-08-21  61175.191406  32731154072  \n",
       "2024-08-22  60381.914062  27625734377  "
      ]
     },
     "execution_count": 4,
     "metadata": {},
     "output_type": "execute_result"
    }
   ],
   "source": [
    "data.tail(10)"
   ]
  },
  {
   "cell_type": "code",
   "execution_count": 5,
   "id": "f29c0a78",
   "metadata": {
    "execution": {
     "iopub.execute_input": "2024-08-23T13:30:31.910338Z",
     "iopub.status.busy": "2024-08-23T13:30:31.910243Z",
     "iopub.status.idle": "2024-08-23T13:30:31.916657Z",
     "shell.execute_reply": "2024-08-23T13:30:31.916437Z"
    },
    "papermill": {
     "duration": 0.008286,
     "end_time": "2024-08-23T13:30:31.917379",
     "exception": false,
     "start_time": "2024-08-23T13:30:31.909093",
     "status": "completed"
    },
    "tags": []
   },
   "outputs": [
    {
     "name": "stdout",
     "output_type": "stream",
     "text": [
      "Summary Statistics:\n",
      "               Open          High           Low         Close     Adj Close  \\\n",
      "count   3521.000000   3521.000000   3521.000000   3521.000000   3521.000000   \n",
      "mean   18032.095054  18443.438112  17592.617209  18047.965099  18047.965099   \n",
      "std    19430.298984  19867.946179  18949.167222  19439.155256  19439.155256   \n",
      "min      176.897003    211.731003    171.509995    178.102997    178.102997   \n",
      "25%     2233.520020   2320.820068   2145.570068   2255.610107   2255.610107   \n",
      "50%     9316.016602   9468.797852   9163.134766   9320.352539   9320.352539   \n",
      "75%    29278.314453  29688.564453  28929.609375  29282.914062  29282.914062   \n",
      "max    73079.375000  73750.070312  71334.093750  73083.500000  73083.500000   \n",
      "\n",
      "             Volume  \n",
      "count  3.521000e+03  \n",
      "mean   1.806251e+10  \n",
      "std    1.924416e+10  \n",
      "min    7.860650e+06  \n",
      "25%    9.374040e+08  \n",
      "50%    1.454523e+10  \n",
      "75%    2.879915e+10  \n",
      "max    3.509679e+11  \n"
     ]
    }
   ],
   "source": [
    "print('Summary Statistics:')\n",
    "print(data.describe())"
   ]
  },
  {
   "cell_type": "code",
   "execution_count": 6,
   "id": "2e506330",
   "metadata": {
    "execution": {
     "iopub.execute_input": "2024-08-23T13:30:31.919661Z",
     "iopub.status.busy": "2024-08-23T13:30:31.919577Z",
     "iopub.status.idle": "2024-08-23T13:30:31.921508Z",
     "shell.execute_reply": "2024-08-23T13:30:31.921266Z"
    },
    "papermill": {
     "duration": 0.00386,
     "end_time": "2024-08-23T13:30:31.922224",
     "exception": false,
     "start_time": "2024-08-23T13:30:31.918364",
     "status": "completed"
    },
    "tags": []
   },
   "outputs": [
    {
     "name": "stdout",
     "output_type": "stream",
     "text": [
      "Data Types: Open         float64\n",
      "High         float64\n",
      "Low          float64\n",
      "Close        float64\n",
      "Adj Close    float64\n",
      "Volume         int64\n",
      "dtype: object\n"
     ]
    }
   ],
   "source": [
    "print('Data Types:', data.dtypes)"
   ]
  },
  {
   "cell_type": "code",
   "execution_count": 7,
   "id": "98c27f3f",
   "metadata": {
    "execution": {
     "iopub.execute_input": "2024-08-23T13:30:31.924311Z",
     "iopub.status.busy": "2024-08-23T13:30:31.924213Z",
     "iopub.status.idle": "2024-08-23T13:30:31.935665Z",
     "shell.execute_reply": "2024-08-23T13:30:31.935477Z"
    },
    "papermill": {
     "duration": 0.013279,
     "end_time": "2024-08-23T13:30:31.936359",
     "exception": false,
     "start_time": "2024-08-23T13:30:31.923080",
     "status": "completed"
    },
    "tags": []
   },
   "outputs": [],
   "source": [
    "import pyarrow as pa\n",
    "import pyarrow.parquet as pq\n",
    "\n",
    "p_data = pa.Table.from_pandas(data)\n",
    "pq.write_table(p_data, Path(LOAD_DATA_PATH) / LOAD_DATA_FILE)"
   ]
  }
 ],
 "metadata": {
  "kernelspec": {
   "display_name": "dvc_template",
   "language": "python",
   "name": "python3"
  },
  "language_info": {
   "codemirror_mode": {
    "name": "ipython",
    "version": 3
   },
   "file_extension": ".py",
   "mimetype": "text/x-python",
   "name": "python",
   "nbconvert_exporter": "python",
   "pygments_lexer": "ipython3",
   "version": "3.11.9"
  },
  "papermill": {
   "default_parameters": {},
   "duration": 2.497409,
   "end_time": "2024-08-23T13:30:32.152818",
   "environment_variables": {},
   "exception": null,
   "input_path": "src/model_1/download/download.ipynb",
   "output_path": "src/model_1/download/download_out.ipynb",
   "parameters": {},
   "start_time": "2024-08-23T13:30:29.655409",
   "version": "2.6.0"
  }
 },
 "nbformat": 4,
 "nbformat_minor": 5
}