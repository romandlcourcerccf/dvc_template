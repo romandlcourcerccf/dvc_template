{
 "cells": [
  {
   "cell_type": "code",
   "execution_count": 1,
   "id": "ae5a10dd",
   "metadata": {
    "execution": {
     "iopub.execute_input": "2024-08-19T14:48:25.042562Z",
     "iopub.status.busy": "2024-08-19T14:48:25.042153Z",
     "iopub.status.idle": "2024-08-19T14:48:26.784543Z",
     "shell.execute_reply": "2024-08-19T14:48:26.784182Z"
    },
    "papermill": {
     "duration": 1.750325,
     "end_time": "2024-08-19T14:48:26.785542",
     "exception": false,
     "start_time": "2024-08-19T14:48:25.035217",
     "status": "completed"
    },
    "tags": []
   },
   "outputs": [
    {
     "name": "stdout",
     "output_type": "stream",
     "text": [
      "Requirement already satisfied: pandas_datareader in /opt/anaconda3/lib/python3.11/site-packages (0.10.0)\r\n",
      "Requirement already satisfied: lxml in /opt/anaconda3/lib/python3.11/site-packages (from pandas_datareader) (4.9.3)\r\n",
      "Requirement already satisfied: pandas>=0.23 in /opt/anaconda3/lib/python3.11/site-packages (from pandas_datareader) (2.1.4)\r\n"
     ]
    },
    {
     "name": "stdout",
     "output_type": "stream",
     "text": [
      "Requirement already satisfied: requests>=2.19.0 in /opt/anaconda3/lib/python3.11/site-packages (from pandas_datareader) (2.31.0)\r\n",
      "Requirement already satisfied: numpy<2,>=1.23.2 in /opt/anaconda3/lib/python3.11/site-packages (from pandas>=0.23->pandas_datareader) (1.26.4)\r\n",
      "Requirement already satisfied: python-dateutil>=2.8.2 in /opt/anaconda3/lib/python3.11/site-packages (from pandas>=0.23->pandas_datareader) (2.8.2)\r\n",
      "Requirement already satisfied: pytz>=2020.1 in /opt/anaconda3/lib/python3.11/site-packages (from pandas>=0.23->pandas_datareader) (2023.3.post1)\r\n",
      "Requirement already satisfied: tzdata>=2022.1 in /opt/anaconda3/lib/python3.11/site-packages (from pandas>=0.23->pandas_datareader) (2023.3)\r\n",
      "Requirement already satisfied: charset-normalizer<4,>=2 in /opt/anaconda3/lib/python3.11/site-packages (from requests>=2.19.0->pandas_datareader) (2.0.4)\r\n",
      "Requirement already satisfied: idna<4,>=2.5 in /opt/anaconda3/lib/python3.11/site-packages (from requests>=2.19.0->pandas_datareader) (3.4)\r\n",
      "Requirement already satisfied: urllib3<3,>=1.21.1 in /opt/anaconda3/lib/python3.11/site-packages (from requests>=2.19.0->pandas_datareader) (2.0.7)\r\n",
      "Requirement already satisfied: certifi>=2017.4.17 in /opt/anaconda3/lib/python3.11/site-packages (from requests>=2.19.0->pandas_datareader) (2024.6.2)\r\n",
      "Requirement already satisfied: six>=1.5 in /opt/anaconda3/lib/python3.11/site-packages (from python-dateutil>=2.8.2->pandas>=0.23->pandas_datareader) (1.16.0)\r\n"
     ]
    },
    {
     "name": "stdout",
     "output_type": "stream",
     "text": [
      "Note: you may need to restart the kernel to use updated packages.\n"
     ]
    }
   ],
   "source": [
    "%pip install pandas_datareader"
   ]
  },
  {
   "cell_type": "code",
   "execution_count": 2,
   "id": "4aceba27",
   "metadata": {
    "execution": {
     "iopub.execute_input": "2024-08-19T14:48:26.788632Z",
     "iopub.status.busy": "2024-08-19T14:48:26.788427Z",
     "iopub.status.idle": "2024-08-19T14:48:28.366477Z",
     "shell.execute_reply": "2024-08-19T14:48:28.366001Z"
    },
    "papermill": {
     "duration": 1.581074,
     "end_time": "2024-08-19T14:48:28.367790",
     "exception": false,
     "start_time": "2024-08-19T14:48:26.786716",
     "status": "completed"
    },
    "tags": []
   },
   "outputs": [
    {
     "name": "stdout",
     "output_type": "stream",
     "text": [
      "Requirement already satisfied: yfinance in /opt/anaconda3/lib/python3.11/site-packages (0.2.41)\r\n",
      "Requirement already satisfied: pandas>=1.3.0 in /opt/anaconda3/lib/python3.11/site-packages (from yfinance) (2.1.4)\r\n",
      "Requirement already satisfied: numpy>=1.16.5 in /opt/anaconda3/lib/python3.11/site-packages (from yfinance) (1.26.4)\r\n",
      "Requirement already satisfied: requests>=2.31 in /opt/anaconda3/lib/python3.11/site-packages (from yfinance) (2.31.0)\r\n",
      "Requirement already satisfied: multitasking>=0.0.7 in /opt/anaconda3/lib/python3.11/site-packages (from yfinance) (0.0.11)\r\n",
      "Requirement already satisfied: lxml>=4.9.1 in /opt/anaconda3/lib/python3.11/site-packages (from yfinance) (4.9.3)\r\n",
      "Requirement already satisfied: platformdirs>=2.0.0 in /opt/anaconda3/lib/python3.11/site-packages (from yfinance) (3.10.0)\r\n",
      "Requirement already satisfied: pytz>=2022.5 in /opt/anaconda3/lib/python3.11/site-packages (from yfinance) (2023.3.post1)\r\n",
      "Requirement already satisfied: frozendict>=2.3.4 in /opt/anaconda3/lib/python3.11/site-packages (from yfinance) (2.4.2)\r\n",
      "Requirement already satisfied: peewee>=3.16.2 in /opt/anaconda3/lib/python3.11/site-packages (from yfinance) (3.17.6)\r\n",
      "Requirement already satisfied: beautifulsoup4>=4.11.1 in /opt/anaconda3/lib/python3.11/site-packages (from yfinance) (4.12.2)\r\n",
      "Requirement already satisfied: html5lib>=1.1 in /opt/anaconda3/lib/python3.11/site-packages (from yfinance) (1.1)\r\n",
      "Requirement already satisfied: soupsieve>1.2 in /opt/anaconda3/lib/python3.11/site-packages (from beautifulsoup4>=4.11.1->yfinance) (2.5)\r\n",
      "Requirement already satisfied: six>=1.9 in /opt/anaconda3/lib/python3.11/site-packages (from html5lib>=1.1->yfinance) (1.16.0)\r\n",
      "Requirement already satisfied: webencodings in /opt/anaconda3/lib/python3.11/site-packages (from html5lib>=1.1->yfinance) (0.5.1)\r\n",
      "Requirement already satisfied: python-dateutil>=2.8.2 in /opt/anaconda3/lib/python3.11/site-packages (from pandas>=1.3.0->yfinance) (2.8.2)\r\n",
      "Requirement already satisfied: tzdata>=2022.1 in /opt/anaconda3/lib/python3.11/site-packages (from pandas>=1.3.0->yfinance) (2023.3)\r\n",
      "Requirement already satisfied: charset-normalizer<4,>=2 in /opt/anaconda3/lib/python3.11/site-packages (from requests>=2.31->yfinance) (2.0.4)\r\n",
      "Requirement already satisfied: idna<4,>=2.5 in /opt/anaconda3/lib/python3.11/site-packages (from requests>=2.31->yfinance) (3.4)\r\n",
      "Requirement already satisfied: urllib3<3,>=1.21.1 in /opt/anaconda3/lib/python3.11/site-packages (from requests>=2.31->yfinance) (2.0.7)\r\n",
      "Requirement already satisfied: certifi>=2017.4.17 in /opt/anaconda3/lib/python3.11/site-packages (from requests>=2.31->yfinance) (2024.6.2)\r\n"
     ]
    },
    {
     "name": "stdout",
     "output_type": "stream",
     "text": [
      "Note: you may need to restart the kernel to use updated packages.\n"
     ]
    }
   ],
   "source": [
    "%pip install yfinance"
   ]
  },
  {
   "cell_type": "code",
   "execution_count": 3,
   "id": "41186cbb",
   "metadata": {
    "execution": {
     "iopub.execute_input": "2024-08-19T14:48:28.371679Z",
     "iopub.status.busy": "2024-08-19T14:48:28.371496Z",
     "iopub.status.idle": "2024-08-19T14:48:29.941093Z",
     "shell.execute_reply": "2024-08-19T14:48:29.940632Z"
    },
    "papermill": {
     "duration": 1.572805,
     "end_time": "2024-08-19T14:48:29.942289",
     "exception": false,
     "start_time": "2024-08-19T14:48:28.369484",
     "status": "completed"
    },
    "tags": []
   },
   "outputs": [
    {
     "name": "stdout",
     "output_type": "stream",
     "text": [
      "Requirement already satisfied: pyarrow in /opt/anaconda3/lib/python3.11/site-packages (14.0.2)\r\n",
      "Requirement already satisfied: numpy>=1.16.6 in /opt/anaconda3/lib/python3.11/site-packages (from pyarrow) (1.26.4)\r\n"
     ]
    },
    {
     "name": "stdout",
     "output_type": "stream",
     "text": [
      "Note: you may need to restart the kernel to use updated packages.\n"
     ]
    }
   ],
   "source": [
    "%pip install pyarrow"
   ]
  },
  {
   "cell_type": "code",
   "execution_count": 4,
   "id": "ca174303",
   "metadata": {
    "execution": {
     "iopub.execute_input": "2024-08-19T14:48:29.946200Z",
     "iopub.status.busy": "2024-08-19T14:48:29.946040Z",
     "iopub.status.idle": "2024-08-19T14:48:32.895991Z",
     "shell.execute_reply": "2024-08-19T14:48:32.895587Z"
    },
    "papermill": {
     "duration": 2.953257,
     "end_time": "2024-08-19T14:48:32.897297",
     "exception": false,
     "start_time": "2024-08-19T14:48:29.944040",
     "status": "completed"
    },
    "tags": []
   },
   "outputs": [
    {
     "name": "stdout",
     "output_type": "stream",
     "text": [
      "LOAD_DATA_PATH : /Users/roman/projects/dvc_template/data/model_1/download\n",
      "LOAD_DATA_FILE : raw_data.parquet\n"
     ]
    },
    {
     "name": "stderr",
     "output_type": "stream",
     "text": [
      "\r",
      "[*********************100%%**********************]  1 of 1 completed"
     ]
    },
    {
     "name": "stderr",
     "output_type": "stream",
     "text": [
      "\n"
     ]
    }
   ],
   "source": [
    "from dotenv import load_dotenv\n",
    "load_dotenv()\n",
    "\n",
    "import yfinance as yf\n",
    "import pandas as pd\n",
    "import numpy as np\n",
    "\n",
    "import pyarrow as pa\n",
    "import pyarrow.parquet as pq\n",
    "from pathlib import Path\n",
    "\n",
    "from datetime import datetime\n",
    "\n",
    "import os\n",
    "\n",
    "LOAD_DATA_PATH = os.environ.get(\"MODEL_1_LOAD_DATA_PATH\")\n",
    "LOAD_DATA_FILE = os.environ.get(\"MODEL_1_LOAD_DATA_FILE\")\n",
    "\n",
    "print('LOAD_DATA_PATH :', LOAD_DATA_PATH)\n",
    "print('LOAD_DATA_FILE :', LOAD_DATA_FILE)\n",
    "\n",
    "today = datetime.today().strftime('%Y-%m-%d')\n",
    "\n",
    "data = yf.download(tickers='BTC-USD', start=\"2015-01-02\", end=today)"
   ]
  },
  {
   "cell_type": "code",
   "execution_count": 5,
   "id": "0595c055",
   "metadata": {
    "execution": {
     "iopub.execute_input": "2024-08-19T14:48:32.901792Z",
     "iopub.status.busy": "2024-08-19T14:48:32.901602Z",
     "iopub.status.idle": "2024-08-19T14:48:32.909887Z",
     "shell.execute_reply": "2024-08-19T14:48:32.909614Z"
    },
    "papermill": {
     "duration": 0.011391,
     "end_time": "2024-08-19T14:48:32.910890",
     "exception": false,
     "start_time": "2024-08-19T14:48:32.899499",
     "status": "completed"
    },
    "tags": []
   },
   "outputs": [
    {
     "data": {
      "text/html": [
       "<div>\n",
       "<style scoped>\n",
       "    .dataframe tbody tr th:only-of-type {\n",
       "        vertical-align: middle;\n",
       "    }\n",
       "\n",
       "    .dataframe tbody tr th {\n",
       "        vertical-align: top;\n",
       "    }\n",
       "\n",
       "    .dataframe thead th {\n",
       "        text-align: right;\n",
       "    }\n",
       "</style>\n",
       "<table border=\"1\" class=\"dataframe\">\n",
       "  <thead>\n",
       "    <tr style=\"text-align: right;\">\n",
       "      <th></th>\n",
       "      <th>Open</th>\n",
       "      <th>High</th>\n",
       "      <th>Low</th>\n",
       "      <th>Close</th>\n",
       "      <th>Adj Close</th>\n",
       "      <th>Volume</th>\n",
       "    </tr>\n",
       "    <tr>\n",
       "      <th>Date</th>\n",
       "      <th></th>\n",
       "      <th></th>\n",
       "      <th></th>\n",
       "      <th></th>\n",
       "      <th></th>\n",
       "      <th></th>\n",
       "    </tr>\n",
       "  </thead>\n",
       "  <tbody>\n",
       "    <tr>\n",
       "      <th>2015-01-02</th>\n",
       "      <td>314.079010</td>\n",
       "      <td>315.838989</td>\n",
       "      <td>313.565002</td>\n",
       "      <td>315.032013</td>\n",
       "      <td>315.032013</td>\n",
       "      <td>7860650</td>\n",
       "    </tr>\n",
       "    <tr>\n",
       "      <th>2015-01-03</th>\n",
       "      <td>314.846008</td>\n",
       "      <td>315.149994</td>\n",
       "      <td>281.082001</td>\n",
       "      <td>281.082001</td>\n",
       "      <td>281.082001</td>\n",
       "      <td>33054400</td>\n",
       "    </tr>\n",
       "    <tr>\n",
       "      <th>2015-01-04</th>\n",
       "      <td>281.145996</td>\n",
       "      <td>287.230011</td>\n",
       "      <td>257.612000</td>\n",
       "      <td>264.195007</td>\n",
       "      <td>264.195007</td>\n",
       "      <td>55629100</td>\n",
       "    </tr>\n",
       "    <tr>\n",
       "      <th>2015-01-05</th>\n",
       "      <td>265.084015</td>\n",
       "      <td>278.341003</td>\n",
       "      <td>265.084015</td>\n",
       "      <td>274.473999</td>\n",
       "      <td>274.473999</td>\n",
       "      <td>43962800</td>\n",
       "    </tr>\n",
       "    <tr>\n",
       "      <th>2015-01-06</th>\n",
       "      <td>274.610992</td>\n",
       "      <td>287.553009</td>\n",
       "      <td>272.696014</td>\n",
       "      <td>286.188995</td>\n",
       "      <td>286.188995</td>\n",
       "      <td>23245700</td>\n",
       "    </tr>\n",
       "    <tr>\n",
       "      <th>2015-01-07</th>\n",
       "      <td>286.076996</td>\n",
       "      <td>298.753998</td>\n",
       "      <td>283.079010</td>\n",
       "      <td>294.337006</td>\n",
       "      <td>294.337006</td>\n",
       "      <td>24866800</td>\n",
       "    </tr>\n",
       "    <tr>\n",
       "      <th>2015-01-08</th>\n",
       "      <td>294.135010</td>\n",
       "      <td>294.135010</td>\n",
       "      <td>282.174988</td>\n",
       "      <td>283.348999</td>\n",
       "      <td>283.348999</td>\n",
       "      <td>19982500</td>\n",
       "    </tr>\n",
       "    <tr>\n",
       "      <th>2015-01-09</th>\n",
       "      <td>282.382996</td>\n",
       "      <td>291.114014</td>\n",
       "      <td>280.532990</td>\n",
       "      <td>290.407990</td>\n",
       "      <td>290.407990</td>\n",
       "      <td>18718600</td>\n",
       "    </tr>\n",
       "    <tr>\n",
       "      <th>2015-01-10</th>\n",
       "      <td>287.303009</td>\n",
       "      <td>288.127014</td>\n",
       "      <td>273.966003</td>\n",
       "      <td>274.795990</td>\n",
       "      <td>274.795990</td>\n",
       "      <td>15264300</td>\n",
       "    </tr>\n",
       "    <tr>\n",
       "      <th>2015-01-11</th>\n",
       "      <td>274.608002</td>\n",
       "      <td>279.638000</td>\n",
       "      <td>265.039001</td>\n",
       "      <td>265.660004</td>\n",
       "      <td>265.660004</td>\n",
       "      <td>18200800</td>\n",
       "    </tr>\n",
       "  </tbody>\n",
       "</table>\n",
       "</div>"
      ],
      "text/plain": [
       "                  Open        High         Low       Close   Adj Close  \\\n",
       "Date                                                                     \n",
       "2015-01-02  314.079010  315.838989  313.565002  315.032013  315.032013   \n",
       "2015-01-03  314.846008  315.149994  281.082001  281.082001  281.082001   \n",
       "2015-01-04  281.145996  287.230011  257.612000  264.195007  264.195007   \n",
       "2015-01-05  265.084015  278.341003  265.084015  274.473999  274.473999   \n",
       "2015-01-06  274.610992  287.553009  272.696014  286.188995  286.188995   \n",
       "2015-01-07  286.076996  298.753998  283.079010  294.337006  294.337006   \n",
       "2015-01-08  294.135010  294.135010  282.174988  283.348999  283.348999   \n",
       "2015-01-09  282.382996  291.114014  280.532990  290.407990  290.407990   \n",
       "2015-01-10  287.303009  288.127014  273.966003  274.795990  274.795990   \n",
       "2015-01-11  274.608002  279.638000  265.039001  265.660004  265.660004   \n",
       "\n",
       "              Volume  \n",
       "Date                  \n",
       "2015-01-02   7860650  \n",
       "2015-01-03  33054400  \n",
       "2015-01-04  55629100  \n",
       "2015-01-05  43962800  \n",
       "2015-01-06  23245700  \n",
       "2015-01-07  24866800  \n",
       "2015-01-08  19982500  \n",
       "2015-01-09  18718600  \n",
       "2015-01-10  15264300  \n",
       "2015-01-11  18200800  "
      ]
     },
     "execution_count": 5,
     "metadata": {},
     "output_type": "execute_result"
    }
   ],
   "source": [
    "data.head(10)"
   ]
  },
  {
   "cell_type": "code",
   "execution_count": 6,
   "id": "f69d9d32",
   "metadata": {
    "execution": {
     "iopub.execute_input": "2024-08-19T14:48:32.914206Z",
     "iopub.status.busy": "2024-08-19T14:48:32.914097Z",
     "iopub.status.idle": "2024-08-19T14:48:32.918178Z",
     "shell.execute_reply": "2024-08-19T14:48:32.917932Z"
    },
    "papermill": {
     "duration": 0.006589,
     "end_time": "2024-08-19T14:48:32.918971",
     "exception": false,
     "start_time": "2024-08-19T14:48:32.912382",
     "status": "completed"
    },
    "tags": []
   },
   "outputs": [
    {
     "data": {
      "text/html": [
       "<div>\n",
       "<style scoped>\n",
       "    .dataframe tbody tr th:only-of-type {\n",
       "        vertical-align: middle;\n",
       "    }\n",
       "\n",
       "    .dataframe tbody tr th {\n",
       "        vertical-align: top;\n",
       "    }\n",
       "\n",
       "    .dataframe thead th {\n",
       "        text-align: right;\n",
       "    }\n",
       "</style>\n",
       "<table border=\"1\" class=\"dataframe\">\n",
       "  <thead>\n",
       "    <tr style=\"text-align: right;\">\n",
       "      <th></th>\n",
       "      <th>Open</th>\n",
       "      <th>High</th>\n",
       "      <th>Low</th>\n",
       "      <th>Close</th>\n",
       "      <th>Adj Close</th>\n",
       "      <th>Volume</th>\n",
       "    </tr>\n",
       "    <tr>\n",
       "      <th>Date</th>\n",
       "      <th></th>\n",
       "      <th></th>\n",
       "      <th></th>\n",
       "      <th></th>\n",
       "      <th></th>\n",
       "      <th></th>\n",
       "    </tr>\n",
       "  </thead>\n",
       "  <tbody>\n",
       "    <tr>\n",
       "      <th>2024-08-09</th>\n",
       "      <td>61728.207031</td>\n",
       "      <td>61751.863281</td>\n",
       "      <td>59587.859375</td>\n",
       "      <td>60880.113281</td>\n",
       "      <td>60880.113281</td>\n",
       "      <td>33425553115</td>\n",
       "    </tr>\n",
       "    <tr>\n",
       "      <th>2024-08-10</th>\n",
       "      <td>60881.230469</td>\n",
       "      <td>61464.511719</td>\n",
       "      <td>60287.566406</td>\n",
       "      <td>60945.812500</td>\n",
       "      <td>60945.812500</td>\n",
       "      <td>15745822278</td>\n",
       "    </tr>\n",
       "    <tr>\n",
       "      <th>2024-08-11</th>\n",
       "      <td>60944.890625</td>\n",
       "      <td>61778.660156</td>\n",
       "      <td>58348.824219</td>\n",
       "      <td>58719.484375</td>\n",
       "      <td>58719.484375</td>\n",
       "      <td>22759754812</td>\n",
       "    </tr>\n",
       "    <tr>\n",
       "      <th>2024-08-12</th>\n",
       "      <td>58719.394531</td>\n",
       "      <td>60680.332031</td>\n",
       "      <td>57688.898438</td>\n",
       "      <td>59354.515625</td>\n",
       "      <td>59354.515625</td>\n",
       "      <td>37078637820</td>\n",
       "    </tr>\n",
       "    <tr>\n",
       "      <th>2024-08-13</th>\n",
       "      <td>59356.207031</td>\n",
       "      <td>61572.398438</td>\n",
       "      <td>58506.253906</td>\n",
       "      <td>60609.566406</td>\n",
       "      <td>60609.566406</td>\n",
       "      <td>30327698167</td>\n",
       "    </tr>\n",
       "    <tr>\n",
       "      <th>2024-08-14</th>\n",
       "      <td>60611.050781</td>\n",
       "      <td>61687.757812</td>\n",
       "      <td>58472.875000</td>\n",
       "      <td>58737.269531</td>\n",
       "      <td>58737.269531</td>\n",
       "      <td>29961696180</td>\n",
       "    </tr>\n",
       "    <tr>\n",
       "      <th>2024-08-15</th>\n",
       "      <td>58733.261719</td>\n",
       "      <td>59838.648438</td>\n",
       "      <td>56161.593750</td>\n",
       "      <td>57560.097656</td>\n",
       "      <td>57560.097656</td>\n",
       "      <td>35682112440</td>\n",
       "    </tr>\n",
       "    <tr>\n",
       "      <th>2024-08-16</th>\n",
       "      <td>57560.273438</td>\n",
       "      <td>59847.359375</td>\n",
       "      <td>57110.019531</td>\n",
       "      <td>58894.105469</td>\n",
       "      <td>58894.105469</td>\n",
       "      <td>29350938673</td>\n",
       "    </tr>\n",
       "    <tr>\n",
       "      <th>2024-08-17</th>\n",
       "      <td>58893.531250</td>\n",
       "      <td>59694.667969</td>\n",
       "      <td>58814.832031</td>\n",
       "      <td>59478.972656</td>\n",
       "      <td>59478.972656</td>\n",
       "      <td>13589684021</td>\n",
       "    </tr>\n",
       "    <tr>\n",
       "      <th>2024-08-18</th>\n",
       "      <td>59468.132812</td>\n",
       "      <td>60262.718750</td>\n",
       "      <td>58445.402344</td>\n",
       "      <td>58483.964844</td>\n",
       "      <td>58483.964844</td>\n",
       "      <td>17740625837</td>\n",
       "    </tr>\n",
       "  </tbody>\n",
       "</table>\n",
       "</div>"
      ],
      "text/plain": [
       "                    Open          High           Low         Close  \\\n",
       "Date                                                                 \n",
       "2024-08-09  61728.207031  61751.863281  59587.859375  60880.113281   \n",
       "2024-08-10  60881.230469  61464.511719  60287.566406  60945.812500   \n",
       "2024-08-11  60944.890625  61778.660156  58348.824219  58719.484375   \n",
       "2024-08-12  58719.394531  60680.332031  57688.898438  59354.515625   \n",
       "2024-08-13  59356.207031  61572.398438  58506.253906  60609.566406   \n",
       "2024-08-14  60611.050781  61687.757812  58472.875000  58737.269531   \n",
       "2024-08-15  58733.261719  59838.648438  56161.593750  57560.097656   \n",
       "2024-08-16  57560.273438  59847.359375  57110.019531  58894.105469   \n",
       "2024-08-17  58893.531250  59694.667969  58814.832031  59478.972656   \n",
       "2024-08-18  59468.132812  60262.718750  58445.402344  58483.964844   \n",
       "\n",
       "               Adj Close       Volume  \n",
       "Date                                   \n",
       "2024-08-09  60880.113281  33425553115  \n",
       "2024-08-10  60945.812500  15745822278  \n",
       "2024-08-11  58719.484375  22759754812  \n",
       "2024-08-12  59354.515625  37078637820  \n",
       "2024-08-13  60609.566406  30327698167  \n",
       "2024-08-14  58737.269531  29961696180  \n",
       "2024-08-15  57560.097656  35682112440  \n",
       "2024-08-16  58894.105469  29350938673  \n",
       "2024-08-17  59478.972656  13589684021  \n",
       "2024-08-18  58483.964844  17740625837  "
      ]
     },
     "execution_count": 6,
     "metadata": {},
     "output_type": "execute_result"
    }
   ],
   "source": [
    "data.tail(10)"
   ]
  },
  {
   "cell_type": "code",
   "execution_count": 7,
   "id": "39b1291f",
   "metadata": {
    "execution": {
     "iopub.execute_input": "2024-08-19T14:48:32.922104Z",
     "iopub.status.busy": "2024-08-19T14:48:32.921970Z",
     "iopub.status.idle": "2024-08-19T14:48:32.928831Z",
     "shell.execute_reply": "2024-08-19T14:48:32.928605Z"
    },
    "papermill": {
     "duration": 0.009319,
     "end_time": "2024-08-19T14:48:32.929576",
     "exception": false,
     "start_time": "2024-08-19T14:48:32.920257",
     "status": "completed"
    },
    "tags": []
   },
   "outputs": [
    {
     "name": "stdout",
     "output_type": "stream",
     "text": [
      "Summary Statistics:\n",
      "               Open          High           Low         Close     Adj Close  \\\n",
      "count   3517.000000   3517.000000   3517.000000   3517.000000   3517.000000   \n",
      "mean   17984.887465  18394.965637  17545.775064  18000.233655  18000.233655   \n",
      "std    19390.787207  19827.120788  18908.910703  19398.552408  19398.552408   \n",
      "min      176.897003    211.731003    171.509995    178.102997    178.102997   \n",
      "25%     2230.120117   2311.080078   2124.570068   2233.340088   2233.340088   \n",
      "50%     9300.915039   9462.750000   9148.457031   9313.610352   9313.610352   \n",
      "75%    29230.873047  29668.908203  28845.509766  29267.224609  29267.224609   \n",
      "max    73079.375000  73750.070312  71334.093750  73083.500000  73083.500000   \n",
      "\n",
      "             Volume  \n",
      "count  3.517000e+03  \n",
      "mean   1.804953e+10  \n",
      "std    1.925102e+10  \n",
      "min    7.860650e+06  \n",
      "25%    9.335490e+08  \n",
      "50%    1.450382e+10  \n",
      "75%    2.876729e+10  \n",
      "max    3.509679e+11  \n"
     ]
    }
   ],
   "source": [
    "print('Summary Statistics:')\n",
    "print(data.describe())"
   ]
  },
  {
   "cell_type": "code",
   "execution_count": 8,
   "id": "33b4fa09",
   "metadata": {
    "execution": {
     "iopub.execute_input": "2024-08-19T14:48:32.932380Z",
     "iopub.status.busy": "2024-08-19T14:48:32.932301Z",
     "iopub.status.idle": "2024-08-19T14:48:32.934140Z",
     "shell.execute_reply": "2024-08-19T14:48:32.933911Z"
    },
    "papermill": {
     "duration": 0.004008,
     "end_time": "2024-08-19T14:48:32.934847",
     "exception": false,
     "start_time": "2024-08-19T14:48:32.930839",
     "status": "completed"
    },
    "tags": []
   },
   "outputs": [
    {
     "name": "stdout",
     "output_type": "stream",
     "text": [
      "Data Types: Open         float64\n",
      "High         float64\n",
      "Low          float64\n",
      "Close        float64\n",
      "Adj Close    float64\n",
      "Volume         int64\n",
      "dtype: object\n"
     ]
    }
   ],
   "source": [
    "print('Data Types:', data.dtypes)"
   ]
  },
  {
   "cell_type": "code",
   "execution_count": 9,
   "id": "4880be4a",
   "metadata": {
    "execution": {
     "iopub.execute_input": "2024-08-19T14:48:32.937468Z",
     "iopub.status.busy": "2024-08-19T14:48:32.937373Z",
     "iopub.status.idle": "2024-08-19T14:48:32.950478Z",
     "shell.execute_reply": "2024-08-19T14:48:32.950289Z"
    },
    "papermill": {
     "duration": 0.015275,
     "end_time": "2024-08-19T14:48:32.951249",
     "exception": false,
     "start_time": "2024-08-19T14:48:32.935974",
     "status": "completed"
    },
    "tags": []
   },
   "outputs": [],
   "source": [
    "p_data = pa.Table.from_pandas(data)\n",
    "pq.write_table(p_data, Path(LOAD_DATA_PATH) / LOAD_DATA_FILE)"
   ]
  }
 ],
 "metadata": {
  "kernelspec": {
   "display_name": "dvc_template",
   "language": "python",
   "name": "python3"
  },
  "language_info": {
   "codemirror_mode": {
    "name": "ipython",
    "version": 3
   },
   "file_extension": ".py",
   "mimetype": "text/x-python",
   "name": "python",
   "nbconvert_exporter": "python",
   "pygments_lexer": "ipython3",
   "version": "3.11.7"
  },
  "papermill": {
   "default_parameters": {},
   "duration": 9.159819,
   "end_time": "2024-08-19T14:48:33.167764",
   "environment_variables": {},
   "exception": null,
   "input_path": "src/model_1/download/download.ipynb",
   "output_path": "src/model_1/download/download_out.ipynb",
   "parameters": {},
   "start_time": "2024-08-19T14:48:24.007945",
   "version": "2.6.0"
  }
 },
 "nbformat": 4,
 "nbformat_minor": 5
}