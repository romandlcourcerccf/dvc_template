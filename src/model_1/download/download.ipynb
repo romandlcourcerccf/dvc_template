{
 "cells": [
  {
   "cell_type": "code",
   "execution_count": null,
   "metadata": {},
   "outputs": [],
   "source": [
    "import os\n",
    "\n",
    "from sklearn import datasets\n",
    "from dotenv import load_dotenv\n",
    "import pandas as pd\n",
    "from pathlib import Path\n",
    "\n",
    "load_dotenv()\n",
    "\n",
    "\n",
    "def load():\n",
    "\n",
    "    LOAD_DATA_PATH = os.environ.get(\"MODEL_1_LOAD_DATA_PATH\")\n",
    "\n",
    "    dataset = datasets.load_diabetes()\n",
    "    features = pd.DataFrame(data=dataset.data, \n",
    "                            columns=[\"feat%s\" % x for x in range(dataset.data.shape[1])])\n",
    "    target = pd.DataFrame(data=dataset.target, columns=[\"target\"])\n",
    "\n",
    "    features.to_csv(str(Path(LOAD_DATA_PATH) / 'initial_data.csv'))\n",
    "    target.to_csv(str(Path(LOAD_DATA_PATH) / 'target.csv'))\n",
    "\n",
    "    \n",
    "if __name__ == \"__main__\":  \n",
    "   \n",
    "   load()"
   ]
  }
 ],
 "metadata": {
  "language_info": {
   "name": "python"
  },
  "orig_nbformat": 4
 },
 "nbformat": 4,
 "nbformat_minor": 2
}
