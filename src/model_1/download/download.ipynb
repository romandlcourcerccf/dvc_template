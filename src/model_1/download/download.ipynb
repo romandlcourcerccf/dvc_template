{
 "cells": [
  {
   "cell_type": "code",
   "execution_count": null,
   "metadata": {},
   "outputs": [],
   "source": [
    "import os\n",
    "from pathlib import Path\n",
    "\n",
    "from hydra import initialize_config_dir, compose\n",
    "\n",
    "with initialize_config_dir(version_base=None, config_dir=str(Path(os.get_exec_path()[0]).parent.parent / 'config')):\n",
    "\n",
    "    cfg=compose(overrides= [\"+models=model_1\"])\n",
    "    cfg = cfg['models']\n",
    "\n",
    "    LOAD_DATA_PATH = cfg['load']['LOAD_DATA_PATH']\n",
    "    LOAD_DATA_FILE = cfg['load']['LOAD_DATA_FILE']"
   ]
  },
  {
   "cell_type": "code",
   "execution_count": null,
   "metadata": {},
   "outputs": [],
   "source": [
    "from datetime import datetime\n",
    "import yfinance as yf\n",
    "\n",
    "today = datetime.today().strftime('%Y-%m-%d')\n",
    "data = yf.download(tickers='BTC-USD', start=\"2015-01-02\", end=today)"
   ]
  },
  {
   "cell_type": "code",
   "execution_count": null,
   "metadata": {},
   "outputs": [],
   "source": [
    "data.head(10)"
   ]
  },
  {
   "cell_type": "code",
   "execution_count": null,
   "metadata": {},
   "outputs": [],
   "source": [
    "data.tail(10)"
   ]
  },
  {
   "cell_type": "code",
   "execution_count": null,
   "metadata": {},
   "outputs": [],
   "source": [
    "print('Summary Statistics:')\n",
    "print(data.describe())"
   ]
  },
  {
   "cell_type": "code",
   "execution_count": null,
   "metadata": {},
   "outputs": [],
   "source": [
    "print('Data Types:', data.dtypes)"
   ]
  },
  {
   "cell_type": "code",
   "execution_count": null,
   "metadata": {},
   "outputs": [],
   "source": [
    "import pyarrow as pa\n",
    "import pyarrow.parquet as pq\n",
    "\n",
    "p_data = pa.Table.from_pandas(data)\n",
    "pq.write_table(p_data, Path(LOAD_DATA_PATH) / LOAD_DATA_FILE)"
   ]
  }
 ],
 "metadata": {
  "kernelspec": {
   "display_name": "dvc_template",
   "language": "python",
   "name": "python3"
  },
  "language_info": {
   "name": "python",
   "version": "3.11.9"
  },
  "orig_nbformat": 4
 },
 "nbformat": 4,
 "nbformat_minor": 2
}
