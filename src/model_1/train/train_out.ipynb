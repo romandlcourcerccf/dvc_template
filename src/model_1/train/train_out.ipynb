{
 "cells": [
  {
   "cell_type": "code",
   "execution_count": 1,
   "id": "a2bf3973",
   "metadata": {
    "execution": {
     "iopub.execute_input": "2024-08-22T14:24:09.574538Z",
     "iopub.status.busy": "2024-08-22T14:24:09.574295Z",
     "iopub.status.idle": "2024-08-22T14:24:09.577594Z",
     "shell.execute_reply": "2024-08-22T14:24:09.577190Z"
    },
    "papermill": {
     "duration": 0.007388,
     "end_time": "2024-08-22T14:24:09.578778",
     "exception": false,
     "start_time": "2024-08-22T14:24:09.571390",
     "status": "completed"
    },
    "tags": []
   },
   "outputs": [],
   "source": [
    "# %pip install mlflow"
   ]
  },
  {
   "cell_type": "code",
   "execution_count": 2,
   "id": "55a2bc35",
   "metadata": {
    "execution": {
     "iopub.execute_input": "2024-08-22T14:24:09.581578Z",
     "iopub.status.busy": "2024-08-22T14:24:09.581418Z",
     "iopub.status.idle": "2024-08-22T14:24:09.583339Z",
     "shell.execute_reply": "2024-08-22T14:24:09.583036Z"
    },
    "papermill": {
     "duration": 0.004382,
     "end_time": "2024-08-22T14:24:09.584381",
     "exception": false,
     "start_time": "2024-08-22T14:24:09.579999",
     "status": "completed"
    },
    "tags": []
   },
   "outputs": [],
   "source": [
    "# %pip install boto3"
   ]
  },
  {
   "cell_type": "code",
   "execution_count": 3,
   "id": "de1233a6",
   "metadata": {
    "execution": {
     "iopub.execute_input": "2024-08-22T14:24:09.586620Z",
     "iopub.status.busy": "2024-08-22T14:24:09.586500Z",
     "iopub.status.idle": "2024-08-22T14:24:09.588220Z",
     "shell.execute_reply": "2024-08-22T14:24:09.587914Z"
    },
    "papermill": {
     "duration": 0.003888,
     "end_time": "2024-08-22T14:24:09.589186",
     "exception": false,
     "start_time": "2024-08-22T14:24:09.585298",
     "status": "completed"
    },
    "tags": []
   },
   "outputs": [],
   "source": [
    "# %pip install \"dvc[s3]\""
   ]
  },
  {
   "cell_type": "code",
   "execution_count": 4,
   "id": "df44570f",
   "metadata": {
    "execution": {
     "iopub.execute_input": "2024-08-22T14:24:09.591311Z",
     "iopub.status.busy": "2024-08-22T14:24:09.591206Z",
     "iopub.status.idle": "2024-08-22T14:24:09.592833Z",
     "shell.execute_reply": "2024-08-22T14:24:09.592575Z"
    },
    "papermill": {
     "duration": 0.003649,
     "end_time": "2024-08-22T14:24:09.593672",
     "exception": false,
     "start_time": "2024-08-22T14:24:09.590023",
     "status": "completed"
    },
    "tags": []
   },
   "outputs": [],
   "source": [
    "# %pip install dvc-s3"
   ]
  },
  {
   "cell_type": "code",
   "execution_count": 5,
   "id": "4e1c2dfa",
   "metadata": {
    "execution": {
     "iopub.execute_input": "2024-08-22T14:24:09.595645Z",
     "iopub.status.busy": "2024-08-22T14:24:09.595544Z",
     "iopub.status.idle": "2024-08-22T14:24:09.597108Z",
     "shell.execute_reply": "2024-08-22T14:24:09.596880Z"
    },
    "papermill": {
     "duration": 0.003521,
     "end_time": "2024-08-22T14:24:09.597979",
     "exception": false,
     "start_time": "2024-08-22T14:24:09.594458",
     "status": "completed"
    },
    "tags": []
   },
   "outputs": [],
   "source": [
    "# %pip install catboost"
   ]
  },
  {
   "cell_type": "code",
   "execution_count": 6,
   "id": "ab293c61",
   "metadata": {
    "execution": {
     "iopub.execute_input": "2024-08-22T14:24:09.600034Z",
     "iopub.status.busy": "2024-08-22T14:24:09.599898Z",
     "iopub.status.idle": "2024-08-22T14:24:16.613751Z",
     "shell.execute_reply": "2024-08-22T14:24:16.613479Z"
    },
    "papermill": {
     "duration": 7.0158,
     "end_time": "2024-08-22T14:24:16.614572",
     "exception": false,
     "start_time": "2024-08-22T14:24:09.598772",
     "status": "completed"
    },
    "tags": []
   },
   "outputs": [
    {
     "name": "stdout",
     "output_type": "stream",
     "text": [
      "Active run_id: 6bea5c1070414efb8c89c558bf9ea6e0"
     ]
    },
    {
     "name": "stdout",
     "output_type": "stream",
     "text": [
      "\n"
     ]
    },
    {
     "name": "stderr",
     "output_type": "stream",
     "text": [
      "2024/08/22 17:24:16 WARNING mlflow.models.model: Input example should be provided to infer model signature if the model signature is not provided when logging the model.\n"
     ]
    },
    {
     "name": "stderr",
     "output_type": "stream",
     "text": [
      "2024/08/22 17:24:16 INFO mlflow.tracking._tracking_service.client: 🏃 View run abundant-grouse-743 at: http://127.0.0.1:5000/#/experiments/0/runs/6bea5c1070414efb8c89c558bf9ea6e0.\n"
     ]
    },
    {
     "name": "stderr",
     "output_type": "stream",
     "text": [
      "2024/08/22 17:24:16 INFO mlflow.tracking._tracking_service.client: 🧪 View experiment at: http://127.0.0.1:5000/#/experiments/0.\n"
     ]
    }
   ],
   "source": [
    "import os\n",
    "import pandas as pd\n",
    "import numpy as np\n",
    "from sklearn.metrics import mean_absolute_error, mean_squared_error\n",
    "from sklearn.linear_model import LinearRegression\n",
    "from dotenv import load_dotenv\n",
    "from yaml import load, Loader\n",
    "import yaml\n",
    "from pathlib import Path\n",
    "import dvc.api\n",
    "import mlflow\n",
    "import json\n",
    "import pyarrow as pa\n",
    "import pyarrow.parquet as pq\n",
    "import pandas as pd\n",
    "\n",
    "from catboost import CatBoostRegressor\n",
    "\n",
    "# import shap\n",
    "# shap.initjs()\n",
    "\n",
    "# import matplotlib.pyplot as plt\n",
    "\n",
    "\n",
    "load_dotenv()\n",
    "\n",
    "SAVED_PARAMS  =  os.environ.get('MODEL_1_SAVED_PARAMS')\n",
    "\n",
    "TRANSFORM_DATA_PATH = os.environ.get('MODEL_1_TRANSFORM_DATA_PATH')\n",
    "\n",
    "X_TRAIN_FILE = os.environ.get('MODEL_1_TRANSFORM_DATA_FILE_TRAIN_X')\n",
    "Y_TRAIN_FILE =  os.environ.get('MODEL_1_TRANSFORM_DATA_FILE_TRAIN_Y')\n",
    "X_TEST_FILE = os.environ.get('MODEL_1_TRANSFORM_DATA_FILE_TEST_X')\n",
    "Y_TEST_FILE =  os.environ.get('MODEL_1_TRANSFORM_DATA_FILE_TEST_Y')\n",
    "\n",
    "MLFLOW_ENDPOINT_URL = os.environ.get(\"MLFLOW_ENDPOINT_URL\")\n",
    "MODEL_1_TRAIN_CONFIG_PATH=os.environ.get(\"MODEL_1_TRAIN_CONFIG_PATH\")\n",
    "MODEL_1_MODEL_METRICS = os.environ.get(\"MODEL_1_MODEL_METRICS\")\n",
    "\n",
    "X_TRAIN_DATA = str(Path(TRANSFORM_DATA_PATH) / X_TRAIN_FILE)\n",
    "X_train = pq.read_table(X_TRAIN_DATA).to_pandas()\n",
    "\n",
    "Y_TRAIN_DATA = str(Path(TRANSFORM_DATA_PATH) / Y_TRAIN_FILE)\n",
    "y_train = pq.read_table(Y_TRAIN_DATA).to_pandas()\n",
    "\n",
    "\n",
    "X_TEST_DATA = str(Path(TRANSFORM_DATA_PATH) / X_TEST_FILE)\n",
    "X_test = pq.read_table(X_TEST_DATA).to_pandas()\n",
    "\n",
    "Y_TEST_DATA = str(Path(TRANSFORM_DATA_PATH) / Y_TEST_FILE)\n",
    "y_test = pq.read_table(Y_TEST_DATA).to_pandas()\n",
    "\n",
    "mlflow.set_tracking_uri(MLFLOW_ENDPOINT_URL)\n",
    "\n",
    "with mlflow.start_run():\n",
    "\n",
    "    run = mlflow.active_run()\n",
    "    run_id = run.info.run_id\n",
    "\n",
    "    print(f\"Active run_id: {run_id}\")\n",
    "\n",
    "    with open(MODEL_1_TRAIN_CONFIG_PATH, \"r\") as conf:\n",
    "        train_config = load(conf, Loader=Loader)[\"train_config\"]\n",
    "    \n",
    "    model = CatBoostRegressor(iterations=train_config['iterations'],\n",
    "                               learning_rate=train_config['learning_rate'],\n",
    "                                depth=train_config['depth'],\n",
    "                                verbose=train_config['verbose'])\n",
    "\n",
    "    model.fit(X_train, y_train)\n",
    "\n",
    "    y_pred = model.predict(X_test)\n",
    "\n",
    "    mae = mean_absolute_error(y_test, y_pred)\n",
    "    mse = mean_squared_error(y_test, y_pred)\n",
    "\n",
    "    mlflow.log_metric(\"mae\", mae)\n",
    "    mlflow.log_metric(\"mse\", mse)\n",
    "\n",
    "    with open(MODEL_1_MODEL_METRICS, 'w') as pfile:\n",
    "        json.dump({'mae':mae, 'mse':mse}, pfile)\n",
    "        \n",
    "    mlflow.catboost.log_model(model, \"model\")\n",
    "    \n",
    "    mlflow.log_param(\"X_train\", str(dvc.api.get_url(path=str(Path(TRANSFORM_DATA_PATH) / X_TRAIN_FILE))))\n",
    "    mlflow.log_param(\"y_train\", str(dvc.api.get_url(path=str(Path(TRANSFORM_DATA_PATH) / Y_TRAIN_FILE) )))\n",
    "    mlflow.log_param(\"X_test\", str(dvc.api.get_url(path=str(Path(TRANSFORM_DATA_PATH) / X_TEST_FILE))))\n",
    "    mlflow.log_param(\"y_test\", str(dvc.api.get_url(path=str(Path(TRANSFORM_DATA_PATH) / Y_TEST_FILE))))\n",
    " \n",
    "    \n",
    "    with open(SAVED_PARAMS, 'w') as pfile:\n",
    "        json.dump({'run_id': run_id}, pfile)\n",
    "\n"
   ]
  },
  {
   "cell_type": "code",
   "execution_count": 7,
   "id": "704a8ee0",
   "metadata": {
    "execution": {
     "iopub.execute_input": "2024-08-22T14:24:16.616772Z",
     "iopub.status.busy": "2024-08-22T14:24:16.616686Z",
     "iopub.status.idle": "2024-08-22T14:24:16.618298Z",
     "shell.execute_reply": "2024-08-22T14:24:16.618076Z"
    },
    "papermill": {
     "duration": 0.003466,
     "end_time": "2024-08-22T14:24:16.619059",
     "exception": false,
     "start_time": "2024-08-22T14:24:16.615593",
     "status": "completed"
    },
    "tags": []
   },
   "outputs": [],
   "source": [
    "# explainer = shap.TreeExplainer(model)\n",
    "# shap_values = explainer(X_train)\n",
    "# plt.show()\n",
    "# shap.plots.beeswarm(shap_values)\n",
    "# plt.close()\n",
    "# plt.savefig('shap_values.png')\n",
    "\n",
    "# mlflow.log_artifact('shap_values.png')"
   ]
  }
 ],
 "metadata": {
  "language_info": {
   "codemirror_mode": {
    "name": "ipython",
    "version": 3
   },
   "file_extension": ".py",
   "mimetype": "text/x-python",
   "name": "python",
   "nbconvert_exporter": "python",
   "pygments_lexer": "ipython3",
   "version": "3.11.9"
  },
  "papermill": {
   "default_parameters": {},
   "duration": 8.064357,
   "end_time": "2024-08-22T14:24:17.038648",
   "environment_variables": {},
   "exception": null,
   "input_path": "src/model_1/train/train.ipynb",
   "output_path": "src/model_1/train/train_out.ipynb",
   "parameters": {},
   "start_time": "2024-08-22T14:24:08.974291",
   "version": "2.6.0"
  }
 },
 "nbformat": 4,
 "nbformat_minor": 5
}