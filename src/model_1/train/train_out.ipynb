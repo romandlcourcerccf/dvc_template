{
 "cells": [
  {
   "cell_type": "code",
   "execution_count": 1,
   "id": "db546645",
   "metadata": {
    "execution": {
     "iopub.execute_input": "2024-08-27T12:51:50.518665Z",
     "iopub.status.busy": "2024-08-27T12:51:50.518089Z",
     "iopub.status.idle": "2024-08-27T12:51:50.618813Z",
     "shell.execute_reply": "2024-08-27T12:51:50.618513Z"
    },
    "papermill": {
     "duration": 0.108615,
     "end_time": "2024-08-27T12:51:50.619715",
     "exception": false,
     "start_time": "2024-08-27T12:51:50.511100",
     "status": "completed"
    },
    "tags": []
   },
   "outputs": [],
   "source": [
    "import os\n",
    "from pathlib import Path\n",
    "\n",
    "from hydra import initialize_config_dir, compose\n",
    "\n",
    "with initialize_config_dir(version_base=None, config_dir=str(Path(os.get_exec_path()[0]).parent.parent / 'config')):\n",
    "\n",
    "    cfg=compose(overrides= [\"+models=model_1\"])\n",
    "    cfg = cfg['models']\n",
    "\n",
    "    LOAD_DATA_PATH = cfg['load']['LOAD_DATA_PATH']\n",
    "    LOAD_DATA_FILE = cfg['load']['LOAD_DATA_FILE']\n",
    "\n",
    "    TRANSFORM_DATA_PATH = cfg['transform']['TRANSFORM_DATA_PATH']\n",
    "\n",
    "    X_TRAIN_FILE = cfg['transform']['TRANSFORM_DATA_FILE_TRAIN_X']\n",
    "    Y_TRAIN_FILE =  cfg['transform']['TRANSFORM_DATA_FILE_TRAIN_Y']\n",
    "    X_TEST_FILE = cfg['transform']['TRANSFORM_DATA_FILE_TEST_X']\n",
    "    Y_TEST_FILE =  cfg['transform']['TRANSFORM_DATA_FILE_TEST_Y']\n",
    "\n",
    "    TRAIN_CONFIG_PATH=cfg['train'][\"TRAIN_CONFIG_PATH\"]\n",
    "    MODEL_METRICS = cfg['train'][\"MODEL_METRICS\"]\n",
    "    SAVED_PARAMS  =  cfg['train']['SAVED_PARAMS']\n",
    "\n",
    "    ITERATIONS = cfg['train']['train_config']['iterations']\n",
    "    LEARNING_RATE = cfg['train']['train_config']['learning_rate']\n",
    "    DEPTH = cfg['train']['train_config']['depth']\n",
    "    VERBOSE = cfg['train']['train_config']['verbose']\n",
    "\n",
    "\n",
    "    \n",
    "    os.environ['AWS_ACCESS_KEY_ID'] = cfg['s3']['AWS_ACCESS_KEY_ID']\n",
    "    os.environ['AWS_SECRET_ACCESS_KEY'] = cfg['s3']['AWS_SECRET_ACCESS_KEY']\n",
    "    os.environ['MLFLOW_S3_ENDPOINT_URL'] = cfg['mlflow']['MLFLOW_S3_ENDPOINT_URL']\n",
    "    os.environ['MLFLOW_TRACKING_URI'] = cfg['mlflow']['MLFLOW_TRACKING_URI']\n",
    "    "
   ]
  },
  {
   "cell_type": "code",
   "execution_count": 2,
   "id": "f25fc391",
   "metadata": {
    "execution": {
     "iopub.execute_input": "2024-08-27T12:51:50.621400Z",
     "iopub.status.busy": "2024-08-27T12:51:50.621294Z",
     "iopub.status.idle": "2024-08-27T12:51:50.623260Z",
     "shell.execute_reply": "2024-08-27T12:51:50.623027Z"
    },
    "papermill": {
     "duration": 0.003505,
     "end_time": "2024-08-27T12:51:50.623916",
     "exception": false,
     "start_time": "2024-08-27T12:51:50.620411",
     "status": "completed"
    },
    "tags": []
   },
   "outputs": [
    {
     "name": "stdout",
     "output_type": "stream",
     "text": [
      "MLFLOW_TRACKING_URI: http://127.0.0.1:5000\n",
      "AWS_ACCESS_KEY_ID: minio\n",
      "AWS_SECRET_ACCESS_KEY: minio123\n",
      "MLFLOW_S3_ENDPOINT_URL: http://127.0.0.1:9000\n"
     ]
    }
   ],
   "source": [
    "print('MLFLOW_TRACKING_URI:', os.environ.get('MLFLOW_TRACKING_URI'))\n",
    "print('AWS_ACCESS_KEY_ID:', os.environ.get('AWS_ACCESS_KEY_ID'))\n",
    "print('AWS_SECRET_ACCESS_KEY:', os.environ.get('AWS_SECRET_ACCESS_KEY'))\n",
    "print('MLFLOW_S3_ENDPOINT_URL:', os.environ.get('MLFLOW_S3_ENDPOINT_URL'))"
   ]
  },
  {
   "cell_type": "code",
   "execution_count": 3,
   "id": "dc07ce0c",
   "metadata": {
    "execution": {
     "iopub.execute_input": "2024-08-27T12:51:50.625561Z",
     "iopub.status.busy": "2024-08-27T12:51:50.625477Z",
     "iopub.status.idle": "2024-08-27T12:52:03.277822Z",
     "shell.execute_reply": "2024-08-27T12:52:03.277575Z"
    },
    "papermill": {
     "duration": 12.65402,
     "end_time": "2024-08-27T12:52:03.278636",
     "exception": false,
     "start_time": "2024-08-27T12:51:50.624616",
     "status": "completed"
    },
    "tags": []
   },
   "outputs": [
    {
     "name": "stdout",
     "output_type": "stream",
     "text": [
      "Active run_id: 21230ff39d0548d1ba8bcf4279c08b56"
     ]
    },
    {
     "name": "stdout",
     "output_type": "stream",
     "text": [
      "\n"
     ]
    },
    {
     "name": "stderr",
     "output_type": "stream",
     "text": [
      "2024/08/27 15:52:03 WARNING mlflow.models.model: Input example should be provided to infer model signature if the model signature is not provided when logging the model.\n"
     ]
    },
    {
     "name": "stderr",
     "output_type": "stream",
     "text": [
      "2024/08/27 15:52:03 INFO mlflow.tracking._tracking_service.client: 🏃 View run luxuriant-carp-176 at: http://127.0.0.1:5000/#/experiments/0/runs/21230ff39d0548d1ba8bcf4279c08b56.\n"
     ]
    },
    {
     "name": "stderr",
     "output_type": "stream",
     "text": [
      "2024/08/27 15:52:03 INFO mlflow.tracking._tracking_service.client: 🧪 View experiment at: http://127.0.0.1:5000/#/experiments/0.\n"
     ]
    }
   ],
   "source": [
    "import os\n",
    "import pandas as pd\n",
    "import numpy as np\n",
    "from sklearn.metrics import mean_absolute_error, mean_squared_error\n",
    "from sklearn.linear_model import LinearRegression\n",
    "from dotenv import load_dotenv\n",
    "from yaml import load, Loader\n",
    "import yaml\n",
    "from pathlib import Path\n",
    "import dvc.api\n",
    "import mlflow\n",
    "import json\n",
    "import pyarrow as pa\n",
    "import pyarrow.parquet as pq\n",
    "import pandas as pd\n",
    "\n",
    "from catboost import CatBoostRegressor\n",
    "\n",
    "\n",
    "X_TRAIN_DATA = str(Path(TRANSFORM_DATA_PATH) / X_TRAIN_FILE)\n",
    "X_train = pq.read_table(X_TRAIN_DATA).to_pandas()\n",
    "\n",
    "Y_TRAIN_DATA = str(Path(TRANSFORM_DATA_PATH) / Y_TRAIN_FILE)\n",
    "y_train = pq.read_table(Y_TRAIN_DATA).to_pandas()\n",
    "\n",
    "\n",
    "X_TEST_DATA = str(Path(TRANSFORM_DATA_PATH) / X_TEST_FILE)\n",
    "X_test = pq.read_table(X_TEST_DATA).to_pandas()\n",
    "\n",
    "Y_TEST_DATA = str(Path(TRANSFORM_DATA_PATH) / Y_TEST_FILE)\n",
    "y_test = pq.read_table(Y_TEST_DATA).to_pandas()\n",
    "\n",
    "with mlflow.start_run():\n",
    "\n",
    "    run = mlflow.active_run()\n",
    "    run_id = run.info.run_id\n",
    "\n",
    "    print(f\"Active run_id: {run_id}\")\n",
    "    \n",
    "    model = CatBoostRegressor(iterations=ITERATIONS,\n",
    "                               learning_rate=LEARNING_RATE,\n",
    "                                depth=DEPTH,\n",
    "                                verbose=VERBOSE)\n",
    "\n",
    "    model.fit(X_train, y_train)\n",
    "\n",
    "    y_pred = model.predict(X_test)\n",
    "\n",
    "    mae = mean_absolute_error(y_test, y_pred)\n",
    "    mse = mean_squared_error(y_test, y_pred)\n",
    "\n",
    "    mlflow.log_metric(\"mae\", mae)\n",
    "    mlflow.log_metric(\"mse\", mse)\n",
    "\n",
    "\n",
    "    with open(MODEL_METRICS, 'w') as pfile:\n",
    "        json.dump({'mae':mae, 'mse':mse}, pfile)\n",
    "        \n",
    "    mlflow.catboost.log_model(model, \"model\")\n",
    "    \n",
    "    mlflow.log_param(\"X_train\", str(dvc.api.get_url(path=str(Path(TRANSFORM_DATA_PATH) / X_TRAIN_FILE))))\n",
    "    mlflow.log_param(\"y_train\", str(dvc.api.get_url(path=str(Path(TRANSFORM_DATA_PATH) / Y_TRAIN_FILE) )))\n",
    "    mlflow.log_param(\"X_test\", str(dvc.api.get_url(path=str(Path(TRANSFORM_DATA_PATH) / X_TEST_FILE))))\n",
    "    mlflow.log_param(\"y_test\", str(dvc.api.get_url(path=str(Path(TRANSFORM_DATA_PATH) / Y_TEST_FILE))))\n",
    " \n",
    "    \n",
    "    with open(SAVED_PARAMS, 'w') as pfile:\n",
    "        json.dump({'run_id': run_id}, pfile)\n",
    "\n"
   ]
  },
  {
   "cell_type": "code",
   "execution_count": 4,
   "id": "0a436e8a",
   "metadata": {
    "execution": {
     "iopub.execute_input": "2024-08-27T12:52:03.280589Z",
     "iopub.status.busy": "2024-08-27T12:52:03.280507Z",
     "iopub.status.idle": "2024-08-27T12:52:03.282030Z",
     "shell.execute_reply": "2024-08-27T12:52:03.281819Z"
    },
    "papermill": {
     "duration": 0.003144,
     "end_time": "2024-08-27T12:52:03.282679",
     "exception": false,
     "start_time": "2024-08-27T12:52:03.279535",
     "status": "completed"
    },
    "tags": []
   },
   "outputs": [],
   "source": [
    "# import shap\n",
    "# shap.initjs()\n",
    "\n",
    "# import matplotlib.pyplot as plt\n",
    "# explainer = shap.TreeExplainer(model)\n",
    "# shap_values = explainer(X_train)\n",
    "# plt.show()\n",
    "# shap.plots.beeswarm(shap_values)\n",
    "# plt.close()\n",
    "# plt.savefig('shap_values.png')\n",
    "\n",
    "# mlflow.log_artifact('shap_values.png')"
   ]
  }
 ],
 "metadata": {
  "language_info": {
   "codemirror_mode": {
    "name": "ipython",
    "version": 3
   },
   "file_extension": ".py",
   "mimetype": "text/x-python",
   "name": "python",
   "nbconvert_exporter": "python",
   "pygments_lexer": "ipython3",
   "version": "3.11.9"
  },
  "papermill": {
   "default_parameters": {},
   "duration": 13.797682,
   "end_time": "2024-08-27T12:52:03.701170",
   "environment_variables": {},
   "exception": null,
   "input_path": "src/model_1/train/train.ipynb",
   "output_path": "src/model_1/train/train_out.ipynb",
   "parameters": {},
   "start_time": "2024-08-27T12:51:49.903488",
   "version": "2.6.0"
  }
 },
 "nbformat": 4,
 "nbformat_minor": 5
}