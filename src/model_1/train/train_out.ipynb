{
 "cells": [
  {
   "cell_type": "code",
   "execution_count": 1,
   "id": "71e70b3f",
   "metadata": {
    "execution": {
     "iopub.execute_input": "2024-08-20T14:01:24.782595Z",
     "iopub.status.busy": "2024-08-20T14:01:24.782321Z",
     "iopub.status.idle": "2024-08-20T14:01:24.786398Z",
     "shell.execute_reply": "2024-08-20T14:01:24.785909Z"
    },
    "papermill": {
     "duration": 0.009101,
     "end_time": "2024-08-20T14:01:24.787836",
     "exception": false,
     "start_time": "2024-08-20T14:01:24.778735",
     "status": "completed"
    },
    "tags": []
   },
   "outputs": [],
   "source": [
    "# %pip install mlflow"
   ]
  },
  {
   "cell_type": "code",
   "execution_count": 2,
   "id": "6365b508",
   "metadata": {
    "execution": {
     "iopub.execute_input": "2024-08-20T14:01:24.791115Z",
     "iopub.status.busy": "2024-08-20T14:01:24.790932Z",
     "iopub.status.idle": "2024-08-20T14:01:24.793165Z",
     "shell.execute_reply": "2024-08-20T14:01:24.792753Z"
    },
    "papermill": {
     "duration": 0.005146,
     "end_time": "2024-08-20T14:01:24.794535",
     "exception": false,
     "start_time": "2024-08-20T14:01:24.789389",
     "status": "completed"
    },
    "tags": []
   },
   "outputs": [],
   "source": [
    "# %pip install boto3"
   ]
  },
  {
   "cell_type": "code",
   "execution_count": 3,
   "id": "a7ba3488",
   "metadata": {
    "execution": {
     "iopub.execute_input": "2024-08-20T14:01:24.797182Z",
     "iopub.status.busy": "2024-08-20T14:01:24.797042Z",
     "iopub.status.idle": "2024-08-20T14:01:24.798867Z",
     "shell.execute_reply": "2024-08-20T14:01:24.798568Z"
    },
    "papermill": {
     "duration": 0.004181,
     "end_time": "2024-08-20T14:01:24.799856",
     "exception": false,
     "start_time": "2024-08-20T14:01:24.795675",
     "status": "completed"
    },
    "tags": []
   },
   "outputs": [],
   "source": [
    "# %pip install \"dvc[s3]\""
   ]
  },
  {
   "cell_type": "code",
   "execution_count": 4,
   "id": "1c415f48",
   "metadata": {
    "execution": {
     "iopub.execute_input": "2024-08-20T14:01:24.801994Z",
     "iopub.status.busy": "2024-08-20T14:01:24.801860Z",
     "iopub.status.idle": "2024-08-20T14:01:24.803670Z",
     "shell.execute_reply": "2024-08-20T14:01:24.803415Z"
    },
    "papermill": {
     "duration": 0.00397,
     "end_time": "2024-08-20T14:01:24.804645",
     "exception": false,
     "start_time": "2024-08-20T14:01:24.800675",
     "status": "completed"
    },
    "tags": []
   },
   "outputs": [],
   "source": [
    "# %pip install dvc-s3"
   ]
  },
  {
   "cell_type": "code",
   "execution_count": 5,
   "id": "2c4061c2",
   "metadata": {
    "execution": {
     "iopub.execute_input": "2024-08-20T14:01:24.806935Z",
     "iopub.status.busy": "2024-08-20T14:01:24.806708Z",
     "iopub.status.idle": "2024-08-20T14:01:24.808543Z",
     "shell.execute_reply": "2024-08-20T14:01:24.808306Z"
    },
    "papermill": {
     "duration": 0.00387,
     "end_time": "2024-08-20T14:01:24.809366",
     "exception": false,
     "start_time": "2024-08-20T14:01:24.805496",
     "status": "completed"
    },
    "tags": []
   },
   "outputs": [],
   "source": [
    "# %pip install catboost"
   ]
  },
  {
   "cell_type": "code",
   "execution_count": 6,
   "id": "65600d9a",
   "metadata": {
    "execution": {
     "iopub.execute_input": "2024-08-20T14:01:24.811314Z",
     "iopub.status.busy": "2024-08-20T14:01:24.811181Z",
     "iopub.status.idle": "2024-08-20T14:01:31.870335Z",
     "shell.execute_reply": "2024-08-20T14:01:31.870036Z"
    },
    "papermill": {
     "duration": 7.06106,
     "end_time": "2024-08-20T14:01:31.871144",
     "exception": false,
     "start_time": "2024-08-20T14:01:24.810084",
     "status": "completed"
    },
    "tags": []
   },
   "outputs": [
    {
     "name": "stdout",
     "output_type": "stream",
     "text": [
      "Active run_id: 38ed126d3dfd48af94ba867a71d7100e"
     ]
    },
    {
     "name": "stdout",
     "output_type": "stream",
     "text": [
      "\n"
     ]
    },
    {
     "name": "stderr",
     "output_type": "stream",
     "text": [
      "2024/08/20 17:01:31 WARNING mlflow.models.model: Input example should be provided to infer model signature if the model signature is not provided when logging the model.\n"
     ]
    },
    {
     "name": "stderr",
     "output_type": "stream",
     "text": [
      "2024/08/20 17:01:31 INFO mlflow.tracking._tracking_service.client: 🏃 View run worried-bat-712 at: http://127.0.0.1:5000/#/experiments/0/runs/38ed126d3dfd48af94ba867a71d7100e.\n"
     ]
    },
    {
     "name": "stderr",
     "output_type": "stream",
     "text": [
      "2024/08/20 17:01:31 INFO mlflow.tracking._tracking_service.client: 🧪 View experiment at: http://127.0.0.1:5000/#/experiments/0.\n"
     ]
    }
   ],
   "source": [
    "import os\n",
    "import pandas as pd\n",
    "import numpy as np\n",
    "from sklearn.metrics import mean_absolute_error, mean_squared_error\n",
    "from sklearn.linear_model import LinearRegression\n",
    "from dotenv import load_dotenv\n",
    "from yaml import load, Loader\n",
    "import yaml\n",
    "from pathlib import Path\n",
    "import dvc.api\n",
    "import mlflow\n",
    "import json\n",
    "import pyarrow as pa\n",
    "import pyarrow.parquet as pq\n",
    "import pandas as pd\n",
    "\n",
    "from catboost import CatBoostRegressor\n",
    "\n",
    "\n",
    "load_dotenv()\n",
    "\n",
    "SAVED_PARAMS  =  os.environ.get('MODEL_1_SAVED_PARAMS')\n",
    "\n",
    "TRANSFORM_DATA_PATH = os.environ.get('MODEL_1_TRANSFORM_DATA_PATH')\n",
    "\n",
    "X_TRAIN_FILE = os.environ.get('MODEL_1_TRANSFORM_DATA_FILE_TRAIN_X')\n",
    "Y_TRAIN_FILE =  os.environ.get('MODEL_1_TRANSFORM_DATA_FILE_TRAIN_Y')\n",
    "X_TEST_FILE = os.environ.get('MODEL_1_TRANSFORM_DATA_FILE_TEST_X')\n",
    "Y_TEST_FILE =  os.environ.get('MODEL_1_TRANSFORM_DATA_FILE_TEST_Y')\n",
    "\n",
    "MLFLOW_ENDPOINT_URL = os.environ.get(\"MLFLOW_ENDPOINT_URL\")\n",
    "MODEL_1_TRAIN_CONFIG_PATH=os.environ.get(\"MODEL_1_TRAIN_CONFIG_PATH\")\n",
    "MODEL_1_MODEL_METRICS = os.environ.get(\"MODEL_1_MODEL_METRICS\")\n",
    "\n",
    "X_TRAIN_DATA = str(Path(TRANSFORM_DATA_PATH) / X_TRAIN_FILE)\n",
    "X_train = pq.read_table(X_TRAIN_DATA).to_pandas()\n",
    "\n",
    "Y_TRAIN_DATA = str(Path(TRANSFORM_DATA_PATH) / Y_TRAIN_FILE)\n",
    "y_train = pq.read_table(Y_TRAIN_DATA).to_pandas()\n",
    "\n",
    "\n",
    "X_TEST_DATA = str(Path(TRANSFORM_DATA_PATH) / X_TEST_FILE)\n",
    "X_test = pq.read_table(X_TEST_DATA).to_pandas()\n",
    "\n",
    "Y_TEST_DATA = str(Path(TRANSFORM_DATA_PATH) / Y_TEST_FILE)\n",
    "y_test = pq.read_table(Y_TEST_DATA).to_pandas()\n",
    "\n",
    "mlflow.set_tracking_uri(MLFLOW_ENDPOINT_URL)\n",
    "\n",
    "with mlflow.start_run():\n",
    "\n",
    "    run = mlflow.active_run()\n",
    "    run_id = run.info.run_id\n",
    "\n",
    "    print(f\"Active run_id: {run_id}\")\n",
    "\n",
    "    with open(MODEL_1_TRAIN_CONFIG_PATH, \"r\") as conf:\n",
    "        train_config = load(conf, Loader=Loader)[\"train_config\"]\n",
    "    \n",
    "    model = CatBoostRegressor(iterations=train_config['iterations'],\n",
    "                               learning_rate=train_config['learning_rate'],\n",
    "                                depth=train_config['depth'],\n",
    "                                verbose=train_config['verbose'])\n",
    "\n",
    "    model.fit(X_train, y_train)\n",
    "\n",
    "    y_pred = model.predict(X_test)\n",
    "\n",
    "    mae = mean_absolute_error(y_test, y_pred)\n",
    "    mse = mean_squared_error(y_test, y_pred)\n",
    "\n",
    "    mlflow.log_metric(\"mae\", mae)\n",
    "    mlflow.log_metric(\"mse\", mse)\n",
    "\n",
    "    with open(MODEL_1_MODEL_METRICS, 'w') as pfile:\n",
    "        json.dump({'mae':mae, 'mse':mse}, pfile)\n",
    "        \n",
    "    mlflow.catboost.log_model(model, \"model\")\n",
    "    \n",
    "    mlflow.log_param(\"X_train\", str(dvc.api.get_url(path=str(Path(TRANSFORM_DATA_PATH) / X_TRAIN_FILE))))\n",
    "    mlflow.log_param(\"y_train\", str(dvc.api.get_url(path=str(Path(TRANSFORM_DATA_PATH) / Y_TRAIN_FILE) )))\n",
    "    mlflow.log_param(\"X_test\", str(dvc.api.get_url(path=str(Path(TRANSFORM_DATA_PATH) / X_TEST_FILE))))\n",
    "    mlflow.log_param(\"y_test\", str(dvc.api.get_url(path=str(Path(TRANSFORM_DATA_PATH) / Y_TEST_FILE))))\n",
    " \n",
    "    with open(SAVED_PARAMS, 'w') as pfile:\n",
    "        json.dump({'run_id': run_id}, pfile)\n"
   ]
  }
 ],
 "metadata": {
  "language_info": {
   "codemirror_mode": {
    "name": "ipython",
    "version": 3
   },
   "file_extension": ".py",
   "mimetype": "text/x-python",
   "name": "python",
   "nbconvert_exporter": "python",
   "pygments_lexer": "ipython3",
   "version": "3.11.9"
  },
  "papermill": {
   "default_parameters": {},
   "duration": 8.1157,
   "end_time": "2024-08-20T14:01:32.289848",
   "environment_variables": {},
   "exception": null,
   "input_path": "src/model_1/train/train.ipynb",
   "output_path": "src/model_1/train/train_out.ipynb",
   "parameters": {},
   "start_time": "2024-08-20T14:01:24.174148",
   "version": "2.6.0"
  }
 },
 "nbformat": 4,
 "nbformat_minor": 5
}