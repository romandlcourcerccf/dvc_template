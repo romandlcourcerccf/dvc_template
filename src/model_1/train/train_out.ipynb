{
 "cells": [
  {
   "cell_type": "code",
   "execution_count": 1,
   "id": "82c57532",
   "metadata": {
    "execution": {
     "iopub.execute_input": "2024-08-20T13:31:05.727831Z",
     "iopub.status.busy": "2024-08-20T13:31:05.727343Z",
     "iopub.status.idle": "2024-08-20T13:31:05.732658Z",
     "shell.execute_reply": "2024-08-20T13:31:05.732151Z"
    },
    "papermill": {
     "duration": 0.013934,
     "end_time": "2024-08-20T13:31:05.734374",
     "exception": false,
     "start_time": "2024-08-20T13:31:05.720440",
     "status": "completed"
    },
    "tags": []
   },
   "outputs": [],
   "source": [
    "# %pip install mlflow"
   ]
  },
  {
   "cell_type": "code",
   "execution_count": 2,
   "id": "d3facec5",
   "metadata": {
    "execution": {
     "iopub.execute_input": "2024-08-20T13:31:05.738580Z",
     "iopub.status.busy": "2024-08-20T13:31:05.738242Z",
     "iopub.status.idle": "2024-08-20T13:31:05.740672Z",
     "shell.execute_reply": "2024-08-20T13:31:05.740291Z"
    },
    "papermill": {
     "duration": 0.005782,
     "end_time": "2024-08-20T13:31:05.742005",
     "exception": false,
     "start_time": "2024-08-20T13:31:05.736223",
     "status": "completed"
    },
    "tags": []
   },
   "outputs": [],
   "source": [
    "# %pip install boto3"
   ]
  },
  {
   "cell_type": "code",
   "execution_count": 3,
   "id": "7a78ef10",
   "metadata": {
    "execution": {
     "iopub.execute_input": "2024-08-20T13:31:05.744869Z",
     "iopub.status.busy": "2024-08-20T13:31:05.744702Z",
     "iopub.status.idle": "2024-08-20T13:31:05.746998Z",
     "shell.execute_reply": "2024-08-20T13:31:05.746614Z"
    },
    "papermill": {
     "duration": 0.005003,
     "end_time": "2024-08-20T13:31:05.748123",
     "exception": false,
     "start_time": "2024-08-20T13:31:05.743120",
     "status": "completed"
    },
    "tags": []
   },
   "outputs": [],
   "source": [
    "# %pip install \"dvc[s3]\""
   ]
  },
  {
   "cell_type": "code",
   "execution_count": 4,
   "id": "846160aa",
   "metadata": {
    "execution": {
     "iopub.execute_input": "2024-08-20T13:31:05.750460Z",
     "iopub.status.busy": "2024-08-20T13:31:05.750336Z",
     "iopub.status.idle": "2024-08-20T13:31:05.752068Z",
     "shell.execute_reply": "2024-08-20T13:31:05.751810Z"
    },
    "papermill": {
     "duration": 0.003928,
     "end_time": "2024-08-20T13:31:05.752979",
     "exception": false,
     "start_time": "2024-08-20T13:31:05.749051",
     "status": "completed"
    },
    "tags": []
   },
   "outputs": [],
   "source": [
    "# %pip install dvc-s3"
   ]
  },
  {
   "cell_type": "code",
   "execution_count": 5,
   "id": "e82807f8",
   "metadata": {
    "execution": {
     "iopub.execute_input": "2024-08-20T13:31:05.755219Z",
     "iopub.status.busy": "2024-08-20T13:31:05.755087Z",
     "iopub.status.idle": "2024-08-20T13:31:05.756832Z",
     "shell.execute_reply": "2024-08-20T13:31:05.756578Z"
    },
    "papermill": {
     "duration": 0.00386,
     "end_time": "2024-08-20T13:31:05.757698",
     "exception": false,
     "start_time": "2024-08-20T13:31:05.753838",
     "status": "completed"
    },
    "tags": []
   },
   "outputs": [],
   "source": [
    "# %pip install catboost"
   ]
  },
  {
   "cell_type": "code",
   "execution_count": 6,
   "id": "0afb6e4b",
   "metadata": {
    "execution": {
     "iopub.execute_input": "2024-08-20T13:31:05.759694Z",
     "iopub.status.busy": "2024-08-20T13:31:05.759584Z",
     "iopub.status.idle": "2024-08-20T13:31:09.194500Z",
     "shell.execute_reply": "2024-08-20T13:31:09.194188Z"
    },
    "papermill": {
     "duration": 3.436905,
     "end_time": "2024-08-20T13:31:09.195344",
     "exception": false,
     "start_time": "2024-08-20T13:31:05.758439",
     "status": "completed"
    },
    "tags": []
   },
   "outputs": [
    {
     "name": "stdout",
     "output_type": "stream",
     "text": [
      "Active run_id: a88ddb91c48e467bba1f3bc47a7a4de8"
     ]
    },
    {
     "name": "stdout",
     "output_type": "stream",
     "text": [
      "\n"
     ]
    },
    {
     "name": "stderr",
     "output_type": "stream",
     "text": [
      "2024/08/20 16:31:08 WARNING mlflow.models.model: Input example should be provided to infer model signature if the model signature is not provided when logging the model.\n"
     ]
    },
    {
     "name": "stderr",
     "output_type": "stream",
     "text": [
      "2024/08/20 16:31:09 INFO mlflow.tracking._tracking_service.client: 🏃 View run bald-snake-749 at: http://127.0.0.1:5000/#/experiments/0/runs/a88ddb91c48e467bba1f3bc47a7a4de8.\n"
     ]
    },
    {
     "name": "stderr",
     "output_type": "stream",
     "text": [
      "2024/08/20 16:31:09 INFO mlflow.tracking._tracking_service.client: 🧪 View experiment at: http://127.0.0.1:5000/#/experiments/0.\n"
     ]
    }
   ],
   "source": [
    "import os\n",
    "import pandas as pd\n",
    "import numpy as np\n",
    "from sklearn.metrics import mean_absolute_error\n",
    "from sklearn.linear_model import LinearRegression\n",
    "from dotenv import load_dotenv\n",
    "from yaml import load, Loader\n",
    "import yaml\n",
    "from pathlib import Path\n",
    "import dvc.api\n",
    "import mlflow\n",
    "import json\n",
    "import pyarrow as pa\n",
    "import pyarrow.parquet as pq\n",
    "import pandas as pd\n",
    "\n",
    "from catboost import CatBoostRegressor\n",
    "\n",
    "\n",
    "load_dotenv()\n",
    "\n",
    "SAVED_PARAMS  =  os.environ.get('MODEL_1_SAVED_PARAMS')\n",
    "\n",
    "TRANSFORM_DATA_PATH = os.environ.get('MODEL_1_TRANSFORM_DATA_PATH')\n",
    "\n",
    "X_TRAIN_FILE = os.environ.get('MODEL_1_TRANSFORM_DATA_FILE_TRAIN_X')\n",
    "Y_TRAIN_FILE =  os.environ.get('MODEL_1_TRANSFORM_DATA_FILE_TRAIN_Y')\n",
    "X_TEST_FILE = os.environ.get('MODEL_1_TRANSFORM_DATA_FILE_TEST_X')\n",
    "Y_TEST_FILE =  os.environ.get('MODEL_1_TRANSFORM_DATA_FILE_TEST_Y')\n",
    "\n",
    "MLFLOW_ENDPOINT_URL = os.environ.get(\"MLFLOW_ENDPOINT_URL\")\n",
    "MODEL_1_TRAIN_CONFIG_PATH=os.environ.get(\"MODEL_1_TRAIN_CONFIG_PATH\")\n",
    "MODEL_1_MODEL_METRICS = os.environ.get(\"MODEL_1_MODEL_METRICS\")\n",
    "\n",
    "X_TRAIN_DATA = str(Path(TRANSFORM_DATA_PATH) / X_TRAIN_FILE)\n",
    "X_train = pq.read_table(X_TRAIN_DATA).to_pandas()\n",
    "\n",
    "Y_TRAIN_DATA = str(Path(TRANSFORM_DATA_PATH) / Y_TRAIN_FILE)\n",
    "y_train = pq.read_table(Y_TRAIN_DATA).to_pandas()\n",
    "\n",
    "\n",
    "X_TEST_DATA = str(Path(TRANSFORM_DATA_PATH) / X_TEST_FILE)\n",
    "X_test = pq.read_table(X_TEST_DATA).to_pandas()\n",
    "\n",
    "Y_TEST_DATA = str(Path(TRANSFORM_DATA_PATH) / Y_TEST_FILE)\n",
    "y_test = pq.read_table(Y_TEST_DATA).to_pandas()\n",
    "\n",
    "mlflow.set_tracking_uri(MLFLOW_ENDPOINT_URL)\n",
    "\n",
    "with mlflow.start_run():\n",
    "\n",
    "    run = mlflow.active_run()\n",
    "    run_id = run.info.run_id\n",
    "\n",
    "    print(f\"Active run_id: {run_id}\")\n",
    "\n",
    "    with open(MODEL_1_TRAIN_CONFIG_PATH, \"r\") as conf:\n",
    "        train_config = load(conf, Loader=Loader)[\"train_config\"]\n",
    "    \n",
    "    model = CatBoostRegressor(iterations=train_config['iterations'],\n",
    "                               learning_rate=train_config['learning_rate'],\n",
    "                                depth=train_config['depth'],\n",
    "                                verbose=train_config['verbose'])\n",
    "\n",
    "    model.fit(X_train, y_train)\n",
    "\n",
    "    y_pred = model.predict(X_test)\n",
    "\n",
    "    mae = mean_absolute_error(y_test, y_pred)\n",
    "\n",
    "    mlflow.log_metric(\"mae\", mae)\n",
    "\n",
    "    with open(MODEL_1_MODEL_METRICS, 'w') as pfile:\n",
    "        json.dump({'mae':mae}, pfile)\n",
    "        \n",
    "    mlflow.catboost.log_model(model, \"model\")\n",
    "    \n",
    "    mlflow.log_param(\"X_train\", str(dvc.api.get_url(path=str(Path(TRANSFORM_DATA_PATH) / X_TRAIN_FILE))))\n",
    "    mlflow.log_param(\"y_train\", str(dvc.api.get_url(path=str(Path(TRANSFORM_DATA_PATH) / Y_TRAIN_FILE) )))\n",
    "    mlflow.log_param(\"X_test\", str(dvc.api.get_url(path=str(Path(TRANSFORM_DATA_PATH) / X_TEST_FILE))))\n",
    "    mlflow.log_param(\"y_test\", str(dvc.api.get_url(path=str(Path(TRANSFORM_DATA_PATH) / Y_TEST_FILE))))\n",
    " \n",
    "    with open(SAVED_PARAMS, 'w') as pfile:\n",
    "        json.dump({'run_id': run_id}, pfile)\n"
   ]
  }
 ],
 "metadata": {
  "language_info": {
   "codemirror_mode": {
    "name": "ipython",
    "version": 3
   },
   "file_extension": ".py",
   "mimetype": "text/x-python",
   "name": "python",
   "nbconvert_exporter": "python",
   "pygments_lexer": "ipython3",
   "version": "3.11.9"
  },
  "papermill": {
   "default_parameters": {},
   "duration": 4.732279,
   "end_time": "2024-08-20T13:31:09.613442",
   "environment_variables": {},
   "exception": null,
   "input_path": "src/model_1/train/train.ipynb",
   "output_path": "src/model_1/train/train_out.ipynb",
   "parameters": {},
   "start_time": "2024-08-20T13:31:04.881163",
   "version": "2.6.0"
  }
 },
 "nbformat": 4,
 "nbformat_minor": 5
}