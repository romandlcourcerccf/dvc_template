{
 "cells": [
  {
   "cell_type": "code",
   "execution_count": 1,
   "id": "ca2d20f4",
   "metadata": {
    "execution": {
     "iopub.execute_input": "2024-08-20T13:37:20.236870Z",
     "iopub.status.busy": "2024-08-20T13:37:20.236611Z",
     "iopub.status.idle": "2024-08-20T13:37:20.240509Z",
     "shell.execute_reply": "2024-08-20T13:37:20.240075Z"
    },
    "papermill": {
     "duration": 0.00852,
     "end_time": "2024-08-20T13:37:20.241847",
     "exception": false,
     "start_time": "2024-08-20T13:37:20.233327",
     "status": "completed"
    },
    "tags": []
   },
   "outputs": [],
   "source": [
    "# %pip install mlflow"
   ]
  },
  {
   "cell_type": "code",
   "execution_count": 2,
   "id": "0c2e2001",
   "metadata": {
    "execution": {
     "iopub.execute_input": "2024-08-20T13:37:20.244692Z",
     "iopub.status.busy": "2024-08-20T13:37:20.244528Z",
     "iopub.status.idle": "2024-08-20T13:37:20.246637Z",
     "shell.execute_reply": "2024-08-20T13:37:20.246300Z"
    },
    "papermill": {
     "duration": 0.004733,
     "end_time": "2024-08-20T13:37:20.247844",
     "exception": false,
     "start_time": "2024-08-20T13:37:20.243111",
     "status": "completed"
    },
    "tags": []
   },
   "outputs": [],
   "source": [
    "# %pip install boto3"
   ]
  },
  {
   "cell_type": "code",
   "execution_count": 3,
   "id": "e63b09ca",
   "metadata": {
    "execution": {
     "iopub.execute_input": "2024-08-20T13:37:20.250379Z",
     "iopub.status.busy": "2024-08-20T13:37:20.250213Z",
     "iopub.status.idle": "2024-08-20T13:37:20.252399Z",
     "shell.execute_reply": "2024-08-20T13:37:20.252060Z"
    },
    "papermill": {
     "duration": 0.004625,
     "end_time": "2024-08-20T13:37:20.253442",
     "exception": false,
     "start_time": "2024-08-20T13:37:20.248817",
     "status": "completed"
    },
    "tags": []
   },
   "outputs": [],
   "source": [
    "# %pip install \"dvc[s3]\""
   ]
  },
  {
   "cell_type": "code",
   "execution_count": 4,
   "id": "293caea6",
   "metadata": {
    "execution": {
     "iopub.execute_input": "2024-08-20T13:37:20.255482Z",
     "iopub.status.busy": "2024-08-20T13:37:20.255359Z",
     "iopub.status.idle": "2024-08-20T13:37:20.257099Z",
     "shell.execute_reply": "2024-08-20T13:37:20.256823Z"
    },
    "papermill": {
     "duration": 0.003796,
     "end_time": "2024-08-20T13:37:20.258044",
     "exception": false,
     "start_time": "2024-08-20T13:37:20.254248",
     "status": "completed"
    },
    "tags": []
   },
   "outputs": [],
   "source": [
    "# %pip install dvc-s3"
   ]
  },
  {
   "cell_type": "code",
   "execution_count": 5,
   "id": "54e4885b",
   "metadata": {
    "execution": {
     "iopub.execute_input": "2024-08-20T13:37:20.259946Z",
     "iopub.status.busy": "2024-08-20T13:37:20.259833Z",
     "iopub.status.idle": "2024-08-20T13:37:20.261483Z",
     "shell.execute_reply": "2024-08-20T13:37:20.261235Z"
    },
    "papermill": {
     "duration": 0.003576,
     "end_time": "2024-08-20T13:37:20.262365",
     "exception": false,
     "start_time": "2024-08-20T13:37:20.258789",
     "status": "completed"
    },
    "tags": []
   },
   "outputs": [],
   "source": [
    "# %pip install catboost"
   ]
  },
  {
   "cell_type": "code",
   "execution_count": 6,
   "id": "7f6b65eb",
   "metadata": {
    "execution": {
     "iopub.execute_input": "2024-08-20T13:37:20.264208Z",
     "iopub.status.busy": "2024-08-20T13:37:20.264074Z",
     "iopub.status.idle": "2024-08-20T13:37:23.429574Z",
     "shell.execute_reply": "2024-08-20T13:37:23.429316Z"
    },
    "papermill": {
     "duration": 3.16737,
     "end_time": "2024-08-20T13:37:23.430384",
     "exception": false,
     "start_time": "2024-08-20T13:37:20.263014",
     "status": "completed"
    },
    "tags": []
   },
   "outputs": [
    {
     "name": "stdout",
     "output_type": "stream",
     "text": [
      "Active run_id: 6a161316adc643ccb1678da9f5654289"
     ]
    },
    {
     "name": "stdout",
     "output_type": "stream",
     "text": [
      "\n"
     ]
    },
    {
     "name": "stderr",
     "output_type": "stream",
     "text": [
      "2024/08/20 16:37:23 WARNING mlflow.models.model: Input example should be provided to infer model signature if the model signature is not provided when logging the model.\n"
     ]
    },
    {
     "name": "stderr",
     "output_type": "stream",
     "text": [
      "2024/08/20 16:37:23 INFO mlflow.tracking._tracking_service.client: 🏃 View run smiling-gnat-350 at: http://127.0.0.1:5000/#/experiments/0/runs/6a161316adc643ccb1678da9f5654289.\n"
     ]
    },
    {
     "name": "stderr",
     "output_type": "stream",
     "text": [
      "2024/08/20 16:37:23 INFO mlflow.tracking._tracking_service.client: 🧪 View experiment at: http://127.0.0.1:5000/#/experiments/0.\n"
     ]
    }
   ],
   "source": [
    "import os\n",
    "import pandas as pd\n",
    "import numpy as np\n",
    "from sklearn.metrics import mean_absolute_error\n",
    "from sklearn.linear_model import LinearRegression\n",
    "from dotenv import load_dotenv\n",
    "from yaml import load, Loader\n",
    "import yaml\n",
    "from pathlib import Path\n",
    "import dvc.api\n",
    "import mlflow\n",
    "import json\n",
    "import pyarrow as pa\n",
    "import pyarrow.parquet as pq\n",
    "import pandas as pd\n",
    "\n",
    "from catboost import CatBoostRegressor\n",
    "\n",
    "\n",
    "load_dotenv()\n",
    "\n",
    "SAVED_PARAMS  =  os.environ.get('MODEL_1_SAVED_PARAMS')\n",
    "\n",
    "TRANSFORM_DATA_PATH = os.environ.get('MODEL_1_TRANSFORM_DATA_PATH')\n",
    "\n",
    "X_TRAIN_FILE = os.environ.get('MODEL_1_TRANSFORM_DATA_FILE_TRAIN_X')\n",
    "Y_TRAIN_FILE =  os.environ.get('MODEL_1_TRANSFORM_DATA_FILE_TRAIN_Y')\n",
    "X_TEST_FILE = os.environ.get('MODEL_1_TRANSFORM_DATA_FILE_TEST_X')\n",
    "Y_TEST_FILE =  os.environ.get('MODEL_1_TRANSFORM_DATA_FILE_TEST_Y')\n",
    "\n",
    "MLFLOW_ENDPOINT_URL = os.environ.get(\"MLFLOW_ENDPOINT_URL\")\n",
    "MODEL_1_TRAIN_CONFIG_PATH=os.environ.get(\"MODEL_1_TRAIN_CONFIG_PATH\")\n",
    "MODEL_1_MODEL_METRICS = os.environ.get(\"MODEL_1_MODEL_METRICS\")\n",
    "\n",
    "X_TRAIN_DATA = str(Path(TRANSFORM_DATA_PATH) / X_TRAIN_FILE)\n",
    "X_train = pq.read_table(X_TRAIN_DATA).to_pandas()\n",
    "\n",
    "Y_TRAIN_DATA = str(Path(TRANSFORM_DATA_PATH) / Y_TRAIN_FILE)\n",
    "y_train = pq.read_table(Y_TRAIN_DATA).to_pandas()\n",
    "\n",
    "\n",
    "X_TEST_DATA = str(Path(TRANSFORM_DATA_PATH) / X_TEST_FILE)\n",
    "X_test = pq.read_table(X_TEST_DATA).to_pandas()\n",
    "\n",
    "Y_TEST_DATA = str(Path(TRANSFORM_DATA_PATH) / Y_TEST_FILE)\n",
    "y_test = pq.read_table(Y_TEST_DATA).to_pandas()\n",
    "\n",
    "mlflow.set_tracking_uri(MLFLOW_ENDPOINT_URL)\n",
    "\n",
    "with mlflow.start_run():\n",
    "\n",
    "    run = mlflow.active_run()\n",
    "    run_id = run.info.run_id\n",
    "\n",
    "    print(f\"Active run_id: {run_id}\")\n",
    "\n",
    "    with open(MODEL_1_TRAIN_CONFIG_PATH, \"r\") as conf:\n",
    "        train_config = load(conf, Loader=Loader)[\"train_config\"]\n",
    "    \n",
    "    model = CatBoostRegressor(iterations=train_config['iterations'],\n",
    "                               learning_rate=train_config['learning_rate'],\n",
    "                                depth=train_config['depth'],\n",
    "                                verbose=train_config['verbose'])\n",
    "\n",
    "    model.fit(X_train, y_train)\n",
    "\n",
    "    y_pred = model.predict(X_test)\n",
    "\n",
    "    mae = mean_absolute_error(y_test, y_pred)\n",
    "\n",
    "    mlflow.log_metric(\"mae\", mae)\n",
    "\n",
    "    with open(MODEL_1_MODEL_METRICS, 'w') as pfile:\n",
    "        json.dump({'mae':mae}, pfile)\n",
    "        \n",
    "    mlflow.catboost.log_model(model, \"model\")\n",
    "    \n",
    "    mlflow.log_param(\"X_train\", str(dvc.api.get_url(path=str(Path(TRANSFORM_DATA_PATH) / X_TRAIN_FILE))))\n",
    "    mlflow.log_param(\"y_train\", str(dvc.api.get_url(path=str(Path(TRANSFORM_DATA_PATH) / Y_TRAIN_FILE) )))\n",
    "    mlflow.log_param(\"X_test\", str(dvc.api.get_url(path=str(Path(TRANSFORM_DATA_PATH) / X_TEST_FILE))))\n",
    "    mlflow.log_param(\"y_test\", str(dvc.api.get_url(path=str(Path(TRANSFORM_DATA_PATH) / Y_TEST_FILE))))\n",
    " \n",
    "    with open(SAVED_PARAMS, 'w') as pfile:\n",
    "        json.dump({'run_id': run_id}, pfile)\n"
   ]
  }
 ],
 "metadata": {
  "language_info": {
   "codemirror_mode": {
    "name": "ipython",
    "version": 3
   },
   "file_extension": ".py",
   "mimetype": "text/x-python",
   "name": "python",
   "nbconvert_exporter": "python",
   "pygments_lexer": "ipython3",
   "version": "3.11.9"
  },
  "papermill": {
   "default_parameters": {},
   "duration": 4.215427,
   "end_time": "2024-08-20T13:37:23.848704",
   "environment_variables": {},
   "exception": null,
   "input_path": "src/model_1/train/train.ipynb",
   "output_path": "src/model_1/train/train_out.ipynb",
   "parameters": {},
   "start_time": "2024-08-20T13:37:19.633277",
   "version": "2.6.0"
  }
 },
 "nbformat": 4,
 "nbformat_minor": 5
}