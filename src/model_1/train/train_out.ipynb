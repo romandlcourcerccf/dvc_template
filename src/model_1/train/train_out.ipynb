{
 "cells": [
  {
   "cell_type": "code",
   "execution_count": 1,
   "id": "fb5c58ef",
   "metadata": {
    "execution": {
     "iopub.execute_input": "2024-08-16T14:24:17.965367Z",
     "iopub.status.busy": "2024-08-16T14:24:17.964789Z",
     "iopub.status.idle": "2024-08-16T14:24:19.854495Z",
     "shell.execute_reply": "2024-08-16T14:24:19.854059Z"
    },
    "papermill": {
     "duration": 1.898858,
     "end_time": "2024-08-16T14:24:19.855702",
     "exception": false,
     "start_time": "2024-08-16T14:24:17.956844",
     "status": "completed"
    },
    "tags": []
   },
   "outputs": [
    {
     "name": "stdout",
     "output_type": "stream",
     "text": [
      "Requirement already satisfied: mlflow in /opt/anaconda3/lib/python3.11/site-packages (2.15.1)\r\n"
     ]
    },
    {
     "name": "stdout",
     "output_type": "stream",
     "text": [
      "Requirement already satisfied: mlflow-skinny==2.15.1 in /opt/anaconda3/lib/python3.11/site-packages (from mlflow) (2.15.1)\r\n",
      "Requirement already satisfied: Flask<4 in /opt/anaconda3/lib/python3.11/site-packages (from mlflow) (2.2.5)\r\n",
      "Requirement already satisfied: alembic!=1.10.0,<2 in /opt/anaconda3/lib/python3.11/site-packages (from mlflow) (1.13.2)\r\n",
      "Requirement already satisfied: docker<8,>=4.0.0 in /opt/anaconda3/lib/python3.11/site-packages (from mlflow) (7.1.0)\r\n",
      "Requirement already satisfied: graphene<4 in /opt/anaconda3/lib/python3.11/site-packages (from mlflow) (3.3)\r\n",
      "Requirement already satisfied: markdown<4,>=3.3 in /opt/anaconda3/lib/python3.11/site-packages (from mlflow) (3.4.1)\r\n",
      "Requirement already satisfied: matplotlib<4 in /opt/anaconda3/lib/python3.11/site-packages (from mlflow) (3.8.0)\r\n",
      "Requirement already satisfied: numpy<2 in /opt/anaconda3/lib/python3.11/site-packages (from mlflow) (1.26.4)\r\n",
      "Requirement already satisfied: pandas<3 in /opt/anaconda3/lib/python3.11/site-packages (from mlflow) (2.1.4)\r\n",
      "Requirement already satisfied: pyarrow<16,>=4.0.0 in /opt/anaconda3/lib/python3.11/site-packages (from mlflow) (14.0.2)\r\n",
      "Requirement already satisfied: querystring-parser<2 in /opt/anaconda3/lib/python3.11/site-packages (from mlflow) (1.2.4)\r\n",
      "Requirement already satisfied: scikit-learn<2 in /opt/anaconda3/lib/python3.11/site-packages (from mlflow) (1.2.2)\r\n",
      "Requirement already satisfied: scipy<2 in /opt/anaconda3/lib/python3.11/site-packages (from mlflow) (1.11.4)\r\n",
      "Requirement already satisfied: sqlalchemy<3,>=1.4.0 in /opt/anaconda3/lib/python3.11/site-packages (from mlflow) (2.0.25)\r\n",
      "Requirement already satisfied: Jinja2<4,>=2.11 in /opt/anaconda3/lib/python3.11/site-packages (from mlflow) (3.1.3)\r\n",
      "Requirement already satisfied: gunicorn<23 in /opt/anaconda3/lib/python3.11/site-packages (from mlflow) (22.0.0)\r\n",
      "Requirement already satisfied: cachetools<6,>=5.0.0 in /opt/anaconda3/lib/python3.11/site-packages (from mlflow-skinny==2.15.1->mlflow) (5.4.0)\r\n",
      "Requirement already satisfied: click<9,>=7.0 in /opt/anaconda3/lib/python3.11/site-packages (from mlflow-skinny==2.15.1->mlflow) (8.1.7)\r\n",
      "Requirement already satisfied: cloudpickle<4 in /opt/anaconda3/lib/python3.11/site-packages (from mlflow-skinny==2.15.1->mlflow) (2.2.1)\r\n",
      "Requirement already satisfied: databricks-sdk<1,>=0.20.0 in /opt/anaconda3/lib/python3.11/site-packages (from mlflow-skinny==2.15.1->mlflow) (0.30.0)\r\n",
      "Requirement already satisfied: entrypoints<1 in /opt/anaconda3/lib/python3.11/site-packages (from mlflow-skinny==2.15.1->mlflow) (0.4)\r\n",
      "Requirement already satisfied: gitpython<4,>=3.1.9 in /opt/anaconda3/lib/python3.11/site-packages (from mlflow-skinny==2.15.1->mlflow) (3.1.37)\r\n",
      "Requirement already satisfied: importlib-metadata!=4.7.0,<8,>=3.7.0 in /opt/anaconda3/lib/python3.11/site-packages (from mlflow-skinny==2.15.1->mlflow) (7.0.1)\r\n",
      "Requirement already satisfied: opentelemetry-api<3,>=1.9.0 in /opt/anaconda3/lib/python3.11/site-packages (from mlflow-skinny==2.15.1->mlflow) (1.26.0)\r\n",
      "Requirement already satisfied: opentelemetry-sdk<3,>=1.9.0 in /opt/anaconda3/lib/python3.11/site-packages (from mlflow-skinny==2.15.1->mlflow) (1.26.0)\r\n",
      "Requirement already satisfied: packaging<25 in /opt/anaconda3/lib/python3.11/site-packages (from mlflow-skinny==2.15.1->mlflow) (23.1)\r\n",
      "Requirement already satisfied: protobuf<6,>=3.12.0 in /opt/anaconda3/lib/python3.11/site-packages (from mlflow-skinny==2.15.1->mlflow) (3.20.3)\r\n",
      "Requirement already satisfied: pytz<2025 in /opt/anaconda3/lib/python3.11/site-packages (from mlflow-skinny==2.15.1->mlflow) (2023.3.post1)\r\n",
      "Requirement already satisfied: pyyaml<7,>=5.1 in /opt/anaconda3/lib/python3.11/site-packages (from mlflow-skinny==2.15.1->mlflow) (6.0.1)\r\n",
      "Requirement already satisfied: requests<3,>=2.17.3 in /opt/anaconda3/lib/python3.11/site-packages (from mlflow-skinny==2.15.1->mlflow) (2.31.0)\r\n",
      "Requirement already satisfied: sqlparse<1,>=0.4.0 in /opt/anaconda3/lib/python3.11/site-packages (from mlflow-skinny==2.15.1->mlflow) (0.5.1)\r\n",
      "Requirement already satisfied: Mako in /opt/anaconda3/lib/python3.11/site-packages (from alembic!=1.10.0,<2->mlflow) (1.3.5)\r\n",
      "Requirement already satisfied: typing-extensions>=4 in /opt/anaconda3/lib/python3.11/site-packages (from alembic!=1.10.0,<2->mlflow) (4.9.0)\r\n",
      "Requirement already satisfied: urllib3>=1.26.0 in /opt/anaconda3/lib/python3.11/site-packages (from docker<8,>=4.0.0->mlflow) (2.0.7)\r\n",
      "Requirement already satisfied: Werkzeug>=2.2.2 in /opt/anaconda3/lib/python3.11/site-packages (from Flask<4->mlflow) (2.2.3)\r\n",
      "Requirement already satisfied: itsdangerous>=2.0 in /opt/anaconda3/lib/python3.11/site-packages (from Flask<4->mlflow) (2.0.1)\r\n",
      "Requirement already satisfied: graphql-core<3.3,>=3.1 in /opt/anaconda3/lib/python3.11/site-packages (from graphene<4->mlflow) (3.2.3)\r\n",
      "Requirement already satisfied: graphql-relay<3.3,>=3.1 in /opt/anaconda3/lib/python3.11/site-packages (from graphene<4->mlflow) (3.2.0)\r\n",
      "Requirement already satisfied: aniso8601<10,>=8 in /opt/anaconda3/lib/python3.11/site-packages (from graphene<4->mlflow) (9.0.1)\r\n"
     ]
    },
    {
     "name": "stdout",
     "output_type": "stream",
     "text": [
      "Requirement already satisfied: MarkupSafe>=2.0 in /opt/anaconda3/lib/python3.11/site-packages (from Jinja2<4,>=2.11->mlflow) (2.1.3)\r\n",
      "Requirement already satisfied: contourpy>=1.0.1 in /opt/anaconda3/lib/python3.11/site-packages (from matplotlib<4->mlflow) (1.2.0)\r\n",
      "Requirement already satisfied: cycler>=0.10 in /opt/anaconda3/lib/python3.11/site-packages (from matplotlib<4->mlflow) (0.11.0)\r\n",
      "Requirement already satisfied: fonttools>=4.22.0 in /opt/anaconda3/lib/python3.11/site-packages (from matplotlib<4->mlflow) (4.25.0)\r\n",
      "Requirement already satisfied: kiwisolver>=1.0.1 in /opt/anaconda3/lib/python3.11/site-packages (from matplotlib<4->mlflow) (1.4.4)\r\n",
      "Requirement already satisfied: pillow>=6.2.0 in /opt/anaconda3/lib/python3.11/site-packages (from matplotlib<4->mlflow) (10.2.0)\r\n",
      "Requirement already satisfied: pyparsing>=2.3.1 in /opt/anaconda3/lib/python3.11/site-packages (from matplotlib<4->mlflow) (3.0.9)\r\n",
      "Requirement already satisfied: python-dateutil>=2.7 in /opt/anaconda3/lib/python3.11/site-packages (from matplotlib<4->mlflow) (2.8.2)\r\n",
      "Requirement already satisfied: tzdata>=2022.1 in /opt/anaconda3/lib/python3.11/site-packages (from pandas<3->mlflow) (2023.3)\r\n",
      "Requirement already satisfied: six in /opt/anaconda3/lib/python3.11/site-packages (from querystring-parser<2->mlflow) (1.16.0)\r\n",
      "Requirement already satisfied: joblib>=1.1.1 in /opt/anaconda3/lib/python3.11/site-packages (from scikit-learn<2->mlflow) (1.2.0)\r\n",
      "Requirement already satisfied: threadpoolctl>=2.0.0 in /opt/anaconda3/lib/python3.11/site-packages (from scikit-learn<2->mlflow) (2.2.0)\r\n"
     ]
    },
    {
     "name": "stdout",
     "output_type": "stream",
     "text": [
      "Requirement already satisfied: google-auth~=2.0 in /opt/anaconda3/lib/python3.11/site-packages (from databricks-sdk<1,>=0.20.0->mlflow-skinny==2.15.1->mlflow) (2.33.0)\r\n",
      "Requirement already satisfied: gitdb<5,>=4.0.1 in /opt/anaconda3/lib/python3.11/site-packages (from gitpython<4,>=3.1.9->mlflow-skinny==2.15.1->mlflow) (4.0.7)\r\n"
     ]
    },
    {
     "name": "stdout",
     "output_type": "stream",
     "text": [
      "Requirement already satisfied: zipp>=0.5 in /opt/anaconda3/lib/python3.11/site-packages (from importlib-metadata!=4.7.0,<8,>=3.7.0->mlflow-skinny==2.15.1->mlflow) (3.17.0)\r\n",
      "Requirement already satisfied: deprecated>=1.2.6 in /opt/anaconda3/lib/python3.11/site-packages (from opentelemetry-api<3,>=1.9.0->mlflow-skinny==2.15.1->mlflow) (1.2.14)\r\n",
      "Requirement already satisfied: opentelemetry-semantic-conventions==0.47b0 in /opt/anaconda3/lib/python3.11/site-packages (from opentelemetry-sdk<3,>=1.9.0->mlflow-skinny==2.15.1->mlflow) (0.47b0)\r\n",
      "Requirement already satisfied: charset-normalizer<4,>=2 in /opt/anaconda3/lib/python3.11/site-packages (from requests<3,>=2.17.3->mlflow-skinny==2.15.1->mlflow) (2.0.4)\r\n",
      "Requirement already satisfied: idna<4,>=2.5 in /opt/anaconda3/lib/python3.11/site-packages (from requests<3,>=2.17.3->mlflow-skinny==2.15.1->mlflow) (3.4)\r\n",
      "Requirement already satisfied: certifi>=2017.4.17 in /opt/anaconda3/lib/python3.11/site-packages (from requests<3,>=2.17.3->mlflow-skinny==2.15.1->mlflow) (2024.6.2)\r\n",
      "Requirement already satisfied: wrapt<2,>=1.10 in /opt/anaconda3/lib/python3.11/site-packages (from deprecated>=1.2.6->opentelemetry-api<3,>=1.9.0->mlflow-skinny==2.15.1->mlflow) (1.14.1)\r\n"
     ]
    },
    {
     "name": "stdout",
     "output_type": "stream",
     "text": [
      "Requirement already satisfied: smmap<5,>=3.0.1 in /opt/anaconda3/lib/python3.11/site-packages (from gitdb<5,>=4.0.1->gitpython<4,>=3.1.9->mlflow-skinny==2.15.1->mlflow) (4.0.0)\r\n",
      "Requirement already satisfied: pyasn1-modules>=0.2.1 in /opt/anaconda3/lib/python3.11/site-packages (from google-auth~=2.0->databricks-sdk<1,>=0.20.0->mlflow-skinny==2.15.1->mlflow) (0.2.8)\r\n",
      "Requirement already satisfied: rsa<5,>=3.1.4 in /opt/anaconda3/lib/python3.11/site-packages (from google-auth~=2.0->databricks-sdk<1,>=0.20.0->mlflow-skinny==2.15.1->mlflow) (4.9)\r\n",
      "Requirement already satisfied: pyasn1<0.5.0,>=0.4.6 in /opt/anaconda3/lib/python3.11/site-packages (from pyasn1-modules>=0.2.1->google-auth~=2.0->databricks-sdk<1,>=0.20.0->mlflow-skinny==2.15.1->mlflow) (0.4.8)\r\n"
     ]
    },
    {
     "name": "stdout",
     "output_type": "stream",
     "text": [
      "Note: you may need to restart the kernel to use updated packages.\n"
     ]
    }
   ],
   "source": [
    "%pip install mlflow"
   ]
  },
  {
   "cell_type": "code",
   "execution_count": 2,
   "id": "4e3f2863",
   "metadata": {
    "execution": {
     "iopub.execute_input": "2024-08-16T14:24:19.859189Z",
     "iopub.status.busy": "2024-08-16T14:24:19.859027Z",
     "iopub.status.idle": "2024-08-16T14:24:21.395906Z",
     "shell.execute_reply": "2024-08-16T14:24:21.395447Z"
    },
    "papermill": {
     "duration": 1.539781,
     "end_time": "2024-08-16T14:24:21.397058",
     "exception": false,
     "start_time": "2024-08-16T14:24:19.857277",
     "status": "completed"
    },
    "tags": []
   },
   "outputs": [
    {
     "name": "stdout",
     "output_type": "stream",
     "text": [
      "Requirement already satisfied: boto3 in /opt/anaconda3/lib/python3.11/site-packages (1.28.64)\r\n",
      "Requirement already satisfied: botocore<1.32.0,>=1.31.64 in /opt/anaconda3/lib/python3.11/site-packages (from boto3) (1.31.64)\r\n",
      "Requirement already satisfied: jmespath<2.0.0,>=0.7.1 in /opt/anaconda3/lib/python3.11/site-packages (from boto3) (1.0.1)\r\n",
      "Requirement already satisfied: s3transfer<0.8.0,>=0.7.0 in /opt/anaconda3/lib/python3.11/site-packages (from boto3) (0.7.0)\r\n",
      "Requirement already satisfied: python-dateutil<3.0.0,>=2.1 in /opt/anaconda3/lib/python3.11/site-packages (from botocore<1.32.0,>=1.31.64->boto3) (2.8.2)\r\n",
      "Requirement already satisfied: urllib3<2.1,>=1.25.4 in /opt/anaconda3/lib/python3.11/site-packages (from botocore<1.32.0,>=1.31.64->boto3) (2.0.7)\r\n",
      "Requirement already satisfied: six>=1.5 in /opt/anaconda3/lib/python3.11/site-packages (from python-dateutil<3.0.0,>=2.1->botocore<1.32.0,>=1.31.64->boto3) (1.16.0)\r\n"
     ]
    },
    {
     "name": "stdout",
     "output_type": "stream",
     "text": [
      "Note: you may need to restart the kernel to use updated packages.\n"
     ]
    }
   ],
   "source": [
    "%pip install boto3"
   ]
  },
  {
   "cell_type": "code",
   "execution_count": 3,
   "id": "7589799e",
   "metadata": {
    "execution": {
     "iopub.execute_input": "2024-08-16T14:24:21.400479Z",
     "iopub.status.busy": "2024-08-16T14:24:21.400307Z",
     "iopub.status.idle": "2024-08-16T14:24:23.433189Z",
     "shell.execute_reply": "2024-08-16T14:24:23.432715Z"
    },
    "papermill": {
     "duration": 2.03576,
     "end_time": "2024-08-16T14:24:23.434287",
     "exception": false,
     "start_time": "2024-08-16T14:24:21.398527",
     "status": "completed"
    },
    "tags": []
   },
   "outputs": [
    {
     "name": "stdout",
     "output_type": "stream",
     "text": [
      "Requirement already satisfied: dvc[s3] in /opt/anaconda3/lib/python3.11/site-packages (3.53.2)\r\n",
      "Requirement already satisfied: attrs>=22.2.0 in /opt/anaconda3/lib/python3.11/site-packages (from dvc[s3]) (23.1.0)\r\n",
      "Requirement already satisfied: celery in /opt/anaconda3/lib/python3.11/site-packages (from dvc[s3]) (5.4.0)\r\n",
      "Requirement already satisfied: colorama>=0.3.9 in /opt/anaconda3/lib/python3.11/site-packages (from dvc[s3]) (0.4.6)\r\n",
      "Requirement already satisfied: configobj>=5.0.6 in /opt/anaconda3/lib/python3.11/site-packages (from dvc[s3]) (5.0.8)\r\n",
      "Requirement already satisfied: distro>=1.3 in /opt/anaconda3/lib/python3.11/site-packages (from dvc[s3]) (1.8.0)\r\n",
      "Requirement already satisfied: dpath<3,>=2.1.0 in /opt/anaconda3/lib/python3.11/site-packages (from dvc[s3]) (2.2.0)\r\n",
      "Requirement already satisfied: dulwich in /opt/anaconda3/lib/python3.11/site-packages (from dvc[s3]) (0.22.1)\r\n",
      "Requirement already satisfied: dvc-data<3.16,>=3.15 in /opt/anaconda3/lib/python3.11/site-packages (from dvc[s3]) (3.15.2)\r\n",
      "Requirement already satisfied: dvc-http>=2.29.0 in /opt/anaconda3/lib/python3.11/site-packages (from dvc[s3]) (2.32.0)\r\n",
      "Requirement already satisfied: dvc-objects in /opt/anaconda3/lib/python3.11/site-packages (from dvc[s3]) (5.1.0)\r\n",
      "Requirement already satisfied: dvc-render<2,>=1.0.1 in /opt/anaconda3/lib/python3.11/site-packages (from dvc[s3]) (1.0.2)\r\n",
      "Requirement already satisfied: dvc-studio-client<1,>=0.21 in /opt/anaconda3/lib/python3.11/site-packages (from dvc[s3]) (0.21.0)\r\n",
      "Requirement already satisfied: dvc-task<1,>=0.3.0 in /opt/anaconda3/lib/python3.11/site-packages (from dvc[s3]) (0.4.0)\r\n",
      "Requirement already satisfied: flatten-dict<1,>=0.4.1 in /opt/anaconda3/lib/python3.11/site-packages (from dvc[s3]) (0.4.2)\r\n",
      "Requirement already satisfied: flufl.lock<9,>=8.1.0 in /opt/anaconda3/lib/python3.11/site-packages (from dvc[s3]) (8.1.0)\r\n",
      "Requirement already satisfied: fsspec>=2024.2.0 in /opt/anaconda3/lib/python3.11/site-packages (from dvc[s3]) (2024.6.1)\r\n",
      "Requirement already satisfied: funcy>=1.14 in /opt/anaconda3/lib/python3.11/site-packages (from dvc[s3]) (2.0)\r\n",
      "Requirement already satisfied: grandalf<1,>=0.7 in /opt/anaconda3/lib/python3.11/site-packages (from dvc[s3]) (0.8)\r\n",
      "Requirement already satisfied: gto<2,>=1.6.0 in /opt/anaconda3/lib/python3.11/site-packages (from dvc[s3]) (1.7.1)\r\n",
      "Requirement already satisfied: hydra-core>=1.1 in /opt/anaconda3/lib/python3.11/site-packages (from dvc[s3]) (1.3.2)\r\n",
      "Requirement already satisfied: iterative-telemetry>=0.0.7 in /opt/anaconda3/lib/python3.11/site-packages (from dvc[s3]) (0.0.8)\r\n",
      "Requirement already satisfied: kombu in /opt/anaconda3/lib/python3.11/site-packages (from dvc[s3]) (5.4.0)\r\n",
      "Requirement already satisfied: networkx>=2.5 in /opt/anaconda3/lib/python3.11/site-packages (from dvc[s3]) (3.1)\r\n",
      "Requirement already satisfied: omegaconf in /opt/anaconda3/lib/python3.11/site-packages (from dvc[s3]) (2.3.0)\r\n",
      "Requirement already satisfied: packaging>=19 in /opt/anaconda3/lib/python3.11/site-packages (from dvc[s3]) (23.1)\r\n",
      "Requirement already satisfied: pathspec>=0.10.3 in /opt/anaconda3/lib/python3.11/site-packages (from dvc[s3]) (0.10.3)\r\n",
      "Requirement already satisfied: platformdirs<4,>=3.1.1 in /opt/anaconda3/lib/python3.11/site-packages (from dvc[s3]) (3.10.0)\r\n",
      "Requirement already satisfied: psutil>=5.8 in /opt/anaconda3/lib/python3.11/site-packages (from dvc[s3]) (5.9.0)\r\n",
      "Requirement already satisfied: pydot>=1.2.4 in /opt/anaconda3/lib/python3.11/site-packages (from dvc[s3]) (3.0.1)\r\n",
      "Requirement already satisfied: pygtrie>=2.3.2 in /opt/anaconda3/lib/python3.11/site-packages (from dvc[s3]) (2.5.0)\r\n",
      "Requirement already satisfied: pyparsing>=2.4.7 in /opt/anaconda3/lib/python3.11/site-packages (from dvc[s3]) (3.0.9)\r\n",
      "Requirement already satisfied: requests>=2.22 in /opt/anaconda3/lib/python3.11/site-packages (from dvc[s3]) (2.31.0)\r\n",
      "Requirement already satisfied: rich>=12 in /opt/anaconda3/lib/python3.11/site-packages (from dvc[s3]) (13.3.5)\r\n",
      "Requirement already satisfied: ruamel.yaml>=0.17.11 in /opt/anaconda3/lib/python3.11/site-packages (from dvc[s3]) (0.17.21)\r\n",
      "Requirement already satisfied: scmrepo<4,>=3.3.4 in /opt/anaconda3/lib/python3.11/site-packages (from dvc[s3]) (3.3.7)\r\n",
      "Requirement already satisfied: shortuuid>=0.5 in /opt/anaconda3/lib/python3.11/site-packages (from dvc[s3]) (1.0.13)\r\n",
      "Requirement already satisfied: shtab<2,>=1.3.4 in /opt/anaconda3/lib/python3.11/site-packages (from dvc[s3]) (1.7.1)\r\n",
      "Requirement already satisfied: tabulate>=0.8.7 in /opt/anaconda3/lib/python3.11/site-packages (from dvc[s3]) (0.9.0)\r\n",
      "Requirement already satisfied: tomlkit>=0.11.1 in /opt/anaconda3/lib/python3.11/site-packages (from dvc[s3]) (0.11.1)\r\n",
      "Requirement already satisfied: tqdm<5,>=4.63.1 in /opt/anaconda3/lib/python3.11/site-packages (from dvc[s3]) (4.65.0)\r\n",
      "Requirement already satisfied: voluptuous>=0.11.7 in /opt/anaconda3/lib/python3.11/site-packages (from dvc[s3]) (0.15.2)\r\n",
      "Requirement already satisfied: zc.lockfile>=1.2.1 in /opt/anaconda3/lib/python3.11/site-packages (from dvc[s3]) (3.0.post1)\r\n",
      "Requirement already satisfied: dvc-s3<4,>=3.2.0 in /opt/anaconda3/lib/python3.11/site-packages (from dvc[s3]) (3.2.0)\r\n",
      "Requirement already satisfied: six in /opt/anaconda3/lib/python3.11/site-packages (from configobj>=5.0.6->dvc[s3]) (1.16.0)\r\n"
     ]
    },
    {
     "name": "stdout",
     "output_type": "stream",
     "text": [
      "Requirement already satisfied: dictdiffer>=0.8.1 in /opt/anaconda3/lib/python3.11/site-packages (from dvc-data<3.16,>=3.15->dvc[s3]) (0.9.0)\r\n",
      "Requirement already satisfied: diskcache>=5.2.1 in /opt/anaconda3/lib/python3.11/site-packages (from dvc-data<3.16,>=3.15->dvc[s3]) (5.6.3)\r\n",
      "Requirement already satisfied: sqltrie<1,>=0.11.0 in /opt/anaconda3/lib/python3.11/site-packages (from dvc-data<3.16,>=3.15->dvc[s3]) (0.11.1)\r\n",
      "Requirement already satisfied: aiohttp-retry>=2.5.0 in /opt/anaconda3/lib/python3.11/site-packages (from dvc-http>=2.29.0->dvc[s3]) (2.8.3)\r\n",
      "Requirement already satisfied: s3fs>=2023.6.0 in /opt/anaconda3/lib/python3.11/site-packages (from dvc-s3<4,>=3.2.0->dvc[s3]) (2024.6.1)\r\n",
      "Requirement already satisfied: aiobotocore>=2.5.0 in /opt/anaconda3/lib/python3.11/site-packages (from aiobotocore[boto3]>=2.5.0->dvc-s3<4,>=3.2.0->dvc[s3]) (2.7.0)\r\n",
      "Requirement already satisfied: billiard<5.0,>=4.2.0 in /opt/anaconda3/lib/python3.11/site-packages (from celery->dvc[s3]) (4.2.0)\r\n",
      "Requirement already satisfied: vine<6.0,>=5.1.0 in /opt/anaconda3/lib/python3.11/site-packages (from celery->dvc[s3]) (5.1.0)\r\n",
      "Requirement already satisfied: click<9.0,>=8.1.2 in /opt/anaconda3/lib/python3.11/site-packages (from celery->dvc[s3]) (8.1.7)\r\n",
      "Requirement already satisfied: click-didyoumean>=0.3.0 in /opt/anaconda3/lib/python3.11/site-packages (from celery->dvc[s3]) (0.3.1)\r\n",
      "Requirement already satisfied: click-repl>=0.2.0 in /opt/anaconda3/lib/python3.11/site-packages (from celery->dvc[s3]) (0.3.0)\r\n",
      "Requirement already satisfied: click-plugins>=1.1.1 in /opt/anaconda3/lib/python3.11/site-packages (from celery->dvc[s3]) (1.1.1)\r\n",
      "Requirement already satisfied: tzdata>=2022.7 in /opt/anaconda3/lib/python3.11/site-packages (from celery->dvc[s3]) (2023.3)\r\n",
      "Requirement already satisfied: python-dateutil>=2.8.2 in /opt/anaconda3/lib/python3.11/site-packages (from celery->dvc[s3]) (2.8.2)\r\n",
      "Requirement already satisfied: atpublic in /opt/anaconda3/lib/python3.11/site-packages (from flufl.lock<9,>=8.1.0->dvc[s3]) (5.0)\r\n"
     ]
    },
    {
     "name": "stdout",
     "output_type": "stream",
     "text": [
      "Requirement already satisfied: typer>=0.4.1 in /opt/anaconda3/lib/python3.11/site-packages (from gto<2,>=1.6.0->dvc[s3]) (0.12.3)\r\n",
      "Requirement already satisfied: pydantic!=2.0.0,<3,>=1.9.0 in /opt/anaconda3/lib/python3.11/site-packages (from gto<2,>=1.6.0->dvc[s3]) (1.10.12)\r\n",
      "Requirement already satisfied: semver>=2.13.0 in /opt/anaconda3/lib/python3.11/site-packages (from gto<2,>=1.6.0->dvc[s3]) (2.13.0)\r\n",
      "Requirement already satisfied: entrypoints in /opt/anaconda3/lib/python3.11/site-packages (from gto<2,>=1.6.0->dvc[s3]) (0.4)\r\n",
      "Requirement already satisfied: antlr4-python3-runtime==4.9.* in /opt/anaconda3/lib/python3.11/site-packages (from hydra-core>=1.1->dvc[s3]) (4.9.3)\r\n",
      "Requirement already satisfied: appdirs in /opt/anaconda3/lib/python3.11/site-packages (from iterative-telemetry>=0.0.7->dvc[s3]) (1.4.4)\r\n",
      "Requirement already satisfied: filelock in /opt/anaconda3/lib/python3.11/site-packages (from iterative-telemetry>=0.0.7->dvc[s3]) (3.13.1)\r\n",
      "Requirement already satisfied: amqp<6.0.0,>=5.1.1 in /opt/anaconda3/lib/python3.11/site-packages (from kombu->dvc[s3]) (5.2.0)\r\n",
      "Requirement already satisfied: PyYAML>=5.1.0 in /opt/anaconda3/lib/python3.11/site-packages (from omegaconf->dvc[s3]) (6.0.1)\r\n"
     ]
    },
    {
     "name": "stdout",
     "output_type": "stream",
     "text": [
      "Requirement already satisfied: charset-normalizer<4,>=2 in /opt/anaconda3/lib/python3.11/site-packages (from requests>=2.22->dvc[s3]) (2.0.4)\r\n",
      "Requirement already satisfied: idna<4,>=2.5 in /opt/anaconda3/lib/python3.11/site-packages (from requests>=2.22->dvc[s3]) (3.4)\r\n",
      "Requirement already satisfied: urllib3<3,>=1.21.1 in /opt/anaconda3/lib/python3.11/site-packages (from requests>=2.22->dvc[s3]) (2.0.7)\r\n",
      "Requirement already satisfied: certifi>=2017.4.17 in /opt/anaconda3/lib/python3.11/site-packages (from requests>=2.22->dvc[s3]) (2024.6.2)\r\n",
      "Requirement already satisfied: markdown-it-py<3.0.0,>=2.2.0 in /opt/anaconda3/lib/python3.11/site-packages (from rich>=12->dvc[s3]) (2.2.0)\r\n",
      "Requirement already satisfied: pygments<3.0.0,>=2.13.0 in /opt/anaconda3/lib/python3.11/site-packages (from rich>=12->dvc[s3]) (2.15.1)\r\n",
      "Requirement already satisfied: gitpython>3 in /opt/anaconda3/lib/python3.11/site-packages (from scmrepo<4,>=3.3.4->dvc[s3]) (3.1.37)\r\n",
      "Requirement already satisfied: pygit2>=1.14.0 in /opt/anaconda3/lib/python3.11/site-packages (from scmrepo<4,>=3.3.4->dvc[s3]) (1.15.1)\r\n",
      "Requirement already satisfied: asyncssh<3,>=2.13.1 in /opt/anaconda3/lib/python3.11/site-packages (from scmrepo<4,>=3.3.4->dvc[s3]) (2.15.0)\r\n"
     ]
    },
    {
     "name": "stdout",
     "output_type": "stream",
     "text": [
      "Requirement already satisfied: setuptools in /opt/anaconda3/lib/python3.11/site-packages (from zc.lockfile>=1.2.1->dvc[s3]) (68.2.2)\r\n",
      "Requirement already satisfied: botocore<1.31.65,>=1.31.16 in /opt/anaconda3/lib/python3.11/site-packages (from aiobotocore>=2.5.0->aiobotocore[boto3]>=2.5.0->dvc-s3<4,>=3.2.0->dvc[s3]) (1.31.64)\r\n",
      "Requirement already satisfied: aiohttp<4.0.0,>=3.7.4.post0 in /opt/anaconda3/lib/python3.11/site-packages (from aiobotocore>=2.5.0->aiobotocore[boto3]>=2.5.0->dvc-s3<4,>=3.2.0->dvc[s3]) (3.9.3)\r\n",
      "Requirement already satisfied: wrapt<2.0.0,>=1.10.10 in /opt/anaconda3/lib/python3.11/site-packages (from aiobotocore>=2.5.0->aiobotocore[boto3]>=2.5.0->dvc-s3<4,>=3.2.0->dvc[s3]) (1.14.1)\r\n",
      "Requirement already satisfied: aioitertools<1.0.0,>=0.5.1 in /opt/anaconda3/lib/python3.11/site-packages (from aiobotocore>=2.5.0->aiobotocore[boto3]>=2.5.0->dvc-s3<4,>=3.2.0->dvc[s3]) (0.7.1)\r\n",
      "Requirement already satisfied: boto3<1.28.65,>=1.28.16 in /opt/anaconda3/lib/python3.11/site-packages (from aiobotocore[boto3]>=2.5.0->dvc-s3<4,>=3.2.0->dvc[s3]) (1.28.64)\r\n",
      "Requirement already satisfied: cryptography>=39.0 in /opt/anaconda3/lib/python3.11/site-packages (from asyncssh<3,>=2.13.1->scmrepo<4,>=3.3.4->dvc[s3]) (42.0.2)\r\n",
      "Requirement already satisfied: typing-extensions>=4.0.0 in /opt/anaconda3/lib/python3.11/site-packages (from asyncssh<3,>=2.13.1->scmrepo<4,>=3.3.4->dvc[s3]) (4.9.0)\r\n"
     ]
    },
    {
     "name": "stdout",
     "output_type": "stream",
     "text": [
      "Requirement already satisfied: prompt-toolkit>=3.0.36 in /opt/anaconda3/lib/python3.11/site-packages (from click-repl>=0.2.0->celery->dvc[s3]) (3.0.43)\r\n"
     ]
    },
    {
     "name": "stdout",
     "output_type": "stream",
     "text": [
      "Requirement already satisfied: gitdb<5,>=4.0.1 in /opt/anaconda3/lib/python3.11/site-packages (from gitpython>3->scmrepo<4,>=3.3.4->dvc[s3]) (4.0.7)\r\n",
      "Requirement already satisfied: mdurl~=0.1 in /opt/anaconda3/lib/python3.11/site-packages (from markdown-it-py<3.0.0,>=2.2.0->rich>=12->dvc[s3]) (0.1.0)\r\n",
      "Requirement already satisfied: cffi>=1.16.0 in /opt/anaconda3/lib/python3.11/site-packages (from pygit2>=1.14.0->scmrepo<4,>=3.3.4->dvc[s3]) (1.16.0)\r\n",
      "Requirement already satisfied: orjson in /opt/anaconda3/lib/python3.11/site-packages (from sqltrie<1,>=0.11.0->dvc-data<3.16,>=3.15->dvc[s3]) (3.10.7)\r\n",
      "Requirement already satisfied: shellingham>=1.3.0 in /opt/anaconda3/lib/python3.11/site-packages (from typer>=0.4.1->gto<2,>=1.6.0->dvc[s3]) (1.5.4)\r\n"
     ]
    },
    {
     "name": "stdout",
     "output_type": "stream",
     "text": [
      "Requirement already satisfied: aiosignal>=1.1.2 in /opt/anaconda3/lib/python3.11/site-packages (from aiohttp<4.0.0,>=3.7.4.post0->aiobotocore>=2.5.0->aiobotocore[boto3]>=2.5.0->dvc-s3<4,>=3.2.0->dvc[s3]) (1.2.0)\r\n",
      "Requirement already satisfied: frozenlist>=1.1.1 in /opt/anaconda3/lib/python3.11/site-packages (from aiohttp<4.0.0,>=3.7.4.post0->aiobotocore>=2.5.0->aiobotocore[boto3]>=2.5.0->dvc-s3<4,>=3.2.0->dvc[s3]) (1.4.0)\r\n",
      "Requirement already satisfied: multidict<7.0,>=4.5 in /opt/anaconda3/lib/python3.11/site-packages (from aiohttp<4.0.0,>=3.7.4.post0->aiobotocore>=2.5.0->aiobotocore[boto3]>=2.5.0->dvc-s3<4,>=3.2.0->dvc[s3]) (6.0.4)\r\n",
      "Requirement already satisfied: yarl<2.0,>=1.0 in /opt/anaconda3/lib/python3.11/site-packages (from aiohttp<4.0.0,>=3.7.4.post0->aiobotocore>=2.5.0->aiobotocore[boto3]>=2.5.0->dvc-s3<4,>=3.2.0->dvc[s3]) (1.9.3)\r\n",
      "Requirement already satisfied: jmespath<2.0.0,>=0.7.1 in /opt/anaconda3/lib/python3.11/site-packages (from boto3<1.28.65,>=1.28.16->aiobotocore[boto3]>=2.5.0->dvc-s3<4,>=3.2.0->dvc[s3]) (1.0.1)\r\n",
      "Requirement already satisfied: s3transfer<0.8.0,>=0.7.0 in /opt/anaconda3/lib/python3.11/site-packages (from boto3<1.28.65,>=1.28.16->aiobotocore[boto3]>=2.5.0->dvc-s3<4,>=3.2.0->dvc[s3]) (0.7.0)\r\n",
      "Requirement already satisfied: pycparser in /opt/anaconda3/lib/python3.11/site-packages (from cffi>=1.16.0->pygit2>=1.14.0->scmrepo<4,>=3.3.4->dvc[s3]) (2.21)\r\n",
      "Requirement already satisfied: smmap<5,>=3.0.1 in /opt/anaconda3/lib/python3.11/site-packages (from gitdb<5,>=4.0.1->gitpython>3->scmrepo<4,>=3.3.4->dvc[s3]) (4.0.0)\r\n",
      "Requirement already satisfied: wcwidth in /opt/anaconda3/lib/python3.11/site-packages (from prompt-toolkit>=3.0.36->click-repl>=0.2.0->celery->dvc[s3]) (0.2.5)\r\n"
     ]
    },
    {
     "name": "stdout",
     "output_type": "stream",
     "text": [
      "Note: you may need to restart the kernel to use updated packages.\n"
     ]
    }
   ],
   "source": [
    "%pip install \"dvc[s3]\""
   ]
  },
  {
   "cell_type": "code",
   "execution_count": 4,
   "id": "5ab2089d",
   "metadata": {
    "execution": {
     "iopub.execute_input": "2024-08-16T14:24:23.438440Z",
     "iopub.status.busy": "2024-08-16T14:24:23.438172Z",
     "iopub.status.idle": "2024-08-16T14:24:25.420367Z",
     "shell.execute_reply": "2024-08-16T14:24:25.419935Z"
    },
    "papermill": {
     "duration": 1.985566,
     "end_time": "2024-08-16T14:24:25.421635",
     "exception": false,
     "start_time": "2024-08-16T14:24:23.436069",
     "status": "completed"
    },
    "tags": []
   },
   "outputs": [
    {
     "name": "stdout",
     "output_type": "stream",
     "text": [
      "Requirement already satisfied: dvc-s3 in /opt/anaconda3/lib/python3.11/site-packages (3.2.0)\r\n",
      "Requirement already satisfied: dvc in /opt/anaconda3/lib/python3.11/site-packages (from dvc-s3) (3.53.2)\r\n",
      "Requirement already satisfied: s3fs>=2023.6.0 in /opt/anaconda3/lib/python3.11/site-packages (from dvc-s3) (2024.6.1)\r\n",
      "Requirement already satisfied: aiobotocore>=2.5.0 in /opt/anaconda3/lib/python3.11/site-packages (from aiobotocore[boto3]>=2.5.0->dvc-s3) (2.7.0)\r\n",
      "Requirement already satisfied: flatten-dict<1,>=0.4.1 in /opt/anaconda3/lib/python3.11/site-packages (from dvc-s3) (0.4.2)\r\n",
      "Requirement already satisfied: botocore<1.31.65,>=1.31.16 in /opt/anaconda3/lib/python3.11/site-packages (from aiobotocore>=2.5.0->aiobotocore[boto3]>=2.5.0->dvc-s3) (1.31.64)\r\n",
      "Requirement already satisfied: aiohttp<4.0.0,>=3.7.4.post0 in /opt/anaconda3/lib/python3.11/site-packages (from aiobotocore>=2.5.0->aiobotocore[boto3]>=2.5.0->dvc-s3) (3.9.3)\r\n",
      "Requirement already satisfied: wrapt<2.0.0,>=1.10.10 in /opt/anaconda3/lib/python3.11/site-packages (from aiobotocore>=2.5.0->aiobotocore[boto3]>=2.5.0->dvc-s3) (1.14.1)\r\n",
      "Requirement already satisfied: aioitertools<1.0.0,>=0.5.1 in /opt/anaconda3/lib/python3.11/site-packages (from aiobotocore>=2.5.0->aiobotocore[boto3]>=2.5.0->dvc-s3) (0.7.1)\r\n",
      "Requirement already satisfied: boto3<1.28.65,>=1.28.16 in /opt/anaconda3/lib/python3.11/site-packages (from aiobotocore[boto3]>=2.5.0->dvc-s3) (1.28.64)\r\n",
      "Requirement already satisfied: six<2.0,>=1.12 in /opt/anaconda3/lib/python3.11/site-packages (from flatten-dict<1,>=0.4.1->dvc-s3) (1.16.0)\r\n",
      "Requirement already satisfied: fsspec==2024.6.1.* in /opt/anaconda3/lib/python3.11/site-packages (from s3fs>=2023.6.0->dvc-s3) (2024.6.1)\r\n"
     ]
    },
    {
     "name": "stdout",
     "output_type": "stream",
     "text": [
      "Requirement already satisfied: attrs>=22.2.0 in /opt/anaconda3/lib/python3.11/site-packages (from dvc->dvc-s3) (23.1.0)\r\n",
      "Requirement already satisfied: celery in /opt/anaconda3/lib/python3.11/site-packages (from dvc->dvc-s3) (5.4.0)\r\n",
      "Requirement already satisfied: colorama>=0.3.9 in /opt/anaconda3/lib/python3.11/site-packages (from dvc->dvc-s3) (0.4.6)\r\n",
      "Requirement already satisfied: configobj>=5.0.6 in /opt/anaconda3/lib/python3.11/site-packages (from dvc->dvc-s3) (5.0.8)\r\n",
      "Requirement already satisfied: distro>=1.3 in /opt/anaconda3/lib/python3.11/site-packages (from dvc->dvc-s3) (1.8.0)\r\n",
      "Requirement already satisfied: dpath<3,>=2.1.0 in /opt/anaconda3/lib/python3.11/site-packages (from dvc->dvc-s3) (2.2.0)\r\n",
      "Requirement already satisfied: dulwich in /opt/anaconda3/lib/python3.11/site-packages (from dvc->dvc-s3) (0.22.1)\r\n",
      "Requirement already satisfied: dvc-data<3.16,>=3.15 in /opt/anaconda3/lib/python3.11/site-packages (from dvc->dvc-s3) (3.15.2)\r\n",
      "Requirement already satisfied: dvc-http>=2.29.0 in /opt/anaconda3/lib/python3.11/site-packages (from dvc->dvc-s3) (2.32.0)\r\n",
      "Requirement already satisfied: dvc-objects in /opt/anaconda3/lib/python3.11/site-packages (from dvc->dvc-s3) (5.1.0)\r\n",
      "Requirement already satisfied: dvc-render<2,>=1.0.1 in /opt/anaconda3/lib/python3.11/site-packages (from dvc->dvc-s3) (1.0.2)\r\n",
      "Requirement already satisfied: dvc-studio-client<1,>=0.21 in /opt/anaconda3/lib/python3.11/site-packages (from dvc->dvc-s3) (0.21.0)\r\n",
      "Requirement already satisfied: dvc-task<1,>=0.3.0 in /opt/anaconda3/lib/python3.11/site-packages (from dvc->dvc-s3) (0.4.0)\r\n",
      "Requirement already satisfied: flufl.lock<9,>=8.1.0 in /opt/anaconda3/lib/python3.11/site-packages (from dvc->dvc-s3) (8.1.0)\r\n",
      "Requirement already satisfied: funcy>=1.14 in /opt/anaconda3/lib/python3.11/site-packages (from dvc->dvc-s3) (2.0)\r\n",
      "Requirement already satisfied: grandalf<1,>=0.7 in /opt/anaconda3/lib/python3.11/site-packages (from dvc->dvc-s3) (0.8)\r\n",
      "Requirement already satisfied: gto<2,>=1.6.0 in /opt/anaconda3/lib/python3.11/site-packages (from dvc->dvc-s3) (1.7.1)\r\n",
      "Requirement already satisfied: hydra-core>=1.1 in /opt/anaconda3/lib/python3.11/site-packages (from dvc->dvc-s3) (1.3.2)\r\n",
      "Requirement already satisfied: iterative-telemetry>=0.0.7 in /opt/anaconda3/lib/python3.11/site-packages (from dvc->dvc-s3) (0.0.8)\r\n",
      "Requirement already satisfied: kombu in /opt/anaconda3/lib/python3.11/site-packages (from dvc->dvc-s3) (5.4.0)\r\n",
      "Requirement already satisfied: networkx>=2.5 in /opt/anaconda3/lib/python3.11/site-packages (from dvc->dvc-s3) (3.1)\r\n",
      "Requirement already satisfied: omegaconf in /opt/anaconda3/lib/python3.11/site-packages (from dvc->dvc-s3) (2.3.0)\r\n",
      "Requirement already satisfied: packaging>=19 in /opt/anaconda3/lib/python3.11/site-packages (from dvc->dvc-s3) (23.1)\r\n",
      "Requirement already satisfied: pathspec>=0.10.3 in /opt/anaconda3/lib/python3.11/site-packages (from dvc->dvc-s3) (0.10.3)\r\n",
      "Requirement already satisfied: platformdirs<4,>=3.1.1 in /opt/anaconda3/lib/python3.11/site-packages (from dvc->dvc-s3) (3.10.0)\r\n",
      "Requirement already satisfied: psutil>=5.8 in /opt/anaconda3/lib/python3.11/site-packages (from dvc->dvc-s3) (5.9.0)\r\n",
      "Requirement already satisfied: pydot>=1.2.4 in /opt/anaconda3/lib/python3.11/site-packages (from dvc->dvc-s3) (3.0.1)\r\n",
      "Requirement already satisfied: pygtrie>=2.3.2 in /opt/anaconda3/lib/python3.11/site-packages (from dvc->dvc-s3) (2.5.0)\r\n",
      "Requirement already satisfied: pyparsing>=2.4.7 in /opt/anaconda3/lib/python3.11/site-packages (from dvc->dvc-s3) (3.0.9)\r\n",
      "Requirement already satisfied: requests>=2.22 in /opt/anaconda3/lib/python3.11/site-packages (from dvc->dvc-s3) (2.31.0)\r\n",
      "Requirement already satisfied: rich>=12 in /opt/anaconda3/lib/python3.11/site-packages (from dvc->dvc-s3) (13.3.5)\r\n",
      "Requirement already satisfied: ruamel.yaml>=0.17.11 in /opt/anaconda3/lib/python3.11/site-packages (from dvc->dvc-s3) (0.17.21)\r\n",
      "Requirement already satisfied: scmrepo<4,>=3.3.4 in /opt/anaconda3/lib/python3.11/site-packages (from dvc->dvc-s3) (3.3.7)\r\n",
      "Requirement already satisfied: shortuuid>=0.5 in /opt/anaconda3/lib/python3.11/site-packages (from dvc->dvc-s3) (1.0.13)\r\n",
      "Requirement already satisfied: shtab<2,>=1.3.4 in /opt/anaconda3/lib/python3.11/site-packages (from dvc->dvc-s3) (1.7.1)\r\n",
      "Requirement already satisfied: tabulate>=0.8.7 in /opt/anaconda3/lib/python3.11/site-packages (from dvc->dvc-s3) (0.9.0)\r\n",
      "Requirement already satisfied: tomlkit>=0.11.1 in /opt/anaconda3/lib/python3.11/site-packages (from dvc->dvc-s3) (0.11.1)\r\n",
      "Requirement already satisfied: tqdm<5,>=4.63.1 in /opt/anaconda3/lib/python3.11/site-packages (from dvc->dvc-s3) (4.65.0)\r\n",
      "Requirement already satisfied: voluptuous>=0.11.7 in /opt/anaconda3/lib/python3.11/site-packages (from dvc->dvc-s3) (0.15.2)\r\n",
      "Requirement already satisfied: zc.lockfile>=1.2.1 in /opt/anaconda3/lib/python3.11/site-packages (from dvc->dvc-s3) (3.0.post1)\r\n",
      "Requirement already satisfied: aiosignal>=1.1.2 in /opt/anaconda3/lib/python3.11/site-packages (from aiohttp<4.0.0,>=3.7.4.post0->aiobotocore>=2.5.0->aiobotocore[boto3]>=2.5.0->dvc-s3) (1.2.0)\r\n",
      "Requirement already satisfied: frozenlist>=1.1.1 in /opt/anaconda3/lib/python3.11/site-packages (from aiohttp<4.0.0,>=3.7.4.post0->aiobotocore>=2.5.0->aiobotocore[boto3]>=2.5.0->dvc-s3) (1.4.0)\r\n",
      "Requirement already satisfied: multidict<7.0,>=4.5 in /opt/anaconda3/lib/python3.11/site-packages (from aiohttp<4.0.0,>=3.7.4.post0->aiobotocore>=2.5.0->aiobotocore[boto3]>=2.5.0->dvc-s3) (6.0.4)\r\n",
      "Requirement already satisfied: yarl<2.0,>=1.0 in /opt/anaconda3/lib/python3.11/site-packages (from aiohttp<4.0.0,>=3.7.4.post0->aiobotocore>=2.5.0->aiobotocore[boto3]>=2.5.0->dvc-s3) (1.9.3)\r\n",
      "Requirement already satisfied: typing_extensions>=3.7 in /opt/anaconda3/lib/python3.11/site-packages (from aioitertools<1.0.0,>=0.5.1->aiobotocore>=2.5.0->aiobotocore[boto3]>=2.5.0->dvc-s3) (4.9.0)\r\n",
      "Requirement already satisfied: jmespath<2.0.0,>=0.7.1 in /opt/anaconda3/lib/python3.11/site-packages (from boto3<1.28.65,>=1.28.16->aiobotocore[boto3]>=2.5.0->dvc-s3) (1.0.1)\r\n",
      "Requirement already satisfied: s3transfer<0.8.0,>=0.7.0 in /opt/anaconda3/lib/python3.11/site-packages (from boto3<1.28.65,>=1.28.16->aiobotocore[boto3]>=2.5.0->dvc-s3) (0.7.0)\r\n",
      "Requirement already satisfied: python-dateutil<3.0.0,>=2.1 in /opt/anaconda3/lib/python3.11/site-packages (from botocore<1.31.65,>=1.31.16->aiobotocore>=2.5.0->aiobotocore[boto3]>=2.5.0->dvc-s3) (2.8.2)\r\n",
      "Requirement already satisfied: urllib3<2.1,>=1.25.4 in /opt/anaconda3/lib/python3.11/site-packages (from botocore<1.31.65,>=1.31.16->aiobotocore>=2.5.0->aiobotocore[boto3]>=2.5.0->dvc-s3) (2.0.7)\r\n"
     ]
    },
    {
     "name": "stdout",
     "output_type": "stream",
     "text": [
      "Requirement already satisfied: dictdiffer>=0.8.1 in /opt/anaconda3/lib/python3.11/site-packages (from dvc-data<3.16,>=3.15->dvc->dvc-s3) (0.9.0)\r\n",
      "Requirement already satisfied: diskcache>=5.2.1 in /opt/anaconda3/lib/python3.11/site-packages (from dvc-data<3.16,>=3.15->dvc->dvc-s3) (5.6.3)\r\n",
      "Requirement already satisfied: sqltrie<1,>=0.11.0 in /opt/anaconda3/lib/python3.11/site-packages (from dvc-data<3.16,>=3.15->dvc->dvc-s3) (0.11.1)\r\n",
      "Requirement already satisfied: aiohttp-retry>=2.5.0 in /opt/anaconda3/lib/python3.11/site-packages (from dvc-http>=2.29.0->dvc->dvc-s3) (2.8.3)\r\n",
      "Requirement already satisfied: billiard<5.0,>=4.2.0 in /opt/anaconda3/lib/python3.11/site-packages (from celery->dvc->dvc-s3) (4.2.0)\r\n",
      "Requirement already satisfied: vine<6.0,>=5.1.0 in /opt/anaconda3/lib/python3.11/site-packages (from celery->dvc->dvc-s3) (5.1.0)\r\n",
      "Requirement already satisfied: click<9.0,>=8.1.2 in /opt/anaconda3/lib/python3.11/site-packages (from celery->dvc->dvc-s3) (8.1.7)\r\n",
      "Requirement already satisfied: click-didyoumean>=0.3.0 in /opt/anaconda3/lib/python3.11/site-packages (from celery->dvc->dvc-s3) (0.3.1)\r\n",
      "Requirement already satisfied: click-repl>=0.2.0 in /opt/anaconda3/lib/python3.11/site-packages (from celery->dvc->dvc-s3) (0.3.0)\r\n",
      "Requirement already satisfied: click-plugins>=1.1.1 in /opt/anaconda3/lib/python3.11/site-packages (from celery->dvc->dvc-s3) (1.1.1)\r\n",
      "Requirement already satisfied: tzdata>=2022.7 in /opt/anaconda3/lib/python3.11/site-packages (from celery->dvc->dvc-s3) (2023.3)\r\n",
      "Requirement already satisfied: atpublic in /opt/anaconda3/lib/python3.11/site-packages (from flufl.lock<9,>=8.1.0->dvc->dvc-s3) (5.0)\r\n"
     ]
    },
    {
     "name": "stdout",
     "output_type": "stream",
     "text": [
      "Requirement already satisfied: typer>=0.4.1 in /opt/anaconda3/lib/python3.11/site-packages (from gto<2,>=1.6.0->dvc->dvc-s3) (0.12.3)\r\n",
      "Requirement already satisfied: pydantic!=2.0.0,<3,>=1.9.0 in /opt/anaconda3/lib/python3.11/site-packages (from gto<2,>=1.6.0->dvc->dvc-s3) (1.10.12)\r\n",
      "Requirement already satisfied: semver>=2.13.0 in /opt/anaconda3/lib/python3.11/site-packages (from gto<2,>=1.6.0->dvc->dvc-s3) (2.13.0)\r\n",
      "Requirement already satisfied: entrypoints in /opt/anaconda3/lib/python3.11/site-packages (from gto<2,>=1.6.0->dvc->dvc-s3) (0.4)\r\n",
      "Requirement already satisfied: antlr4-python3-runtime==4.9.* in /opt/anaconda3/lib/python3.11/site-packages (from hydra-core>=1.1->dvc->dvc-s3) (4.9.3)\r\n",
      "Requirement already satisfied: appdirs in /opt/anaconda3/lib/python3.11/site-packages (from iterative-telemetry>=0.0.7->dvc->dvc-s3) (1.4.4)\r\n",
      "Requirement already satisfied: filelock in /opt/anaconda3/lib/python3.11/site-packages (from iterative-telemetry>=0.0.7->dvc->dvc-s3) (3.13.1)\r\n",
      "Requirement already satisfied: amqp<6.0.0,>=5.1.1 in /opt/anaconda3/lib/python3.11/site-packages (from kombu->dvc->dvc-s3) (5.2.0)\r\n",
      "Requirement already satisfied: PyYAML>=5.1.0 in /opt/anaconda3/lib/python3.11/site-packages (from omegaconf->dvc->dvc-s3) (6.0.1)\r\n"
     ]
    },
    {
     "name": "stdout",
     "output_type": "stream",
     "text": [
      "Requirement already satisfied: charset-normalizer<4,>=2 in /opt/anaconda3/lib/python3.11/site-packages (from requests>=2.22->dvc->dvc-s3) (2.0.4)\r\n",
      "Requirement already satisfied: idna<4,>=2.5 in /opt/anaconda3/lib/python3.11/site-packages (from requests>=2.22->dvc->dvc-s3) (3.4)\r\n",
      "Requirement already satisfied: certifi>=2017.4.17 in /opt/anaconda3/lib/python3.11/site-packages (from requests>=2.22->dvc->dvc-s3) (2024.6.2)\r\n",
      "Requirement already satisfied: markdown-it-py<3.0.0,>=2.2.0 in /opt/anaconda3/lib/python3.11/site-packages (from rich>=12->dvc->dvc-s3) (2.2.0)\r\n",
      "Requirement already satisfied: pygments<3.0.0,>=2.13.0 in /opt/anaconda3/lib/python3.11/site-packages (from rich>=12->dvc->dvc-s3) (2.15.1)\r\n",
      "Requirement already satisfied: gitpython>3 in /opt/anaconda3/lib/python3.11/site-packages (from scmrepo<4,>=3.3.4->dvc->dvc-s3) (3.1.37)\r\n",
      "Requirement already satisfied: pygit2>=1.14.0 in /opt/anaconda3/lib/python3.11/site-packages (from scmrepo<4,>=3.3.4->dvc->dvc-s3) (1.15.1)\r\n",
      "Requirement already satisfied: asyncssh<3,>=2.13.1 in /opt/anaconda3/lib/python3.11/site-packages (from scmrepo<4,>=3.3.4->dvc->dvc-s3) (2.15.0)\r\n",
      "Requirement already satisfied: setuptools in /opt/anaconda3/lib/python3.11/site-packages (from zc.lockfile>=1.2.1->dvc->dvc-s3) (68.2.2)\r\n"
     ]
    },
    {
     "name": "stdout",
     "output_type": "stream",
     "text": [
      "Requirement already satisfied: cryptography>=39.0 in /opt/anaconda3/lib/python3.11/site-packages (from asyncssh<3,>=2.13.1->scmrepo<4,>=3.3.4->dvc->dvc-s3) (42.0.2)\r\n",
      "Requirement already satisfied: prompt-toolkit>=3.0.36 in /opt/anaconda3/lib/python3.11/site-packages (from click-repl>=0.2.0->celery->dvc->dvc-s3) (3.0.43)\r\n"
     ]
    },
    {
     "name": "stdout",
     "output_type": "stream",
     "text": [
      "Requirement already satisfied: gitdb<5,>=4.0.1 in /opt/anaconda3/lib/python3.11/site-packages (from gitpython>3->scmrepo<4,>=3.3.4->dvc->dvc-s3) (4.0.7)\r\n",
      "Requirement already satisfied: mdurl~=0.1 in /opt/anaconda3/lib/python3.11/site-packages (from markdown-it-py<3.0.0,>=2.2.0->rich>=12->dvc->dvc-s3) (0.1.0)\r\n",
      "Requirement already satisfied: cffi>=1.16.0 in /opt/anaconda3/lib/python3.11/site-packages (from pygit2>=1.14.0->scmrepo<4,>=3.3.4->dvc->dvc-s3) (1.16.0)\r\n"
     ]
    },
    {
     "name": "stdout",
     "output_type": "stream",
     "text": [
      "Requirement already satisfied: orjson in /opt/anaconda3/lib/python3.11/site-packages (from sqltrie<1,>=0.11.0->dvc-data<3.16,>=3.15->dvc->dvc-s3) (3.10.7)\r\n",
      "Requirement already satisfied: shellingham>=1.3.0 in /opt/anaconda3/lib/python3.11/site-packages (from typer>=0.4.1->gto<2,>=1.6.0->dvc->dvc-s3) (1.5.4)\r\n"
     ]
    },
    {
     "name": "stdout",
     "output_type": "stream",
     "text": [
      "Requirement already satisfied: pycparser in /opt/anaconda3/lib/python3.11/site-packages (from cffi>=1.16.0->pygit2>=1.14.0->scmrepo<4,>=3.3.4->dvc->dvc-s3) (2.21)\r\n",
      "Requirement already satisfied: smmap<5,>=3.0.1 in /opt/anaconda3/lib/python3.11/site-packages (from gitdb<5,>=4.0.1->gitpython>3->scmrepo<4,>=3.3.4->dvc->dvc-s3) (4.0.0)\r\n",
      "Requirement already satisfied: wcwidth in /opt/anaconda3/lib/python3.11/site-packages (from prompt-toolkit>=3.0.36->click-repl>=0.2.0->celery->dvc->dvc-s3) (0.2.5)\r\n"
     ]
    },
    {
     "name": "stdout",
     "output_type": "stream",
     "text": [
      "Note: you may need to restart the kernel to use updated packages.\n"
     ]
    }
   ],
   "source": [
    "%pip install dvc-s3"
   ]
  },
  {
   "cell_type": "code",
   "execution_count": 5,
   "id": "47c47439",
   "metadata": {
    "execution": {
     "iopub.execute_input": "2024-08-16T14:24:25.426532Z",
     "iopub.status.busy": "2024-08-16T14:24:25.426268Z",
     "iopub.status.idle": "2024-08-16T14:24:28.141919Z",
     "shell.execute_reply": "2024-08-16T14:24:28.141614Z"
    },
    "papermill": {
     "duration": 2.719066,
     "end_time": "2024-08-16T14:24:28.142945",
     "exception": false,
     "start_time": "2024-08-16T14:24:25.423879",
     "status": "completed"
    },
    "tags": []
   },
   "outputs": [
    {
     "name": "stdout",
     "output_type": "stream",
     "text": [
      "Active run_id: abd0716a10c04af4945dbfea71889392"
     ]
    },
    {
     "name": "stdout",
     "output_type": "stream",
     "text": [
      "\n"
     ]
    },
    {
     "name": "stderr",
     "output_type": "stream",
     "text": [
      "/opt/anaconda3/lib/python3.11/site-packages/_distutils_hack/__init__.py:33: UserWarning: Setuptools is replacing distutils.\n",
      "  warnings.warn(\"Setuptools is replacing distutils.\")\n"
     ]
    },
    {
     "name": "stderr",
     "output_type": "stream",
     "text": [
      "2024/08/16 17:24:28 WARNING mlflow.models.model: Input example should be provided to infer model signature if the model signature is not provided when logging the model.\n"
     ]
    },
    {
     "name": "stderr",
     "output_type": "stream",
     "text": [
      "2024/08/16 17:24:28 INFO mlflow.tracking._tracking_service.client: 🏃 View run merciful-flea-805 at: http://127.0.0.1:5000/#/experiments/0/runs/abd0716a10c04af4945dbfea71889392.\n"
     ]
    },
    {
     "name": "stderr",
     "output_type": "stream",
     "text": [
      "2024/08/16 17:24:28 INFO mlflow.tracking._tracking_service.client: 🧪 View experiment at: http://127.0.0.1:5000/#/experiments/0.\n"
     ]
    }
   ],
   "source": [
    "import os\n",
    "import pandas as pd\n",
    "import numpy as np\n",
    "from sklearn.model_selection import train_test_split\n",
    "from sklearn.metrics import mean_squared_error\n",
    "from sklearn.linear_model import LinearRegression\n",
    "from dotenv import load_dotenv\n",
    "from yaml import load, Loader\n",
    "import yaml\n",
    "from pathlib import Path\n",
    "import dvc.api\n",
    "import mlflow\n",
    "\n",
    "load_dotenv()\n",
    "\n",
    "MODEL_1_LOAD_DATA_PATH=os.environ.get(\"MODEL_1_LOAD_DATA_PATH\")\n",
    "MODEL_1_TRANSFORM_DATA_PATH=os.environ.get(\"MODEL_1_TRANSFORM_DATA_PATH\")\n",
    "MODEL_1_TRAIN_DATA_PATH=os.environ.get(\"MODEL_1_TRAIN_DATA_PATH\")\n",
    "MODEL_1_MODEL_DATA_PATH=os.environ.get(\"MODEL_1_MODEL_DATA_PATH\")\n",
    "MODEL_1_TRAIN_CONFIG_PATH=os.environ.get(\"MODEL_1_TRAIN_CONFIG_PATH\")\n",
    "MODEL_1_SAVED_PARAMS = os.environ.get(\"MODEL_1_SAVED_PARAMS\")\n",
    "MODEL_1_TRAIN_FILE_DATA_PATH = os.environ.get(\"MODEL_1_TRAIN_FILE_DATA_PATH\")\n",
    "\n",
    "MLFLOW_ENDPOINT_URL = os.environ.get(\"MLFLOW_ENDPOINT_URL\")\n",
    "\n",
    "\n",
    "mlflow.set_tracking_uri(MLFLOW_ENDPOINT_URL)\n",
    "\n",
    "with mlflow.start_run():\n",
    "\n",
    "    run = mlflow.active_run()\n",
    "    print(\"Active run_id: {}\".format(run.info.run_id))\n",
    "\n",
    "    with open(MODEL_1_TRAIN_CONFIG_PATH, \"r\") as conf:\n",
    "        train_config = load(conf, Loader=Loader)[\"train_config\"]\n",
    "\n",
    "    dataset = pd.read_csv(str(Path(MODEL_1_TRANSFORM_DATA_PATH) / 'prepared_data.csv' ))\n",
    "    target = pd.read_csv(str(Path(MODEL_1_LOAD_DATA_PATH) / \"target.csv\" ))  #Fix this later\n",
    "\n",
    "    train_index, validation_index = train_test_split(dataset.index, \n",
    "                                                     test_size=train_config[\"validation_size\"])\n",
    "\n",
    "    train_index, test_index = train_test_split(train_index, \n",
    "                                                   test_size=train_config[\"test_size\"])\n",
    "\n",
    "    model = LinearRegression()\n",
    "    model.fit(dataset.loc[train_index], target.loc[train_index])\n",
    "\n",
    "    train_mse = mean_squared_error(target.loc[test_index], \n",
    "                                   model.predict(dataset.loc[test_index]))\n",
    "\n",
    "    test_mse = mean_squared_error(target.loc[train_index], \n",
    "                                  model.predict(dataset.loc[train_index]))\n",
    "\n",
    "    validation_mse = mean_squared_error(target.loc[validation_index], \n",
    "                                        model.predict(dataset.loc[validation_index]))\n",
    "    \n",
    "\n",
    "    mlflow.log_param(\"run_id\", run.info.run_id)\n",
    "    mlflow.log_param(\"data_path\", str(dvc.api.get_url(path=MODEL_1_TRAIN_FILE_DATA_PATH)))\n",
    "\n",
    "    mlflow.log_metric(\"train_mse\", train_mse)\n",
    "    mlflow.log_metric(\"test_mse\", test_mse)\n",
    "    mlflow.log_metric(\"validation_mse\", validation_mse)\n",
    "    \n",
    "    mlflow.sklearn.log_model(model, \"model\")\n",
    "\n",
    "    params = {\n",
    "        'run_id': run.info.run_id\n",
    "    }\n",
    "    \n",
    "    with open(MODEL_1_SAVED_PARAMS, 'w') as pfile:\n",
    "        yaml.dump(params, pfile, default_flow_style=False)\n"
   ]
  }
 ],
 "metadata": {
  "language_info": {
   "codemirror_mode": {
    "name": "ipython",
    "version": 3
   },
   "file_extension": ".py",
   "mimetype": "text/x-python",
   "name": "python",
   "nbconvert_exporter": "python",
   "pygments_lexer": "ipython3",
   "version": "3.11.7"
  },
  "papermill": {
   "default_parameters": {},
   "duration": 11.532849,
   "end_time": "2024-08-16T14:24:28.664551",
   "environment_variables": {},
   "exception": null,
   "input_path": "src/model_1/train/train.ipynb",
   "output_path": "src/model_1/train/train_out.ipynb",
   "parameters": {},
   "start_time": "2024-08-16T14:24:17.131702",
   "version": "2.6.0"
  }
 },
 "nbformat": 4,
 "nbformat_minor": 5
}