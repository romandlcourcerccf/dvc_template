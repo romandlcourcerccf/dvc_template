{
 "cells": [
  {
   "cell_type": "code",
   "execution_count": 1,
   "id": "6f817e61",
   "metadata": {
    "execution": {
     "iopub.execute_input": "2024-08-23T06:51:02.705429Z",
     "iopub.status.busy": "2024-08-23T06:51:02.704448Z",
     "iopub.status.idle": "2024-08-23T06:51:02.708406Z",
     "shell.execute_reply": "2024-08-23T06:51:02.707992Z"
    },
    "papermill": {
     "duration": 0.008617,
     "end_time": "2024-08-23T06:51:02.709694",
     "exception": false,
     "start_time": "2024-08-23T06:51:02.701077",
     "status": "completed"
    },
    "tags": []
   },
   "outputs": [],
   "source": [
    "# %pip install mlflow"
   ]
  },
  {
   "cell_type": "code",
   "execution_count": 2,
   "id": "c5bcebfa",
   "metadata": {
    "execution": {
     "iopub.execute_input": "2024-08-23T06:51:02.712680Z",
     "iopub.status.busy": "2024-08-23T06:51:02.712500Z",
     "iopub.status.idle": "2024-08-23T06:51:02.714529Z",
     "shell.execute_reply": "2024-08-23T06:51:02.714225Z"
    },
    "papermill": {
     "duration": 0.004611,
     "end_time": "2024-08-23T06:51:02.715580",
     "exception": false,
     "start_time": "2024-08-23T06:51:02.710969",
     "status": "completed"
    },
    "tags": []
   },
   "outputs": [],
   "source": [
    "# %pip install boto3"
   ]
  },
  {
   "cell_type": "code",
   "execution_count": 3,
   "id": "a6951091",
   "metadata": {
    "execution": {
     "iopub.execute_input": "2024-08-23T06:51:02.718071Z",
     "iopub.status.busy": "2024-08-23T06:51:02.717956Z",
     "iopub.status.idle": "2024-08-23T06:51:02.720116Z",
     "shell.execute_reply": "2024-08-23T06:51:02.719790Z"
    },
    "papermill": {
     "duration": 0.004448,
     "end_time": "2024-08-23T06:51:02.721071",
     "exception": false,
     "start_time": "2024-08-23T06:51:02.716623",
     "status": "completed"
    },
    "tags": []
   },
   "outputs": [],
   "source": [
    "# %pip install \"dvc[s3]\""
   ]
  },
  {
   "cell_type": "code",
   "execution_count": 4,
   "id": "1ed82c90",
   "metadata": {
    "execution": {
     "iopub.execute_input": "2024-08-23T06:51:02.723307Z",
     "iopub.status.busy": "2024-08-23T06:51:02.723195Z",
     "iopub.status.idle": "2024-08-23T06:51:02.724876Z",
     "shell.execute_reply": "2024-08-23T06:51:02.724602Z"
    },
    "papermill": {
     "duration": 0.003872,
     "end_time": "2024-08-23T06:51:02.725882",
     "exception": false,
     "start_time": "2024-08-23T06:51:02.722010",
     "status": "completed"
    },
    "tags": []
   },
   "outputs": [],
   "source": [
    "# %pip install dvc-s3"
   ]
  },
  {
   "cell_type": "code",
   "execution_count": 5,
   "id": "3c90c571",
   "metadata": {
    "execution": {
     "iopub.execute_input": "2024-08-23T06:51:02.728145Z",
     "iopub.status.busy": "2024-08-23T06:51:02.728046Z",
     "iopub.status.idle": "2024-08-23T06:51:02.729566Z",
     "shell.execute_reply": "2024-08-23T06:51:02.729339Z"
    },
    "papermill": {
     "duration": 0.003645,
     "end_time": "2024-08-23T06:51:02.730476",
     "exception": false,
     "start_time": "2024-08-23T06:51:02.726831",
     "status": "completed"
    },
    "tags": []
   },
   "outputs": [],
   "source": [
    "# %pip install catboost"
   ]
  },
  {
   "cell_type": "code",
   "execution_count": 6,
   "id": "5b47f36c",
   "metadata": {
    "execution": {
     "iopub.execute_input": "2024-08-23T06:51:02.732552Z",
     "iopub.status.busy": "2024-08-23T06:51:02.732429Z",
     "iopub.status.idle": "2024-08-23T06:51:09.974942Z",
     "shell.execute_reply": "2024-08-23T06:51:09.974656Z"
    },
    "papermill": {
     "duration": 7.244491,
     "end_time": "2024-08-23T06:51:09.975767",
     "exception": false,
     "start_time": "2024-08-23T06:51:02.731276",
     "status": "completed"
    },
    "tags": []
   },
   "outputs": [
    {
     "name": "stdout",
     "output_type": "stream",
     "text": [
      "Active run_id: 079558fb3a414e4cba046f132eebaf4d"
     ]
    },
    {
     "name": "stdout",
     "output_type": "stream",
     "text": [
      "\n"
     ]
    },
    {
     "name": "stderr",
     "output_type": "stream",
     "text": [
      "2024/08/23 09:51:09 WARNING mlflow.models.model: Input example should be provided to infer model signature if the model signature is not provided when logging the model.\n"
     ]
    },
    {
     "name": "stderr",
     "output_type": "stream",
     "text": [
      "2024/08/23 09:51:09 INFO mlflow.tracking._tracking_service.client: 🏃 View run agreeable-skink-955 at: http://127.0.0.1:5000/#/experiments/0/runs/079558fb3a414e4cba046f132eebaf4d.\n"
     ]
    },
    {
     "name": "stderr",
     "output_type": "stream",
     "text": [
      "2024/08/23 09:51:09 INFO mlflow.tracking._tracking_service.client: 🧪 View experiment at: http://127.0.0.1:5000/#/experiments/0.\n"
     ]
    }
   ],
   "source": [
    "import os\n",
    "import pandas as pd\n",
    "import numpy as np\n",
    "from sklearn.metrics import mean_absolute_error, mean_squared_error\n",
    "from sklearn.linear_model import LinearRegression\n",
    "from dotenv import load_dotenv\n",
    "from yaml import load, Loader\n",
    "import yaml\n",
    "from pathlib import Path\n",
    "import dvc.api\n",
    "import mlflow\n",
    "import json\n",
    "import pyarrow as pa\n",
    "import pyarrow.parquet as pq\n",
    "import pandas as pd\n",
    "\n",
    "from catboost import CatBoostRegressor\n",
    "\n",
    "# import shap\n",
    "# shap.initjs()\n",
    "\n",
    "# import matplotlib.pyplot as plt\n",
    "\n",
    "\n",
    "load_dotenv()\n",
    "\n",
    "SAVED_PARAMS  =  os.environ.get('MODEL_1_SAVED_PARAMS')\n",
    "\n",
    "TRANSFORM_DATA_PATH = os.environ.get('MODEL_1_TRANSFORM_DATA_PATH')\n",
    "\n",
    "X_TRAIN_FILE = os.environ.get('MODEL_1_TRANSFORM_DATA_FILE_TRAIN_X')\n",
    "Y_TRAIN_FILE =  os.environ.get('MODEL_1_TRANSFORM_DATA_FILE_TRAIN_Y')\n",
    "X_TEST_FILE = os.environ.get('MODEL_1_TRANSFORM_DATA_FILE_TEST_X')\n",
    "Y_TEST_FILE =  os.environ.get('MODEL_1_TRANSFORM_DATA_FILE_TEST_Y')\n",
    "\n",
    "MLFLOW_ENDPOINT_URL = os.environ.get(\"MLFLOW_ENDPOINT_URL\")\n",
    "MODEL_1_TRAIN_CONFIG_PATH=os.environ.get(\"MODEL_1_TRAIN_CONFIG_PATH\")\n",
    "MODEL_1_MODEL_METRICS = os.environ.get(\"MODEL_1_MODEL_METRICS\")\n",
    "\n",
    "X_TRAIN_DATA = str(Path(TRANSFORM_DATA_PATH) / X_TRAIN_FILE)\n",
    "X_train = pq.read_table(X_TRAIN_DATA).to_pandas()\n",
    "\n",
    "Y_TRAIN_DATA = str(Path(TRANSFORM_DATA_PATH) / Y_TRAIN_FILE)\n",
    "y_train = pq.read_table(Y_TRAIN_DATA).to_pandas()\n",
    "\n",
    "\n",
    "X_TEST_DATA = str(Path(TRANSFORM_DATA_PATH) / X_TEST_FILE)\n",
    "X_test = pq.read_table(X_TEST_DATA).to_pandas()\n",
    "\n",
    "Y_TEST_DATA = str(Path(TRANSFORM_DATA_PATH) / Y_TEST_FILE)\n",
    "y_test = pq.read_table(Y_TEST_DATA).to_pandas()\n",
    "\n",
    "mlflow.set_tracking_uri(MLFLOW_ENDPOINT_URL)\n",
    "\n",
    "with mlflow.start_run():\n",
    "\n",
    "    run = mlflow.active_run()\n",
    "    run_id = run.info.run_id\n",
    "\n",
    "    print(f\"Active run_id: {run_id}\")\n",
    "\n",
    "    with open(MODEL_1_TRAIN_CONFIG_PATH, \"r\") as conf:\n",
    "        train_config = load(conf, Loader=Loader)[\"train_config\"]\n",
    "    \n",
    "    model = CatBoostRegressor(iterations=train_config['iterations'],\n",
    "                               learning_rate=train_config['learning_rate'],\n",
    "                                depth=train_config['depth'],\n",
    "                                verbose=train_config['verbose'])\n",
    "\n",
    "    model.fit(X_train, y_train)\n",
    "\n",
    "    y_pred = model.predict(X_test)\n",
    "\n",
    "    mae = mean_absolute_error(y_test, y_pred)\n",
    "    mse = mean_squared_error(y_test, y_pred)\n",
    "\n",
    "    mlflow.log_metric(\"mae\", mae)\n",
    "    mlflow.log_metric(\"mse\", mse)\n",
    "\n",
    "    with open(MODEL_1_MODEL_METRICS, 'w') as pfile:\n",
    "        json.dump({'mae':mae, 'mse':mse}, pfile)\n",
    "        \n",
    "    mlflow.catboost.log_model(model, \"model\")\n",
    "    \n",
    "    mlflow.log_param(\"X_train\", str(dvc.api.get_url(path=str(Path(TRANSFORM_DATA_PATH) / X_TRAIN_FILE))))\n",
    "    mlflow.log_param(\"y_train\", str(dvc.api.get_url(path=str(Path(TRANSFORM_DATA_PATH) / Y_TRAIN_FILE) )))\n",
    "    mlflow.log_param(\"X_test\", str(dvc.api.get_url(path=str(Path(TRANSFORM_DATA_PATH) / X_TEST_FILE))))\n",
    "    mlflow.log_param(\"y_test\", str(dvc.api.get_url(path=str(Path(TRANSFORM_DATA_PATH) / Y_TEST_FILE))))\n",
    " \n",
    "    \n",
    "    with open(SAVED_PARAMS, 'w') as pfile:\n",
    "        json.dump({'run_id': run_id}, pfile)\n",
    "\n"
   ]
  },
  {
   "cell_type": "code",
   "execution_count": 7,
   "id": "c23443b8",
   "metadata": {
    "execution": {
     "iopub.execute_input": "2024-08-23T06:51:09.978107Z",
     "iopub.status.busy": "2024-08-23T06:51:09.978000Z",
     "iopub.status.idle": "2024-08-23T06:51:09.979469Z",
     "shell.execute_reply": "2024-08-23T06:51:09.979256Z"
    },
    "papermill": {
     "duration": 0.003333,
     "end_time": "2024-08-23T06:51:09.980216",
     "exception": false,
     "start_time": "2024-08-23T06:51:09.976883",
     "status": "completed"
    },
    "tags": []
   },
   "outputs": [],
   "source": [
    "# explainer = shap.TreeExplainer(model)\n",
    "# shap_values = explainer(X_train)\n",
    "# plt.show()\n",
    "# shap.plots.beeswarm(shap_values)\n",
    "# plt.close()\n",
    "# plt.savefig('shap_values.png')\n",
    "\n",
    "# mlflow.log_artifact('shap_values.png')"
   ]
  }
 ],
 "metadata": {
  "language_info": {
   "codemirror_mode": {
    "name": "ipython",
    "version": 3
   },
   "file_extension": ".py",
   "mimetype": "text/x-python",
   "name": "python",
   "nbconvert_exporter": "python",
   "pygments_lexer": "ipython3",
   "version": "3.11.9"
  },
  "papermill": {
   "default_parameters": {},
   "duration": 8.404607,
   "end_time": "2024-08-23T06:51:10.499300",
   "environment_variables": {},
   "exception": null,
   "input_path": "src/model_1/train/train.ipynb",
   "output_path": "src/model_1/train/train_out.ipynb",
   "parameters": {},
   "start_time": "2024-08-23T06:51:02.094693",
   "version": "2.6.0"
  }
 },
 "nbformat": 4,
 "nbformat_minor": 5
}