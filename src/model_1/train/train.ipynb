{
 "cells": [
  {
   "cell_type": "code",
   "execution_count": null,
   "metadata": {},
   "outputs": [],
   "source": [
    "%pip install mlflow"
   ]
  },
  {
   "cell_type": "code",
   "execution_count": null,
   "metadata": {},
   "outputs": [],
   "source": [
    "%pip install boto3"
   ]
  },
  {
   "cell_type": "code",
   "execution_count": null,
   "metadata": {},
   "outputs": [],
   "source": [
    "%pip install dvc"
   ]
  },
  {
   "cell_type": "code",
   "execution_count": null,
   "metadata": {},
   "outputs": [],
   "source": []
  },
  {
   "cell_type": "code",
   "execution_count": null,
   "metadata": {},
   "outputs": [],
   "source": [
    "import os\n",
    "import pandas as pd\n",
    "import numpy as np\n",
    "from sklearn.model_selection import train_test_split\n",
    "from sklearn.metrics import mean_squared_error\n",
    "from sklearn.linear_model import LinearRegression\n",
    "from dotenv import load_dotenv\n",
    "from yaml import load, Loader\n",
    "import yaml\n",
    "from pathlib import Path\n",
    "import dvc.api\n",
    "import mlflow\n",
    "\n",
    "load_dotenv()\n",
    "\n",
    "MODEL_1_LOAD_DATA_PATH=os.environ.get(\"MODEL_1_LOAD_DATA_PATH\")\n",
    "MODEL_1_TRANSFORM_DATA_PATH=os.environ.get(\"MODEL_1_TRANSFORM_DATA_PATH\")\n",
    "MODEL_1_TRAIN_DATA_PATH=os.environ.get(\"MODEL_1_TRAIN_DATA_PATH\")\n",
    "MODEL_1_MODEL_DATA_PATH=os.environ.get(\"MODEL_1_MODEL_DATA_PATH\")\n",
    "MODEL_1_TRAIN_CONFIG_PATH=os.environ.get(\"MODEL_1_TRAIN_CONFIG_PATH\")\n",
    "MODEL_1_SAVED_PARAMS = os.environ.get(\"MODEL_1_SAVED_PARAMS\")\n",
    "MODEL_1_TRAIN_FILE_DATA_PATH = os.environ.get(\"MODEL_1_TRAIN_FILE_DATA_PATH\")\n",
    "\n",
    "MLFLOW_ENDPOINT_URL = os.environ.get(\"MLFLOW_ENDPOINT_URL\")\n",
    "\n",
    "\n",
    "mlflow.set_tracking_uri(MLFLOW_ENDPOINT_URL)\n",
    "\n",
    "with mlflow.start_run():\n",
    "\n",
    "    run = mlflow.active_run()\n",
    "    print(\"Active run_id: {}\".format(run.info.run_id))\n",
    "\n",
    "    with open(MODEL_1_TRAIN_CONFIG_PATH, \"r\") as conf:\n",
    "        train_config = load(conf, Loader=Loader)[\"train_config\"]\n",
    "\n",
    "    dataset = pd.read_csv(str(Path(MODEL_1_TRANSFORM_DATA_PATH) / 'prepared_data.csv' ))\n",
    "    target = pd.read_csv(str(Path(MODEL_1_LOAD_DATA_PATH) / \"target.csv\" ))  #Fix this later\n",
    "\n",
    "    train_index, validation_index = train_test_split(dataset.index, \n",
    "                                                     test_size=train_config[\"validation_size\"])\n",
    "\n",
    "    train_index, test_index = train_test_split(train_index, \n",
    "                                                   test_size=train_config[\"test_size\"])\n",
    "\n",
    "    model = LinearRegression()\n",
    "    model.fit(dataset.loc[train_index], target.loc[train_index])\n",
    "\n",
    "    train_mse = mean_squared_error(target.loc[test_index], \n",
    "                                   model.predict(dataset.loc[test_index]))\n",
    "\n",
    "    test_mse = mean_squared_error(target.loc[train_index], \n",
    "                                  model.predict(dataset.loc[train_index]))\n",
    "\n",
    "    validation_mse = mean_squared_error(target.loc[validation_index], \n",
    "                                        model.predict(dataset.loc[validation_index]))\n",
    "    \n",
    "\n",
    "    mlflow.log_param(\"run_id\", run.info.run_id)\n",
    "    mlflow.log_param(\"data_path\", str(dvc.api.get_url(path=MODEL_1_TRAIN_FILE_DATA_PATH)))\n",
    "\n",
    "    mlflow.log_metric(\"train_mse\", train_mse)\n",
    "    mlflow.log_metric(\"test_mse\", test_mse)\n",
    "    mlflow.log_metric(\"validation_mse\", validation_mse)\n",
    "    \n",
    "    mlflow.sklearn.log_model(model, \"model\")\n",
    "\n",
    "    params = {\n",
    "        'run_id': run.info.run_id\n",
    "    }\n",
    "    \n",
    "    with open(MODEL_1_SAVED_PARAMS, 'w') as pfile:\n",
    "        yaml.dump(params, pfile, default_flow_style=False)\n"
   ]
  }
 ],
 "metadata": {
  "language_info": {
   "name": "python"
  }
 },
 "nbformat": 4,
 "nbformat_minor": 2
}
