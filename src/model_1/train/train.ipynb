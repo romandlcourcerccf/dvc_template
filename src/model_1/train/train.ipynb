{
 "cells": [
  {
   "cell_type": "code",
   "execution_count": null,
   "metadata": {},
   "outputs": [],
   "source": [
    "# %pip install mlflow"
   ]
  },
  {
   "cell_type": "code",
   "execution_count": null,
   "metadata": {},
   "outputs": [],
   "source": [
    "# %pip install boto3"
   ]
  },
  {
   "cell_type": "code",
   "execution_count": null,
   "metadata": {},
   "outputs": [],
   "source": [
    "# %pip install \"dvc[s3]\""
   ]
  },
  {
   "cell_type": "code",
   "execution_count": null,
   "metadata": {},
   "outputs": [],
   "source": [
    "# %pip install dvc-s3"
   ]
  },
  {
   "cell_type": "code",
   "execution_count": null,
   "metadata": {},
   "outputs": [],
   "source": [
    "# %pip install catboost"
   ]
  },
  {
   "cell_type": "code",
   "execution_count": null,
   "metadata": {},
   "outputs": [],
   "source": [
    "import os\n",
    "import pandas as pd\n",
    "import numpy as np\n",
    "from sklearn.metrics import mean_absolute_error\n",
    "from sklearn.linear_model import LinearRegression\n",
    "from dotenv import load_dotenv\n",
    "from yaml import load, Loader\n",
    "import yaml\n",
    "from pathlib import Path\n",
    "import dvc.api\n",
    "import mlflow\n",
    "import json\n",
    "import pyarrow as pa\n",
    "import pyarrow.parquet as pq\n",
    "import pandas as pd\n",
    "\n",
    "from catboost import CatBoostRegressor\n",
    "\n",
    "\n",
    "load_dotenv()\n",
    "\n",
    "SAVED_PARAMS  =  os.environ.get('MODEL_1_SAVED_PARAMS')\n",
    "\n",
    "TRANSFORM_DATA_PATH = os.environ.get('MODEL_1_TRANSFORM_DATA_PATH')\n",
    "\n",
    "X_TRAIN_FILE = os.environ.get('MODEL_1_TRANSFORM_DATA_FILE_TRAIN_X')\n",
    "Y_TRAIN_FILE =  os.environ.get('MODEL_1_TRANSFORM_DATA_FILE_TRAIN_Y')\n",
    "X_TEST_FILE = os.environ.get('MODEL_1_TRANSFORM_DATA_FILE_TEST_X')\n",
    "Y_TEST_FILE =  os.environ.get('MODEL_1_TRANSFORM_DATA_FILE_TEST_Y')\n",
    "\n",
    "MLFLOW_ENDPOINT_URL = os.environ.get(\"MLFLOW_ENDPOINT_URL\")\n",
    "MODEL_1_TRAIN_CONFIG_PATH=os.environ.get(\"MODEL_1_TRAIN_CONFIG_PATH\")\n",
    "MODEL_1_MODEL_METRICS = os.environ.get(\"MODEL_1_MODEL_METRICS\")\n",
    "\n",
    "X_TRAIN_DATA = str(Path(TRANSFORM_DATA_PATH) / X_TRAIN_FILE)\n",
    "X_train = pq.read_table(X_TRAIN_DATA).to_pandas()\n",
    "\n",
    "Y_TRAIN_DATA = str(Path(TRANSFORM_DATA_PATH) / Y_TRAIN_FILE)\n",
    "y_train = pq.read_table(Y_TRAIN_DATA).to_pandas()\n",
    "\n",
    "\n",
    "X_TEST_DATA = str(Path(TRANSFORM_DATA_PATH) / X_TEST_FILE)\n",
    "X_test = pq.read_table(X_TEST_DATA).to_pandas()\n",
    "\n",
    "Y_TEST_DATA = str(Path(TRANSFORM_DATA_PATH) / Y_TEST_FILE)\n",
    "y_test = pq.read_table(Y_TEST_DATA).to_pandas()\n",
    "\n",
    "mlflow.set_tracking_uri(MLFLOW_ENDPOINT_URL)\n",
    "\n",
    "with mlflow.start_run():\n",
    "\n",
    "    run = mlflow.active_run()\n",
    "    run_id = run.info.run_id\n",
    "\n",
    "    print(f\"Active run_id: {run_id}\")\n",
    "\n",
    "    with open(MODEL_1_TRAIN_CONFIG_PATH, \"r\") as conf:\n",
    "        train_config = load(conf, Loader=Loader)[\"train_config\"]\n",
    "    \n",
    "    model = CatBoostRegressor(iterations=train_config['iterations'],\n",
    "                               learning_rate=train_config['learning_rate'],\n",
    "                                depth=train_config['depth'],\n",
    "                                verbose=train_config['verbose'])\n",
    "\n",
    "    model.fit(X_train, y_train)\n",
    "\n",
    "    y_pred = model.predict(X_test)\n",
    "\n",
    "    mae = mean_absolute_error(y_test, y_pred)\n",
    "\n",
    "    mlflow.log_metric(\"mae\", mae)\n",
    "\n",
    "    with open(MODEL_1_MODEL_METRICS, 'w') as pfile:\n",
    "        json.dump({'mae':mae}, pfile)\n",
    "        \n",
    "    mlflow.catboost.log_model(model, \"model\")\n",
    "    \n",
    "    mlflow.log_param(\"X_train\", str(dvc.api.get_url(path=str(Path(TRANSFORM_DATA_PATH) / X_TRAIN_FILE))))\n",
    "    mlflow.log_param(\"y_train\", str(dvc.api.get_url(path=str(Path(TRANSFORM_DATA_PATH) / Y_TRAIN_FILE) )))\n",
    "    mlflow.log_param(\"X_test\", str(dvc.api.get_url(path=str(Path(TRANSFORM_DATA_PATH) / X_TEST_FILE))))\n",
    "    mlflow.log_param(\"y_test\", str(dvc.api.get_url(path=str(Path(TRANSFORM_DATA_PATH) / Y_TEST_FILE))))\n",
    " \n",
    "    with open(SAVED_PARAMS, 'w') as pfile:\n",
    "        json.dump({'run_id': run_id}, pfile)\n"
   ]
  }
 ],
 "metadata": {
  "language_info": {
   "name": "python"
  }
 },
 "nbformat": 4,
 "nbformat_minor": 2
}
