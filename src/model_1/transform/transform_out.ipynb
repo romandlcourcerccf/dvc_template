{
 "cells": [
  {
   "cell_type": "code",
   "execution_count": 1,
   "id": "4b052e91",
   "metadata": {
    "execution": {
     "iopub.execute_input": "2024-08-22T14:24:07.630508Z",
     "iopub.status.busy": "2024-08-22T14:24:07.630013Z",
     "iopub.status.idle": "2024-08-22T14:24:08.300385Z",
     "shell.execute_reply": "2024-08-22T14:24:08.300172Z"
    },
    "papermill": {
     "duration": 0.676887,
     "end_time": "2024-08-22T14:24:08.301249",
     "exception": false,
     "start_time": "2024-08-22T14:24:07.624362",
     "status": "completed"
    },
    "tags": []
   },
   "outputs": [],
   "source": [
    "from dotenv import load_dotenv\n",
    "load_dotenv()\n",
    "import os\n",
    "from pathlib import Path\n",
    "from sklearn.model_selection import train_test_split\n",
    "\n",
    "import pyarrow as pa\n",
    "import pyarrow.parquet as pq\n",
    "import pandas as pd\n",
    "\n",
    "LOAD_DATA_PATH = os.environ.get(\"MODEL_1_LOAD_DATA_PATH\")\n",
    "LOAD_DATA_FILE = os.environ.get(\"MODEL_1_LOAD_DATA_FILE\")\n",
    "\n",
    "\n",
    "import pyarrow as pa\n",
    "import pyarrow.parquet as pq\n",
    "\n",
    "RAW_DATA = str(Path(LOAD_DATA_PATH) / LOAD_DATA_FILE)\n",
    "\n",
    "data = pq.read_table(RAW_DATA).to_pandas()\n",
    "data['Date'] = data.index\n",
    "data.reset_index(drop=True, inplace=True)\n",
    "\n",
    "\n",
    "data['Year'] = data['Date'].dt.year\n",
    "data['Month'] = data['Date'].dt.month\n",
    "data['Day'] = data['Date'].dt.day\n",
    "\n",
    "features = ['Open', 'High', 'Low', 'Volume', 'Year', 'Month', 'Day']\n",
    "target = 'Close'\n",
    "\n",
    "X = data[features]\n",
    "y = data[target]\n",
    "\n",
    "X_train, X_test, y_train, y_test = train_test_split(X, y, test_size=0.2, random_state=42)\n",
    "\n",
    "\n",
    "TRANSFORM_DATA_PATH = os.environ.get('MODEL_1_TRANSFORM_DATA_PATH')\n",
    "\n",
    "X_TRAIN_FILE = os.environ.get('MODEL_1_TRANSFORM_DATA_FILE_TRAIN_X')\n",
    "Y_TRAIN_FILE =  os.environ.get('MODEL_1_TRANSFORM_DATA_FILE_TRAIN_Y')\n",
    "X_TEST_FILE = os.environ.get('MODEL_1_TRANSFORM_DATA_FILE_TEST_X')\n",
    "Y_TEST_FILE =  os.environ.get('MODEL_1_TRANSFORM_DATA_FILE_TEST_Y')"
   ]
  },
  {
   "cell_type": "code",
   "execution_count": 2,
   "id": "6edec870",
   "metadata": {
    "execution": {
     "iopub.execute_input": "2024-08-22T14:24:08.302727Z",
     "iopub.status.busy": "2024-08-22T14:24:08.302603Z",
     "iopub.status.idle": "2024-08-22T14:24:08.308495Z",
     "shell.execute_reply": "2024-08-22T14:24:08.308310Z"
    },
    "papermill": {
     "duration": 0.007521,
     "end_time": "2024-08-22T14:24:08.309360",
     "exception": false,
     "start_time": "2024-08-22T14:24:08.301839",
     "status": "completed"
    },
    "tags": []
   },
   "outputs": [],
   "source": [
    "p_data = pa.Table.from_pandas(X_train)\n",
    "pq.write_table(p_data, Path(TRANSFORM_DATA_PATH) / X_TRAIN_FILE)\n",
    "\n",
    "p_data = pa.Table.from_pandas(y_train.to_frame())\n",
    "pq.write_table(p_data, Path(TRANSFORM_DATA_PATH) / Y_TRAIN_FILE)\n",
    "\n",
    "p_data = pa.Table.from_pandas(X_test)\n",
    "pq.write_table(p_data, Path(TRANSFORM_DATA_PATH) / X_TEST_FILE)\n",
    "\n",
    "p_data = pa.Table.from_pandas(y_test.to_frame())\n",
    "pq.write_table(p_data, Path(TRANSFORM_DATA_PATH) / Y_TEST_FILE)"
   ]
  }
 ],
 "metadata": {
  "kernelspec": {
   "display_name": "dvc_template",
   "language": "python",
   "name": "python3"
  },
  "language_info": {
   "codemirror_mode": {
    "name": "ipython",
    "version": 3
   },
   "file_extension": ".py",
   "mimetype": "text/x-python",
   "name": "python",
   "nbconvert_exporter": "python",
   "pygments_lexer": "ipython3",
   "version": "3.11.9"
  },
  "papermill": {
   "default_parameters": {},
   "duration": 1.711314,
   "end_time": "2024-08-22T14:24:08.534661",
   "environment_variables": {},
   "exception": null,
   "input_path": "src/model_1/transform/transform.ipynb",
   "output_path": "src/model_1/transform/transform_out.ipynb",
   "parameters": {},
   "start_time": "2024-08-22T14:24:06.823347",
   "version": "2.6.0"
  }
 },
 "nbformat": 4,
 "nbformat_minor": 5
}