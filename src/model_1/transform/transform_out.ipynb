{
 "cells": [
  {
   "cell_type": "code",
   "execution_count": 1,
   "id": "4bfdd5d8",
   "metadata": {
    "execution": {
     "iopub.execute_input": "2024-08-27T13:01:32.833029Z",
     "iopub.status.busy": "2024-08-27T13:01:32.832451Z",
     "iopub.status.idle": "2024-08-27T13:01:32.935705Z",
     "shell.execute_reply": "2024-08-27T13:01:32.935411Z"
    },
    "papermill": {
     "duration": 0.112051,
     "end_time": "2024-08-27T13:01:32.936638",
     "exception": false,
     "start_time": "2024-08-27T13:01:32.824587",
     "status": "completed"
    },
    "tags": []
   },
   "outputs": [],
   "source": [
    "import os\n",
    "from pathlib import Path\n",
    "\n",
    "from hydra import initialize_config_dir, compose\n",
    "\n",
    "with initialize_config_dir(version_base=None, config_dir=str(Path(os.get_exec_path()[0]).parent.parent / 'config')):\n",
    "\n",
    "    cfg=compose(overrides= [\"+models=model_1\"])\n",
    "    cfg = cfg['models']\n",
    "\n",
    "    LOAD_DATA_PATH = cfg['load']['LOAD_DATA_PATH']\n",
    "    LOAD_DATA_FILE = cfg['load']['LOAD_DATA_FILE']\n",
    "\n",
    "    TRANSFORM_DATA_PATH = cfg['transform']['TRANSFORM_DATA_PATH']\n",
    "\n",
    "    X_TRAIN_FILE = cfg['transform']['TRANSFORM_DATA_FILE_TRAIN_X']\n",
    "    Y_TRAIN_FILE =  cfg['transform']['TRANSFORM_DATA_FILE_TRAIN_Y']\n",
    "    X_TEST_FILE = cfg['transform']['TRANSFORM_DATA_FILE_TEST_X']\n",
    "    Y_TEST_FILE =  cfg['transform']['TRANSFORM_DATA_FILE_TEST_Y']"
   ]
  },
  {
   "cell_type": "code",
   "execution_count": 2,
   "id": "4dae0506",
   "metadata": {
    "execution": {
     "iopub.execute_input": "2024-08-27T13:01:32.938214Z",
     "iopub.status.busy": "2024-08-27T13:01:32.938118Z",
     "iopub.status.idle": "2024-08-27T13:01:33.677224Z",
     "shell.execute_reply": "2024-08-27T13:01:33.677006Z"
    },
    "papermill": {
     "duration": 0.740786,
     "end_time": "2024-08-27T13:01:33.678097",
     "exception": false,
     "start_time": "2024-08-27T13:01:32.937311",
     "status": "completed"
    },
    "tags": []
   },
   "outputs": [],
   "source": [
    "import os\n",
    "from pathlib import Path\n",
    "from sklearn.model_selection import train_test_split\n",
    "\n",
    "import pyarrow as pa\n",
    "import pyarrow.parquet as pq\n",
    "\n",
    "RAW_DATA = str(Path(LOAD_DATA_PATH) / LOAD_DATA_FILE)\n",
    "\n",
    "data = pq.read_table(RAW_DATA).to_pandas()\n",
    "data['Date'] = data.index\n",
    "data.reset_index(drop=True, inplace=True)\n",
    "\n",
    "\n",
    "data['Year'] = data['Date'].dt.year\n",
    "data['Month'] = data['Date'].dt.month\n",
    "data['Day'] = data['Date'].dt.day\n",
    "\n",
    "features = ['Open', 'High', 'Low', 'Volume', 'Year', 'Month', 'Day']\n",
    "target = 'Close'\n",
    "\n",
    "X = data[features]\n",
    "y = data[target]\n",
    "\n",
    "X_train, X_test, y_train, y_test = train_test_split(X, y, test_size=0.2, random_state=42)"
   ]
  },
  {
   "cell_type": "code",
   "execution_count": 3,
   "id": "c11dbc5d",
   "metadata": {
    "execution": {
     "iopub.execute_input": "2024-08-27T13:01:33.679556Z",
     "iopub.status.busy": "2024-08-27T13:01:33.679434Z",
     "iopub.status.idle": "2024-08-27T13:01:33.687011Z",
     "shell.execute_reply": "2024-08-27T13:01:33.686786Z"
    },
    "papermill": {
     "duration": 0.009171,
     "end_time": "2024-08-27T13:01:33.687825",
     "exception": false,
     "start_time": "2024-08-27T13:01:33.678654",
     "status": "completed"
    },
    "tags": []
   },
   "outputs": [],
   "source": [
    "import pyarrow as pa\n",
    "import pyarrow.parquet as pq\n",
    "\n",
    "p_data = pa.Table.from_pandas(X_train)\n",
    "pq.write_table(p_data, Path(TRANSFORM_DATA_PATH) / X_TRAIN_FILE)\n",
    "\n",
    "p_data = pa.Table.from_pandas(y_train.to_frame())\n",
    "pq.write_table(p_data, Path(TRANSFORM_DATA_PATH) / Y_TRAIN_FILE)\n",
    "\n",
    "p_data = pa.Table.from_pandas(X_test)\n",
    "pq.write_table(p_data, Path(TRANSFORM_DATA_PATH) / X_TEST_FILE)\n",
    "\n",
    "p_data = pa.Table.from_pandas(y_test.to_frame())\n",
    "pq.write_table(p_data, Path(TRANSFORM_DATA_PATH) / Y_TEST_FILE)"
   ]
  }
 ],
 "metadata": {
  "kernelspec": {
   "display_name": "dvc_template",
   "language": "python",
   "name": "python3"
  },
  "language_info": {
   "codemirror_mode": {
    "name": "ipython",
    "version": 3
   },
   "file_extension": ".py",
   "mimetype": "text/x-python",
   "name": "python",
   "nbconvert_exporter": "python",
   "pygments_lexer": "ipython3",
   "version": "3.11.9"
  },
  "papermill": {
   "default_parameters": {},
   "duration": 1.941063,
   "end_time": "2024-08-27T13:01:33.904291",
   "environment_variables": {},
   "exception": null,
   "input_path": "src/model_1/transform/transform.ipynb",
   "output_path": "src/model_1/transform/transform_out.ipynb",
   "parameters": {},
   "start_time": "2024-08-27T13:01:31.963228",
   "version": "2.6.0"
  }
 },
 "nbformat": 4,
 "nbformat_minor": 5
}