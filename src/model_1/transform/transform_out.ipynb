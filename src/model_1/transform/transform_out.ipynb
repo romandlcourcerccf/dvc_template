{
 "cells": [
  {
   "cell_type": "code",
   "execution_count": 1,
   "id": "102b2c50",
   "metadata": {
    "execution": {
     "iopub.execute_input": "2024-08-26T12:04:33.723459Z",
     "iopub.status.busy": "2024-08-26T12:04:33.722392Z",
     "iopub.status.idle": "2024-08-26T12:04:33.831430Z",
     "shell.execute_reply": "2024-08-26T12:04:33.831201Z"
    },
    "papermill": {
     "duration": 0.118253,
     "end_time": "2024-08-26T12:04:33.832514",
     "exception": false,
     "start_time": "2024-08-26T12:04:33.714261",
     "status": "completed"
    },
    "tags": []
   },
   "outputs": [],
   "source": [
    "import os\n",
    "from pathlib import Path\n",
    "\n",
    "from hydra import initialize_config_dir, compose\n",
    "\n",
    "with initialize_config_dir(version_base=None, config_dir=str(Path(os.get_exec_path()[0]).parent.parent / 'config')):\n",
    "\n",
    "    cfg=compose(overrides= [\"+models=model_1\"])\n",
    "    cfg = cfg['models']\n",
    "\n",
    "    LOAD_DATA_PATH = cfg['load']['LOAD_DATA_PATH']\n",
    "    LOAD_DATA_FILE = cfg['load']['LOAD_DATA_FILE']\n",
    "\n",
    "    TRANSFORM_DATA_PATH = cfg['transform']['TRANSFORM_DATA_PATH']\n",
    "\n",
    "    X_TRAIN_FILE = cfg['transform']['TRANSFORM_DATA_FILE_TRAIN_X']\n",
    "    Y_TRAIN_FILE =  cfg['transform']['TRANSFORM_DATA_FILE_TRAIN_Y']\n",
    "    X_TEST_FILE = cfg['transform']['TRANSFORM_DATA_FILE_TEST_X']\n",
    "    Y_TEST_FILE =  cfg['transform']['TRANSFORM_DATA_FILE_TEST_Y']"
   ]
  },
  {
   "cell_type": "code",
   "execution_count": 2,
   "id": "f0300ba0",
   "metadata": {
    "execution": {
     "iopub.execute_input": "2024-08-26T12:04:33.834305Z",
     "iopub.status.busy": "2024-08-26T12:04:33.834193Z",
     "iopub.status.idle": "2024-08-26T12:04:34.614484Z",
     "shell.execute_reply": "2024-08-26T12:04:34.614205Z"
    },
    "papermill": {
     "duration": 0.782616,
     "end_time": "2024-08-26T12:04:34.615852",
     "exception": false,
     "start_time": "2024-08-26T12:04:33.833236",
     "status": "completed"
    },
    "tags": []
   },
   "outputs": [],
   "source": [
    "import os\n",
    "from pathlib import Path\n",
    "from sklearn.model_selection import train_test_split\n",
    "\n",
    "import pyarrow as pa\n",
    "import pyarrow.parquet as pq\n",
    "\n",
    "RAW_DATA = str(Path(LOAD_DATA_PATH) / LOAD_DATA_FILE)\n",
    "\n",
    "data = pq.read_table(RAW_DATA).to_pandas()\n",
    "data['Date'] = data.index\n",
    "data.reset_index(drop=True, inplace=True)\n",
    "\n",
    "\n",
    "data['Year'] = data['Date'].dt.year\n",
    "data['Month'] = data['Date'].dt.month\n",
    "data['Day'] = data['Date'].dt.day\n",
    "\n",
    "features = ['Open', 'High', 'Low', 'Volume', 'Year', 'Month', 'Day']\n",
    "target = 'Close'\n",
    "\n",
    "X = data[features]\n",
    "y = data[target]\n",
    "\n",
    "X_train, X_test, y_train, y_test = train_test_split(X, y, test_size=0.2, random_state=42)"
   ]
  },
  {
   "cell_type": "code",
   "execution_count": 3,
   "id": "97a6f347",
   "metadata": {
    "execution": {
     "iopub.execute_input": "2024-08-26T12:04:34.617910Z",
     "iopub.status.busy": "2024-08-26T12:04:34.617745Z",
     "iopub.status.idle": "2024-08-26T12:04:34.627358Z",
     "shell.execute_reply": "2024-08-26T12:04:34.627126Z"
    },
    "papermill": {
     "duration": 0.011457,
     "end_time": "2024-08-26T12:04:34.628288",
     "exception": false,
     "start_time": "2024-08-26T12:04:34.616831",
     "status": "completed"
    },
    "tags": []
   },
   "outputs": [],
   "source": [
    "import pyarrow as pa\n",
    "import pyarrow.parquet as pq\n",
    "\n",
    "p_data = pa.Table.from_pandas(X_train)\n",
    "pq.write_table(p_data, Path(TRANSFORM_DATA_PATH) / X_TRAIN_FILE)\n",
    "\n",
    "p_data = pa.Table.from_pandas(y_train.to_frame())\n",
    "pq.write_table(p_data, Path(TRANSFORM_DATA_PATH) / Y_TRAIN_FILE)\n",
    "\n",
    "p_data = pa.Table.from_pandas(X_test)\n",
    "pq.write_table(p_data, Path(TRANSFORM_DATA_PATH) / X_TEST_FILE)\n",
    "\n",
    "p_data = pa.Table.from_pandas(y_test.to_frame())\n",
    "pq.write_table(p_data, Path(TRANSFORM_DATA_PATH) / Y_TEST_FILE)"
   ]
  }
 ],
 "metadata": {
  "kernelspec": {
   "display_name": "dvc_template",
   "language": "python",
   "name": "python3"
  },
  "language_info": {
   "codemirror_mode": {
    "name": "ipython",
    "version": 3
   },
   "file_extension": ".py",
   "mimetype": "text/x-python",
   "name": "python",
   "nbconvert_exporter": "python",
   "pygments_lexer": "ipython3",
   "version": "3.11.9"
  },
  "papermill": {
   "default_parameters": {},
   "duration": 1.939504,
   "end_time": "2024-08-26T12:04:34.845211",
   "environment_variables": {},
   "exception": null,
   "input_path": "src/model_1/transform/transform.ipynb",
   "output_path": "src/model_1/transform/transform_out.ipynb",
   "parameters": {},
   "start_time": "2024-08-26T12:04:32.905707",
   "version": "2.6.0"
  }
 },
 "nbformat": 4,
 "nbformat_minor": 5
}