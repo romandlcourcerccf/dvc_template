{
 "cells": [
  {
   "cell_type": "code",
   "execution_count": 1,
   "id": "410ea3ed",
   "metadata": {
    "execution": {
     "iopub.execute_input": "2024-08-16T12:58:00.828056Z",
     "iopub.status.busy": "2024-08-16T12:58:00.827571Z",
     "iopub.status.idle": "2024-08-16T12:58:01.266664Z",
     "shell.execute_reply": "2024-08-16T12:58:01.266408Z"
    },
    "papermill": {
     "duration": 0.44621,
     "end_time": "2024-08-16T12:58:01.267682",
     "exception": false,
     "start_time": "2024-08-16T12:58:00.821472",
     "status": "completed"
    },
    "tags": []
   },
   "outputs": [],
   "source": [
    "import os\n",
    "\n",
    "from dotenv import load_dotenv\n",
    "import pandas as pd\n",
    "from pathlib import Path\n",
    "\n",
    "load_dotenv()\n",
    "\n",
    "def fillna(dataset: pd.DataFrame) -> pd.DataFrame:\n",
    "\n",
    "    prepare_dataset = dataset.copy()\n",
    "    for i, column in enumerate(dataset.columns):\n",
    "        if i % 2 == 0:\n",
    "            prepare_dataset[column] = prepare_dataset[column] - 1\n",
    "        else:\n",
    "            prepare_dataset[column] = prepare_dataset[column] - 2\n",
    "    \n",
    "    return prepare_dataset\n",
    "\n",
    "LOAD_DATA_PATH = os.environ.get(\"MODEL_1_LOAD_DATA_PATH\")\n",
    "TRANSFORM_DATA_PATH = os.environ.get(\"MODEL_1_TRANSFORM_DATA_PATH\")\n",
    "\n",
    "dataset = pd.read_csv(str(Path(LOAD_DATA_PATH) / 'initial_data.csv'))\n",
    "prepared_dataset = fillna(dataset=dataset)\n",
    "prepared_dataset.to_csv(str(Path(TRANSFORM_DATA_PATH) / 'prepared_data.csv' ))"
   ]
  }
 ],
 "metadata": {
  "language_info": {
   "codemirror_mode": {
    "name": "ipython",
    "version": 3
   },
   "file_extension": ".py",
   "mimetype": "text/x-python",
   "name": "python",
   "nbconvert_exporter": "python",
   "pygments_lexer": "ipython3",
   "version": "3.11.7"
  },
  "papermill": {
   "default_parameters": {},
   "duration": 1.615871,
   "end_time": "2024-08-16T12:58:01.382837",
   "environment_variables": {},
   "exception": null,
   "input_path": "src/model_1/transform/transform.ipynb",
   "output_path": "src/model_1/transform/transform_out.ipynb",
   "parameters": {},
   "start_time": "2024-08-16T12:57:59.766966",
   "version": "2.6.0"
  }
 },
 "nbformat": 4,
 "nbformat_minor": 5
}