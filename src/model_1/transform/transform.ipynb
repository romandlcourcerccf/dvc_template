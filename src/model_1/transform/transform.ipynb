{
 "cells": [
  {
   "cell_type": "code",
   "execution_count": null,
   "metadata": {},
   "outputs": [],
   "source": [
    "import os\n",
    "\n",
    "from dotenv import load_dotenv\n",
    "import pandas as pd\n",
    "from pathlib import Path\n",
    "\n",
    "load_dotenv()\n",
    "\n",
    "def fillna(dataset: pd.DataFrame) -> pd.DataFrame:\n",
    "\n",
    "    prepare_dataset = dataset.copy()\n",
    "    for i, column in enumerate(dataset.columns):\n",
    "        if i % 2 == 0:\n",
    "            prepare_dataset[column] = prepare_dataset[column] - 1\n",
    "        else:\n",
    "            prepare_dataset[column] = prepare_dataset[column] - 2\n",
    "    \n",
    "    return prepare_dataset\n",
    "\n",
    "LOAD_DATA_PATH = os.environ.get(\"MODEL_1_LOAD_DATA_PATH\")\n",
    "TRANSFORM_DATA_PATH = os.environ.get(\"MODEL_1_TRANSFORM_DATA_PATH\")\n",
    "\n",
    "dataset = pd.read_csv(str(Path(LOAD_DATA_PATH) / 'initial_data.csv'))\n",
    "prepared_dataset = fillna(dataset=dataset)\n",
    "prepared_dataset.to_csv(str(Path(TRANSFORM_DATA_PATH) / 'prepared_data.csv' ))"
   ]
  }
 ],
 "metadata": {
  "language_info": {
   "name": "python"
  }
 },
 "nbformat": 4,
 "nbformat_minor": 2
}
